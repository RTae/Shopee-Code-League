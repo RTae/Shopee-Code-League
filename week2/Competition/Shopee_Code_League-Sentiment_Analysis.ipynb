{
  "nbformat": 4,
  "nbformat_minor": 0,
  "metadata": {
    "colab": {
      "name": "Open-Quoders(56)-18jul2020.ipynb",
      "provenance": [],
      "machine_shape": "hm",
      "include_colab_link": true
    },
    "kernelspec": {
      "name": "python3",
      "display_name": "Python 3"
    },
    "accelerator": "GPU",
    "deepnote_notebook_id": "d82de37c-e294-4700-9302-1879deeffac0",
    "deepnote_execution_queue": []
  },
  "cells": [
    {
      "cell_type": "markdown",
      "metadata": {
        "id": "view-in-github",
        "colab_type": "text"
      },
      "source": [
        "<a href=\"https://colab.research.google.com/github/RTae/Shopee-Code-League/blob/master/week2/Competition/Shopee_Code_League-Sentiment_Analysis.ipynb\" target=\"_parent\"><img src=\"https://colab.research.google.com/assets/colab-badge.svg\" alt=\"Open In Colab\"/></a>"
      ]
    },
    {
      "cell_type": "markdown",
      "metadata": {
        "id": "EIPlIKGKzdCJ",
        "colab_type": "text",
        "cell_id": "a273b943-8f57-4376-967a-8aaced3970a6"
      },
      "source": [
        "# Import Data"
      ]
    },
    {
      "cell_type": "code",
      "metadata": {
        "tags": [],
        "cell_id": "5a393d3f-5880-41f9-805c-ff92de020e3e",
        "id": "upew_TaL6b51",
        "colab_type": "code",
        "colab": {}
      },
      "source": [
        "'''\n",
        "require python 3.7\n",
        "'''"
      ],
      "execution_count": null,
      "outputs": []
    },
    {
      "cell_type": "code",
      "metadata": {
        "tags": [],
        "cell_id": "ecd36159-ca76-43fd-8545-3324a119dcff",
        "id": "1qmfE-6x6b57",
        "colab_type": "code",
        "colab": {}
      },
      "source": [
        "!pip install numpy pandas"
      ],
      "execution_count": null,
      "outputs": []
    },
    {
      "cell_type": "code",
      "metadata": {
        "id": "JEUzgb1bvfov",
        "colab_type": "code",
        "cell_id": "bd2bbe64-41da-497d-bd18-e2f29bfb65ed",
        "colab": {}
      },
      "source": [
        "import numpy as np\n",
        "import pandas as pd"
      ],
      "execution_count": null,
      "outputs": []
    },
    {
      "cell_type": "code",
      "metadata": {
        "id": "J7dsNGR_wUj6",
        "colab_type": "code",
        "cell_id": "b95543f7-fc15-4680-a6bf-ed317b338e09",
        "colab": {}
      },
      "source": [
        "train = pd.read_csv('/home/jovyan/work/train.csv')\n",
        "test = pd.read_csv('/home/jovyan/work/test.csv')"
      ],
      "execution_count": null,
      "outputs": []
    },
    {
      "cell_type": "code",
      "metadata": {
        "tags": [],
        "cell_id": "489039a2-8d95-4662-9cb6-f3eb1e5eb58c",
        "id": "PuRnVOqh6b6L",
        "colab_type": "code",
        "colab": {},
        "outputId": "f1595b0e-249f-42f1-dbf8-cd5582838842"
      },
      "source": [
        "train"
      ],
      "execution_count": null,
      "outputs": [
        {
          "output_type": "execute_result",
          "data": {
            "application/vnd.deepnote.dataframe.v2+json": {
              "row_count": 146811,
              "column_count": 3,
              "columns": [
                {
                  "name": "review_id",
                  "dtype": "int64"
                },
                {
                  "name": "review",
                  "dtype": "object"
                },
                {
                  "name": "rating",
                  "dtype": "int64"
                }
              ],
              "rows_top": {
                "0": {
                  "review_id": 0,
                  "review": "Ga disappointed neat products .. Meletot Hilsnyaa Speed ​​of delivery is good.",
                  "rating": 1
                },
                "1": {
                  "review_id": 1,
                  "review": "Rdtanya replace broken glass, broken chargernya",
                  "rating": 1
                },
                "2": {
                  "review_id": 2,
                  "review": "Nyesel bngt dsni shopping antecedent photo message pictures gk according foto.di existing collagen super fit nyampe holo my house open ehhh collagen contents even in the face pdahal jg description super existing collagen originalnya.pas writing my check lg in photo captions already ma The change ma pictures that the face.",
                  "rating": 1
                },
                "3": {
                  "review_id": 3,
                  "review": "Sent a light blue suit goods ga want a refund",
                  "rating": 1
                },
                "4": {
                  "review_id": 4,
                  "review": "Pendants came with dents and scratches on its surface. The coating looks like it will change colour quickly. ",
                  "rating": 1
                },
                "5": {
                  "review_id": 5,
                  "review": "Dg yg depending being sent in photos",
                  "rating": 1
                },
                "6": {
                  "review_id": 6,
                  "review": "Hours not a hologram",
                  "rating": 1
                },
                "7": {
                  "review_id": 7,
                  "review": "Shop fraudulent business. we put two lamps, one shoe, one nozzle, one wallet, one of gardening mini, 2 bags of fragrant. the total amount including the 144.000d ship. after receipt of goods received only one shoe, one garden mini, 1 straw. still collect enough money but enough goods k. deceptive ah ???",
                  "rating": 1
                },
                "8": {
                  "review_id": 8,
                  "review": "Well, according to Price",
                  "rating": 1
                },
                "9": {
                  "review_id": 9,
                  "review": "Pictures and names of elise 7154, but the brand bg balqis other code. X necessarily the same things. Verry disappointed.",
                  "rating": 1
                },
                "10": {
                  "review_id": 10,
                  "review": "Not bubble paper tp its policy please do not abuse the buyer",
                  "rating": 1
                },
                "11": {
                  "review_id": 11,
                  "review": "Product quality standards",
                  "rating": 1
                },
                "12": {
                  "review_id": 12,
                  "review": "Very different each photograph ga realpict",
                  "rating": 1
                },
                "13": {
                  "review_id": 13,
                  "review": "KALO RULES DO NOT WANT TO PARTICIPATE IN CHAT COLOR CHANGE, YOU KNOW GA CAN TELL HER, NOT cultivated EXPECT PEOPLE THAT MAKE HIS NAME! SOK SOK GA DO NOT NEED THE SAME CUSTOMER YES, THERE ARE YOUR CUSTOMERS GA KALO how can JUALAN !!!!",
                  "rating": 1
                },
                "14": {
                  "review_id": 14,
                  "review": "Small headset sound long side and Delivery",
                  "rating": 1
                },
                "15": {
                  "review_id": 15,
                  "review": "Product received with different size ordered :(",
                  "rating": 1
                },
                "16": {
                  "review_id": 16,
                  "review": "The face shield were slightly bent. This is because it was not packed in bubble wrap,",
                  "rating": 1
                },
                "17": {
                  "review_id": 17,
                  "review": "A very small waist stretch to 34 inches.",
                  "rating": 1
                },
                "18": {
                  "review_id": 18,
                  "review": "Packaging badly damaged",
                  "rating": 1
                },
                "19": {
                  "review_id": 19,
                  "review": "Very thin fabric and bad, always afraid of tearing Style is the same shape but so beautiful k",
                  "rating": 1
                },
                "20": {
                  "review_id": 20,
                  "review": "I think the danger of fabric tightness .serasa rubber .eh less tasty. Understandably heck price is too cheap.",
                  "rating": 1
                },
                "21": {
                  "review_id": 21,
                  "review": "He bought out the company Takyah ni.dah la nak order lmbt shipout.pastu difficult to ask Ships .tidakkk post after then realized he langsung.susah org tu nak post bagai.lepas BRG that in order akaan came .There was not complete because less with the company already 5 times belie her organization because .5kali TU Ade masaalh.terukbetul",
                  "rating": 1
                },
                "22": {
                  "review_id": 22,
                  "review": "I would love star Tadinnya 5. Eh turns after the check can not cas hp same misplaced image. The same people who buy my own komplein. Excellent product quality excellent product price",
                  "rating": 1
                },
                "23": {
                  "review_id": 23,
                  "review": "Inaccurate size too small. ",
                  "rating": 1
                },
                "24": {
                  "review_id": 24,
                  "review": "Disappointed, received in the form of crushed cuman wear very thin cardboard wrapped. What's wrong with ditambahin wrap bubble wrap inside. Bubble wrap 1 rolls wrote an cuman twelve thousand lots that sell and can be cut into several shipments.",
                  "rating": 1
                },
                "25": {
                  "review_id": 25,
                  "review": "Munting ya ga ga kepake complete the same pipe as well.",
                  "rating": 1
                },
                "26": {
                  "review_id": 26,
                  "review": " The product quality is not good",
                  "rating": 1
                },
                "27": {
                  "review_id": 27,
                  "review": "Shoddy",
                  "rating": 1
                },
                "28": {
                  "review_id": 28,
                  "review": "Ga included in the package",
                  "rating": 1
                },
                "29": {
                  "review_id": 29,
                  "review": " Delivery speed is not good.",
                  "rating": 1
                },
                "30": {
                  "review_id": 30,
                  "review": "Received wrong item.",
                  "rating": 1
                },
                "31": {
                  "review_id": 31,
                  "review": "3 have been smashed box looks bored look, so do not run the Bored do not want to say Hrdjdkodpdbdbekaoksvf fvehhsvdvf. Bevd d f gf dhsjsjgdvdvfvgvtvtbhfklfk",
                  "rating": 1
                },
                "32": {
                  "review_id": 32,
                  "review": " Poor product quality",
                  "rating": 1
                },
                "33": {
                  "review_id": 33,
                  "review": "Lacking those items, those filters only sent!",
                  "rating": 1
                },
                "34": {
                  "review_id": 34,
                  "review": "It was frustrating seeing order but not received q ... less ung item sent nila..dapat double check them before ipadala😔",
                  "rating": 1
                },
                "35": {
                  "review_id": 35,
                  "review": "Doing business as narrowly",
                  "rating": 1
                },
                "36": {
                  "review_id": 36,
                  "review": "Austria also lost all so long, thin cloth to cover the wear like k wear, only bad roads, bad fabric, ... really too disappointed.",
                  "rating": 1
                },
                "37": {
                  "review_id": 37,
                  "review": "Poor quality Damaged / Defective item",
                  "rating": 1
                },
                "38": {
                  "review_id": 38,
                  "review": "the display is not same with the d-sales. Very poor product quality",
                  "rating": 1
                },
                "39": {
                  "review_id": 39,
                  "review": "Avon enorder we piro beach provided",
                  "rating": 1
                },
                "40": {
                  "review_id": 40,
                  "review": "Message 3 Same ko sis",
                  "rating": 1
                },
                "41": {
                  "review_id": 41,
                  "review": "Got wrong set of stickers. Not the same as posted in the ad. :( ",
                  "rating": 1
                },
                "42": {
                  "review_id": 42,
                  "review": "Looks used. Seller claims cannot get 💯 perfect from factory. Disappointed bec bought several items along with this and i got bad quality for this item",
                  "rating": 1
                },
                "43": {
                  "review_id": 43,
                  "review": "Please kembaliin his money ... klo you want a good value ...",
                  "rating": 1
                },
                "44": {
                  "review_id": 44,
                  "review": "Store clad leery of sending incomplete.",
                  "rating": 1
                },
                "45": {
                  "review_id": 45,
                  "review": "Pesen color apostate. Red mouth dh d d kirim..pdhl ingetin initial dr",
                  "rating": 1
                },
                "46": {
                  "review_id": 46,
                  "review": "The thin already in Me This I ordered the black assorted sent haays..Sana said nyo..kayo also follow shovel",
                  "rating": 1
                },
                "47": {
                  "review_id": 47,
                  "review": "Need for speed 4 The installation does not have the same trouble.",
                  "rating": 1
                },
                "48": {
                  "review_id": 48,
                  "review": " The product quality is not good",
                  "rating": 1
                },
                "49": {
                  "review_id": 49,
                  "review": "Materials and colors of jeans do not fit in the picture ....",
                  "rating": 1
                },
                "50": {
                  "review_id": 50,
                  "review": "The quality is very good and the prices are very good products and kecepat sender ,, ,,, cpt bangat mksh",
                  "rating": 1
                },
                "51": {
                  "review_id": 51,
                  "review": "If the bend easily broken ,,,,,,,,,,,,,,,,,,,,,,",
                  "rating": 1
                },
                "52": {
                  "review_id": 52,
                  "review": "The goods are not delivered",
                  "rating": 1
                },
                "53": {
                  "review_id": 53,
                  "review": "I'm just not used privately. Blackhead in full",
                  "rating": 1
                },
                "54": {
                  "review_id": 54,
                  "review": "Do not use if sold separately kan + Kirain same .. .. Gk tongsis her know only cable",
                  "rating": 1
                },
                "55": {
                  "review_id": 55,
                  "review": " Bad bad quality merchandise value CP",
                  "rating": 1
                },
                "56": {
                  "review_id": 56,
                  "review": " Delivery time below expectation",
                  "rating": 1
                },
                "57": {
                  "review_id": 57,
                  "review": "Product quality has really bad enough With photo merchandise is simply bad days Also there have been brag! ",
                  "rating": 1
                },
                "58": {
                  "review_id": 58,
                  "review": " Speed ​​of delivery is good. The response is not good sellers.",
                  "rating": 1
                },
                "59": {
                  "review_id": 59,
                  "review": "Different sizes of ordered .... but yasudahlah",
                  "rating": 1
                },
                "60": {
                  "review_id": 60,
                  "review": "Already tell the seller that i order latias.but still give me different item. I got elmo instead. Sad. ",
                  "rating": 1
                },
                "61": {
                  "review_id": 61,
                  "review": "Her shoe ugly, dirty and light bangat",
                  "rating": 1
                },
                "62": {
                  "review_id": 62,
                  "review": "Her bli past two antecedent kiirm one",
                  "rating": 1
                },
                "63": {
                  "review_id": 63,
                  "review": " Are not worth the money",
                  "rating": 1
                },
                "64": {
                  "review_id": 64,
                  "review": "Damaged / Defective item ",
                  "rating": 1
                },
                "65": {
                  "review_id": 65,
                  "review": "Not for 5yr old..... ",
                  "rating": 1
                },
                "66": {
                  "review_id": 66,
                  "review": " Speed ​​of delivery is good.",
                  "rating": 1
                },
                "67": {
                  "review_id": 67,
                  "review": "5p 'flew color",
                  "rating": 1
                },
                "68": {
                  "review_id": 68,
                  "review": "Its not exactly cover We never buy outside zebra fabric is so much I want to have another set, but I did not order this, okay.",
                  "rating": 1
                },
                "69": {
                  "review_id": 69,
                  "review": "Very disappointed, the message that comes even mickymose😣😣 hellokity dong please reply amanah👎",
                  "rating": 1
                },
                "70": {
                  "review_id": 70,
                  "review": "I order 1/5. 13/5 seller post. Br 18/5 can return please. but the seller did not agree because I posted. BRG FINALLY arrived on 28/5. BRG posted its slow, plus delivery problem with PKP season, and handling BRG .. cover little facial cleanser is broken, and sellers who know how to communicate x.",
                  "rating": 1
                },
                "71": {
                  "review_id": 71,
                  "review": " Wrong item received Will not order again",
                  "rating": 1
                },
                "72": {
                  "review_id": 72,
                  "review": "The store was less thorough, please be improved, there must pesen wrote every item that is less, so the buyer pobud in repotkan to have to return and filing returns",
                  "rating": 1
                },
                "73": {
                  "review_id": 73,
                  "review": "Nda sesuwai black color pesanan.pesanya who came navi",
                  "rating": 1
                },
                "74": {
                  "review_id": 74,
                  "review": "that's all and thank you",
                  "rating": 1
                },
                "75": {
                  "review_id": 75,
                  "review": "🤕 disappointed sis",
                  "rating": 1
                },
                "76": {
                  "review_id": 76,
                  "review": "Smangattt quality is not good is faulty cloth",
                  "rating": 1
                },
                "77": {
                  "review_id": 77,
                  "review": "Random brand already finished tract a brand binigay..inform time may also send you a pic of you in inbox..hindi shown lahat..Same color pah halos🙄🙄🙄",
                  "rating": 1
                },
                "78": {
                  "review_id": 78,
                  "review": "Order beige to white 😢",
                  "rating": 1
                },
                "79": {
                  "review_id": 79,
                  "review": "Her material tipits ya lah standard",
                  "rating": 1
                },
                "80": {
                  "review_id": 80,
                  "review": "delivery time",
                  "rating": 1
                },
                "81": {
                  "review_id": 81,
                  "review": "K must be tangent to lumia 630.",
                  "rating": 1
                },
                "82": {
                  "review_id": 82,
                  "review": "Straw disposable alkaline batteries tp ga bs kenceng, kira² to what ya sis?",
                  "rating": 1
                },
                "83": {
                  "review_id": 83,
                  "review": "Why why can g flame die ??? Though kmaren already dibatalin g so buy maksa bgt tp ask dibeli😣 dichat g .. if broken would bls gini gmn?",
                  "rating": 1
                },
                "84": {
                  "review_id": 84,
                  "review": "I paid for 6 pcs, but ONLY received 1 pcs.... ",
                  "rating": 1
                },
                "85": {
                  "review_id": 85,
                  "review": "The size is much smaller than the description a long delivery bgt",
                  "rating": 1
                },
                "86": {
                  "review_id": 86,
                  "review": "Less clothes, do not respond, nor deal",
                  "rating": 1
                },
                "87": {
                  "review_id": 87,
                  "review": "I thought big :(",
                  "rating": 1
                },
                "88": {
                  "review_id": 88,
                  "review": "Can defective goods, the seller ignore, do not buy.",
                  "rating": 1
                },
                "89": {
                  "review_id": 89,
                  "review": "easily damaged",
                  "rating": 1
                },
                "90": {
                  "review_id": 90,
                  "review": "Why was it not in jahitt, just lemnyahh less neatly tuh, please repaired again this quality nyahh",
                  "rating": 1
                },
                "91": {
                  "review_id": 91,
                  "review": " The product quality is not good OTG connector sizes are smaller in size dr fd",
                  "rating": 1
                },
                "92": {
                  "review_id": 92,
                  "review": "This is not sent, ga ga uangpun mandate is returned.",
                  "rating": 1
                },
                "93": {
                  "review_id": 93,
                  "review": "Item ok. Just got friendly sellar directly when asked baik2 cust answered JAP manners! Please respect your cust not arrogant! Very rude sellar! Ninja lbs BRG van je anyone with measles main home in regards x bg continue measles goods. 2dua rude. What TQ pound yes BRG sy already up. Please Lpsni modified your attitude. 🙂",
                  "rating": 1
                },
                "94": {
                  "review_id": 94,
                  "review": "Fraud Hati2 against this store, when we booked through shope fraudsters deliberately melambat2 right reasons using a delivery queue, hello there EMG shope shopping on using the queue? And forced us if the items to be sent quickly crossed conduct direct transactions,",
                  "rating": 1
                },
                "95": {
                  "review_id": 95,
                  "review": "Psanx No. 37 WRN white ... tp yg DTG No. 38 ... Pdhl psnan org ... Ad kotorx anyway ... ",
                  "rating": 1
                },
                "96": {
                  "review_id": 96,
                  "review": "Standard product quality standard product price less delivery speed is good, the seller's response standards Send goods long pass opened the package glue pungent odor. much glue neatly correspond lah ga sm prices 👌",
                  "rating": 1
                },
                "97": {
                  "review_id": 97,
                  "review": "Skein 5m long, 2.5m, not As described",
                  "rating": 1
                },
                "98": {
                  "review_id": 98,
                  "review": "ga smell bad",
                  "rating": 1
                },
                "99": {
                  "review_id": 99,
                  "review": "Get the goods on but new hnay opened, palm blades broken arm",
                  "rating": 1
                },
                "100": {
                  "review_id": 100,
                  "review": "Very misleading label on the product. It says case for Iphone 6 6s plus but they only have 6s plus by the way. Lol fix your labeling so everybody can understand it because it’s the first thing that customers read, not the details below it. Plus the seller is not accommodating.  Wrong item received",
                  "rating": 1
                },
                "101": {
                  "review_id": 101,
                  "review": "Shop serves poor response message delivery delay k",
                  "rating": 1
                },
                "102": {
                  "review_id": 102,
                  "review": "Buy 2 1 M size M size Affairs and 1 XL, sold reliefs",
                  "rating": 1
                },
                "103": {
                  "review_id": 103,
                  "review": "His clothes were so big kek size XXL",
                  "rating": 1
                },
                "104": {
                  "review_id": 104,
                  "review": "Cladding skewing many, inside topical cover it with markers. Dissatisfied but still finished goods consignee for concern. Wish shop before shipping check better.",
                  "rating": 1
                },
                "105": {
                  "review_id": 105,
                  "review": "Packaging Ambush ..",
                  "rating": 1
                },
                "106": {
                  "review_id": 106,
                  "review": "Tipisssss very small jg xxl bngetttt",
                  "rating": 1
                },
                "107": {
                  "review_id": 107,
                  "review": "  Just use the same sound As a starter, pro shock.",
                  "rating": 1
                },
                "108": {
                  "review_id": 108,
                  "review": "Order motive motive juventus sent Doraemon .. Please send accordance variants that have yes",
                  "rating": 1
                },
                "109": {
                  "review_id": 109,
                  "review": "I pesen 10 one 3 Ko 7 for sale anymore I lose passable cepet future delivery dong I delivered pesen ring ring necklace pesen letter I sent the letter k d period can not be disappointed anyway bedain letter sumpahhh",
                  "rating": 1
                },
                "110": {
                  "review_id": 110,
                  "review": "To others please remind, Cheap product=low wiring, not safety , its like a toys for kids",
                  "rating": 1
                },
                "111": {
                  "review_id": 111,
                  "review": "The product is ok but got poor delivery",
                  "rating": 1
                },
                "112": {
                  "review_id": 112,
                  "review": "not original perfume ",
                  "rating": 1
                },
                "113": {
                  "review_id": 113,
                  "review": "scammers money missing mother your mother tl m ib not only her eyebrows DMM business courtesy kieru virtue of this fuck forever exist dk",
                  "rating": 1
                },
                "114": {
                  "review_id": 114,
                  "review": " The product quality is not good.",
                  "rating": 1
                },
                "115": {
                  "review_id": 115,
                  "review": "ok naman product. My son liked. d case I took the branch of J & T branch malolos ie longer sure I can wait for delivery.",
                  "rating": 1
                },
                "116": {
                  "review_id": 116,
                  "review": "Do not know have to pay in advance should be careful not to do business shop, total 21 package that delivered 18 packages, worth a few but very frustrating rolls minh😤😤😤😤😤",
                  "rating": 1
                },
                "117": {
                  "review_id": 117,
                  "review": "Ko garnered her rabbit, only a towel that people do not pay enough attention. :(",
                  "rating": 1
                },
                "118": {
                  "review_id": 118,
                  "review": "Very disappointed, packing less safe, ga contents according the yes jars 1 jar 1'a longer fit its contents 21 less than 5 pieces, Cheap ga si but the quality is good,",
                  "rating": 1
                },
                "119": {
                  "review_id": 119,
                  "review": " Rude seller",
                  "rating": 1
                },
                "120": {
                  "review_id": 120,
                  "review": "Its very small I think it is a little bigger. You will not meet the hang of it.",
                  "rating": 1
                },
                "121": {
                  "review_id": 121,
                  "review": "buy 3 use 3 capedeh account bilangin note that bgus 1..cape told pke brands morbidly pnah levis..pnjual bnr2 mmeprhatikan order",
                  "rating": 1
                },
                "122": {
                  "review_id": 122,
                  "review": "Her interest in the dislodged mba",
                  "rating": 1
                },
                "123": {
                  "review_id": 123,
                  "review": "seller fraud, the delivered goods do not match the catalog, hati2 with this seller",
                  "rating": 1
                },
                "124": {
                  "review_id": 124,
                  "review": "Product quality is poor",
                  "rating": 1
                },
                "125": {
                  "review_id": 125,
                  "review": "Is not no walk clockwise. I do not walk fine I do not refund the money because it is not much. Bought chip lead coming together though. Do it well",
                  "rating": 1
                },
                "126": {
                  "review_id": 126,
                  "review": "packaging ancur",
                  "rating": 1
                },
                "127": {
                  "review_id": 127,
                  "review": " Did not receive item",
                  "rating": 1
                },
                "128": {
                  "review_id": 128,
                  "review": "Tipiisss really small confused about using that hell",
                  "rating": 1
                },
                "129": {
                  "review_id": 129,
                  "review": "Already pesen 2x, the first reply weve forget not nyantumin size, reply to 2 pesen size M instead of the same size, if all size cantumin in gan dong description, do not PHP, sorry buyers.",
                  "rating": 1
                },
                "130": {
                  "review_id": 130,
                  "review": "No box. Annoying",
                  "rating": 1
                },
                "131": {
                  "review_id": 131,
                  "review": " Very poor product quality ",
                  "rating": 1
                },
                "132": {
                  "review_id": 132,
                  "review": "Those beautiful items but lack one. That time is the super I test ..double na yung isa pero he lacks is less than the missing item",
                  "rating": 1
                },
                "133": {
                  "review_id": 133,
                  "review": "it tasted like candied papaya, not candied mango",
                  "rating": 1
                },
                "134": {
                  "review_id": 134,
                  "review": "We use flour ver.88 3 toner cartridge, and then I will not try to fake it, fake it had a genuine but also see it done as close to the real thing. Fleury was the feeling of many now.",
                  "rating": 1
                },
                "135": {
                  "review_id": 135,
                  "review": "Its very cheap but not genuine Pigeon. No plastic wrap product's quality. Enter the water is not sucked into the water flow.",
                  "rating": 1
                },
                "136": {
                  "review_id": 136,
                  "review": "Leakage at both ends coupling..",
                  "rating": 1
                },
                "137": {
                  "review_id": 137,
                  "review": "I gave one star because wrong wrong item was sent the seller .. .. Bogus Chinachat I would love to makipagcooperate for mareturn but Sineseen .. He just all I chat .. Of all the attempts to buy the seller to wag nyo Pong continuous Madidissapoint .. Thanks po ..",
                  "rating": 1
                },
                "138": {
                  "review_id": 138,
                  "review": "Not exactly the size xl. To l.",
                  "rating": 1
                },
                "139": {
                  "review_id": 139,
                  "review": " Very slow delivery time very poor Shop Shop serves very poor service",
                  "rating": 1
                },
                "140": {
                  "review_id": 140,
                  "review": "Delivery is good enough there's only 1 dos penyot but it was good. Satisfactory, its clock hopefully durable. Kok digital clock mandet anyway ...",
                  "rating": 1
                },
                "141": {
                  "review_id": 141,
                  "review": "Body lotion morbidly original product. Close share in any different, original lid parts in white, black here. Aroma is also very different, fitting applied to the body to be like putty, then hit the water would immediately fade, the thickness of the font writing in products is also different. Expiry date is also not clear",
                  "rating": 1
                },
                "142": {
                  "review_id": 142,
                  "review": "I ordered pixie Snow pinaship nio Kau ... annoying !!",
                  "rating": 1
                },
                "143": {
                  "review_id": 143,
                  "review": "Bad service there is something missing not take the initiative to inform not contact dishonest sellers",
                  "rating": 1
                },
                "144": {
                  "review_id": 144,
                  "review": "This is the worst experience I have with Shoppee. This seller is for me an old piece with scratches on it. I would not recommend at all.   This is the worst experience I have with Shoppee. This seller is giving me an old item with scratches on it. I would not recommend at all.",
                  "rating": 1
                },
                "145": {
                  "review_id": 145,
                  "review": "Goods not as ordered (which came handkerchief)",
                  "rating": 1
                },
                "146": {
                  "review_id": 146,
                  "review": " asked for 1 Tamil bharathiyar image T-shirt in XL and best day ever another T-shirt but than I received both same wording .  I purchase two PC on XL size but both XL is different measurement.. Very poor service.. Totally disappointed 😡 😡 ",
                  "rating": 1
                },
                "147": {
                  "review_id": 147,
                  "review": "never buy this shop .qua Put 50 double allocation scam charges 50 10 Double Double believe not crave feedback served basis.",
                  "rating": 1
                },
                "148": {
                  "review_id": 148,
                  "review": "Tiny life always: ((",
                  "rating": 1
                },
                "149": {
                  "review_id": 149,
                  "review": "NAKAKAINIS JUST LONG WAY TO HOLDERS OF IDELIVER storks NOT YET DONE WRONG DINILIVER PA YUNG COLOR SAY MY WHITE WITH BLACK BUT COME SEE NYO COLOR BLACK HAYNAKO NAKAKAINIS ONLY.",
                  "rating": 1
                },
                "150": {
                  "review_id": 150,
                  "review": "The brand does not correspond, Vivan bilangnya tp send robot brands",
                  "rating": 1
                },
                "151": {
                  "review_id": 151,
                  "review": "Leaking until exhausted empty the contents kak",
                  "rating": 1
                },
                "152": {
                  "review_id": 152,
                  "review": "The meat products are not clean much like a piece of dust. Then on facial marks Germplasm like melted (that is, we try to cut a notch cut last) not sure if it was genuine.",
                  "rating": 1
                },
                "153": {
                  "review_id": 153,
                  "review": "Did not receive the socks....",
                  "rating": 1
                },
                "154": {
                  "review_id": 154,
                  "review": "Its very small ",
                  "rating": 1
                },
                "155": {
                  "review_id": 155,
                  "review": "The exceptionally bad service Enough already been done, please do not go back. Speak simple English home Very bad service Send the wrong kind of form. And without notice or tell you that at the time. It took another replacement The purchase of the first shopee most pathetic. Feel bad about buying this product.",
                  "rating": 1
                },
                "156": {
                  "review_id": 156,
                  "review": "Purchased goods are safely arrived safely and in good condition. Delivery time is too long may be caused by the current time is axial.",
                  "rating": 1
                },
                "157": {
                  "review_id": 157,
                  "review": " Good product quality product quality good price good product, the seller is not careful tp ,, sage who in input where ,, suck",
                  "rating": 1
                },
                "158": {
                  "review_id": 158,
                  "review": "Hearts 2 buy in stores this ... Baring discrepant DNG specification .. For ring bracelet material mounted ..so hole LOOK HIM .. Sanjay regret buying at the store's",
                  "rating": 1
                },
                "159": {
                  "review_id": 159,
                  "review": " Very poor service by seller ",
                  "rating": 1
                },
                "160": {
                  "review_id": 160,
                  "review": "Lamaaaaaaa hshsjsosnsjussh jsjsjsjjsjsjsnsnsjsjsusj hsusjsjbshsjsisjsbsjsis hdhshdhbdbdjsjsjsksis udjdjekkemsjsnsjsjs",
                  "rating": 1
                },
                "161": {
                  "review_id": 161,
                  "review": "Post a product is not in money but in pulangin GDA previous confirmation",
                  "rating": 1
                },
                "162": {
                  "review_id": 162,
                  "review": "Inside delivery is poor no responsibility .hang bi loaches hook and eye 1 pair of pants like no one to quyet.qua unfit",
                  "rating": 1
                },
                "163": {
                  "review_id": 163,
                  "review": " Delivery time below expectation. Order 8th, 22th just received the goods.",
                  "rating": 1
                },
                "164": {
                  "review_id": 164,
                  "review": "And the use of more than half an hour with a Bluetooth ear received will be painful noise",
                  "rating": 1
                },
                "165": {
                  "review_id": 165,
                  "review": "It's fake",
                  "rating": 1
                }
              },
              "rows_bottom": {
                "146644": {
                  "review_id": 146644,
                  "review": "Luckily this time delivered sample shop. Customers beautiful picture of your dental ❤️❤️❤️❤️",
                  "rating": 5
                },
                "146645": {
                  "review_id": 146645,
                  "review": "Fast delivery, no slow. Steady anyway. But have not tried anyway hehe",
                  "rating": 5
                },
                "146646": {
                  "review_id": 146646,
                  "review": "Will repeat order lh ... Brgnya ok smuaa .. Recommended seller lah",
                  "rating": 5
                },
                "146647": {
                  "review_id": 146647,
                  "review": "packaging products ori jarga's fast .. fast courier baguuuuuuuuuuuuussssseeseeewwew",
                  "rating": 5
                },
                "146648": {
                  "review_id": 146648,
                  "review": "thanks packet has been received",
                  "rating": 5
                },
                "146649": {
                  "review_id": 146649,
                  "review": "Goods according to the description, packingnya neat, this house will ngerusak hijab rich safety pin ga ya",
                  "rating": 5
                },
                "146650": {
                  "review_id": 146650,
                  "review": " Excellent product quality excellent product price is very good delivery speed is very good seller's response",
                  "rating": 5
                },
                "146651": {
                  "review_id": 146651,
                  "review": "Original product, packaging neat, good product quality, do not be disappointed shopping here.",
                  "rating": 5
                },
                "146652": {
                  "review_id": 146652,
                  "review": "It's good promo bingit..klo no longer want to donk",
                  "rating": 5
                },
                "146653": {
                  "review_id": 146653,
                  "review": " Excellent service by seller",
                  "rating": 5
                },
                "146654": {
                  "review_id": 146654,
                  "review": "Package has been up to packing neatly and quickly pengemasa good stuff trimaksih ..",
                  "rating": 5
                },
                "146655": {
                  "review_id": 146655,
                  "review": " Awesome speed of the ship awesome awesome quality goods CP value awesome service",
                  "rating": 5
                },
                "146656": {
                  "review_id": 146656,
                  "review": "Shop fast delivery, like the map shows Saudi ❤❤❤ Long-term support shop sir ❤❤❤",
                  "rating": 5
                },
                "146657": {
                  "review_id": 146657,
                  "review": " Delivery speed is very good.",
                  "rating": 5
                },
                "146658": {
                  "review_id": 146658,
                  "review": "Okay steady tasty ingredients",
                  "rating": 5
                },
                "146659": {
                  "review_id": 146659,
                  "review": "Beautiful shoe shop sir",
                  "rating": 5
                },
                "146660": {
                  "review_id": 146660,
                  "review": " The product quality is excellent. The product price is very good. Delivery speed is very good. The response is very good seller.",
                  "rating": 5
                },
                "146661": {
                  "review_id": 146661,
                  "review": " Very fast delivery time",
                  "rating": 5
                },
                "146662": {
                  "review_id": 146662,
                  "review": "Awesome speed of the ship awesome awesome quality goods CP value awesome service",
                  "rating": 5
                },
                "146663": {
                  "review_id": 146663,
                  "review": "RECOMMENDED SHOP ‼️ ✅ good quality for its price  ✅ well packed and secured ✅ complete and right items  ✅satisfied buyer  ✅ definitely will order again   love the color ♥️ thankyou seller until next transaction 🤗 ",
                  "rating": 5
                },
                "146664": {
                  "review_id": 146664,
                  "review": "Seller with inappropriate response 🥰",
                  "rating": 5
                },
                "146665": {
                  "review_id": 146665,
                  "review": " The original product. The original product. The original product. The original product. The original product.",
                  "rating": 5
                },
                "146666": {
                  "review_id": 146666,
                  "review": "Superb packaging, items received in mint condition! Thanks for the usual excellent experience and honest descriptions of the items 👍🏻⭐️⭐️⭐️⭐️⭐️",
                  "rating": 5
                },
                "146667": {
                  "review_id": 146667,
                  "review": "Suka.bahannya tebal.sesuai with descriptions and gambar.packaging aman.makasih",
                  "rating": 5
                },
                "146668": {
                  "review_id": 146668,
                  "review": "Ok thanks kak given a sip of black color also via chat when not record",
                  "rating": 5
                },
                "146669": {
                  "review_id": 146669,
                  "review": " Awesome awesome quality merchandise value CP",
                  "rating": 5
                },
                "146670": {
                  "review_id": 146670,
                  "review": "Note asking ditandain already given date but ga ditandain 🙁, OK results are satisfactory",
                  "rating": 5
                },
                "146671": {
                  "review_id": 146671,
                  "review": "The product quality is excellent. The original product. The product price is very good. delivery speed is very good. The response is very good seller ",
                  "rating": 5
                },
                "146672": {
                  "review_id": 146672,
                  "review": " The product price is very good.",
                  "rating": 5
                },
                "146673": {
                  "review_id": 146673,
                  "review": "Wrap cushioning has been no damage to the product very good. It will contribute to the new me. I am very active in the kitchen for a good 15 liters.",
                  "rating": 5
                },
                "146674": {
                  "review_id": 146674,
                  "review": " Excellent speed of delivery excellent product quality",
                  "rating": 5
                },
                "146675": {
                  "review_id": 146675,
                  "review": "Awesome speed of the ship awesome awesome quality merchandise value CP",
                  "rating": 5
                },
                "146676": {
                  "review_id": 146676,
                  "review": "Selaluuu mantaaaap .. Always mantaaaap .... Selaluuu mantaaaap .. Always mantaaaap .... Selaluuu mantaaaap .. Always mantaaaap .... Selaluuu mantaaaap .. Always mantaaaap .... Selaluuu mantaaaap .. Always mantaaaap .... Selaluuu mantaaaap .. Always mantaaaap .... Selaluuu mantaaaap .. Always mantaaaap .... Always",
                  "rating": 5
                },
                "146677": {
                  "review_id": 146677,
                  "review": " Excellent quality",
                  "rating": 5
                },
                "146678": {
                  "review_id": 146678,
                  "review": "Very satisfied with the quality and size, is well worth the money. Like millions 👍🏻",
                  "rating": 5
                },
                "146679": {
                  "review_id": 146679,
                  "review": " Fast delivery Good product quality Good product quality Fast delivery Good value for money",
                  "rating": 5
                },
                "146680": {
                  "review_id": 146680,
                  "review": " Awesome speed of the ship awesome awesome quality goods CP value awesome service",
                  "rating": 5
                },
                "146681": {
                  "review_id": 146681,
                  "review": "Awesome speed of the ship Awesome product quality Awesome attitude Stickers cute 👍👍 Like like like like like like like like",
                  "rating": 5
                },
                "146682": {
                  "review_id": 146682,
                  "review": "~ ~ ~ ~ Super-fast shipping And goods packaging very carefully ~~~~~ Oh, recommended seller",
                  "rating": 5
                },
                "146683": {
                  "review_id": 146683,
                  "review": "Nice packing. Item reach fast. Good product quality. Expired date is ok",
                  "rating": 5
                },
                "146684": {
                  "review_id": 146684,
                  "review": " Excellent service by seller  Good value for money",
                  "rating": 5
                },
                "146685": {
                  "review_id": 146685,
                  "review": "Pants soft cloth, terry k cleaning dragon, baby wear comfortable. Price only 10 nghan so much is so beautiful and",
                  "rating": 5
                },
                "146686": {
                  "review_id": 146686,
                  "review": "Nice design for sock organiser, space saver at madaling mahanap the sock for the day😀👏👏👏👏👏👏👏👏👏👏👏👌👌👌👌👆👌👌👌👍👍👍👍👍👍👍👍👍👍👍👍",
                  "rating": 5
                },
                "146687": {
                  "review_id": 146687,
                  "review": " The product quality is excellent. The product price is very good. The response is very good seller.",
                  "rating": 5
                },
                "146688": {
                  "review_id": 146688,
                  "review": "Delivery speed, improve product packaging, recommended seller. ",
                  "rating": 5
                },
                "146689": {
                  "review_id": 146689,
                  "review": " Awesome awesome speed of delivery of goods quality",
                  "rating": 5
                },
                "146690": {
                  "review_id": 146690,
                  "review": "Fast Delivery.. Packed in a secure box. Good job!",
                  "rating": 5
                },
                "146691": {
                  "review_id": 146691,
                  "review": "Fast delivery Good product quality Good value for money Excellent service by seller",
                  "rating": 5
                },
                "146692": {
                  "review_id": 146692,
                  "review": "thx sis, package uda up. , , , , Received the house, Blum sy check",
                  "rating": 5
                },
                "146693": {
                  "review_id": 146693,
                  "review": "The product quality is very good, very good, very fast delivery. Great",
                  "rating": 5
                },
                "146694": {
                  "review_id": 146694,
                  "review": " Excellent product quality excellent product price is very good delivery speed is very good seller's response",
                  "rating": 5
                },
                "146695": {
                  "review_id": 146695,
                  "review": "Okeeeeeeee sipppppp sukakkkkk pollll mksih brother",
                  "rating": 5
                },
                "146696": {
                  "review_id": 146696,
                  "review": "Thank you! 2nd time in this shop to order ..... As always secure secure packaging .... :) ung orange color comes shampoo tho red ung order, hopefully she will smell well :)",
                  "rating": 5
                },
                "146697": {
                  "review_id": 146697,
                  "review": " Excellent product quality excellent product price is very good delivery speed is very good seller's response",
                  "rating": 5
                },
                "146698": {
                  "review_id": 146698,
                  "review": " Excellent product quality excellent product price is very good delivery speed is very good seller's response",
                  "rating": 5
                },
                "146699": {
                  "review_id": 146699,
                  "review": "Terdabest very essence, the very quick response, exceptional responsibilities. Thank you very much 🙏",
                  "rating": 5
                },
                "146700": {
                  "review_id": 146700,
                  "review": "good and cheap . expiry in 2022.  heard good reviews about this serum!",
                  "rating": 5
                },
                "146701": {
                  "review_id": 146701,
                  "review": "Good Product quality Good value for money Excellent service by seller",
                  "rating": 5
                },
                "146702": {
                  "review_id": 146702,
                  "review": " Awesome awesome speed of the ship's delivery speed",
                  "rating": 5
                },
                "146703": {
                  "review_id": 146703,
                  "review": "Good product and good quality.... good value for money....",
                  "rating": 5
                },
                "146704": {
                  "review_id": 146704,
                  "review": "Jeans ok just that it is not fully black..few parts are like almost grey color..plus the button hook are not available..i have to cut it myself so tht the button can be hooked",
                  "rating": 5
                },
                "146705": {
                  "review_id": 146705,
                  "review": " The product quality is excellent.",
                  "rating": 5
                },
                "146706": {
                  "review_id": 146706,
                  "review": "2x UDH buy here and always satisfied its fast response ,, ,, ,, friendly seller makasii",
                  "rating": 5
                },
                "146707": {
                  "review_id": 146707,
                  "review": " Excellent service by seller",
                  "rating": 5
                },
                "146708": {
                  "review_id": 146708,
                  "review": "Which sell ok, ok jg JNT. MLM Wlupn ttp d anterin. T.o. p dech pokoknyo, this bru wrote smpe",
                  "rating": 5
                },
                "146709": {
                  "review_id": 146709,
                  "review": "I have to thank them.",
                  "rating": 5
                },
                "146710": {
                  "review_id": 146710,
                  "review": "bangett cool. sukaaaaaaaaaaaaaaaaaaaaaaaaaaaaaaaaaaa",
                  "rating": 5
                },
                "146711": {
                  "review_id": 146711,
                  "review": " Excellent product quality excellent product price is very good delivery speed is very good seller's response",
                  "rating": 5
                },
                "146712": {
                  "review_id": 146712,
                  "review": "Thanks for an excellent product quality. The original product.",
                  "rating": 5
                },
                "146713": {
                  "review_id": 146713,
                  "review": " Awesome awesome speed of delivery of goods quality",
                  "rating": 5
                },
                "146714": {
                  "review_id": 146714,
                  "review": " His ministry original💯 friendly products and fast response. The product price is very good. Delivery speed is very good.",
                  "rating": 5
                },
                "146715": {
                  "review_id": 146715,
                  "review": "I was able to book a grab even when I'm short of cash using my promo code.",
                  "rating": 5
                },
                "146716": {
                  "review_id": 146716,
                  "review": " Delivery speed is very good very good product price",
                  "rating": 5
                },
                "146717": {
                  "review_id": 146717,
                  "review": "Product quality is very good Very good value The speed of delivery very soon as well. It was worth coming. I want to have this event here indefinitely.",
                  "rating": 5
                },
                "146718": {
                  "review_id": 146718,
                  "review": "Waww sukaakk already bangettt stuff until, semogaa suitable dikulit I luv ya luv",
                  "rating": 5
                },
                "146719": {
                  "review_id": 146719,
                  "review": "Good but small size too",
                  "rating": 5
                },
                "146720": {
                  "review_id": 146720,
                  "review": "Is the true picture, fast delivery",
                  "rating": 5
                },
                "146721": {
                  "review_id": 146721,
                  "review": "Thank ya goods until dg survived. Affordable prices. Fast shipment. Success",
                  "rating": 5
                },
                "146722": {
                  "review_id": 146722,
                  "review": " Excellent product quality",
                  "rating": 5
                },
                "146723": {
                  "review_id": 146723,
                  "review": "Waist 34, hips 45, 171 High belly swollen hock childbirth put xxl fit exactly the color of the order. Payette fabric and seams with no distortion. Fabric is very thick and very thin. Send me not hold good. Strange has sold some fine contributions.",
                  "rating": 5
                },
                "146724": {
                  "review_id": 146724,
                  "review": " Excellent quality",
                  "rating": 5
                },
                "146725": {
                  "review_id": 146725,
                  "review": "Y mn thick coat formation oi.",
                  "rating": 5
                },
                "146726": {
                  "review_id": 146726,
                  "review": " Excellent quality Very accommodating seller Well-packaged",
                  "rating": 5
                },
                "146727": {
                  "review_id": 146727,
                  "review": "The seller was very helpful and replied fast. I received the parcel promptly. The parcel came with a personal handwritten note which was really sweet. Everything looks great in the parcel! I also received some free stickers from the seller. Will buy again!",
                  "rating": 5
                },
                "146728": {
                  "review_id": 146728,
                  "review": "I love the bag ,, mksh mksh there is also a gift bag hanger",
                  "rating": 5
                },
                "146729": {
                  "review_id": 146729,
                  "review": "Good product and mantep, Delivery mantul piusaaannn👍👍👍👍👍👍👍👍",
                  "rating": 5
                },
                "146730": {
                  "review_id": 146730,
                  "review": "The first new shopping here. Going subscriptions continue 😃😃👍 goods Loved it, super friendly sellernya 😉",
                  "rating": 5
                },
                "146731": {
                  "review_id": 146731,
                  "review": "Goods in accordance with the price and the goods conformed hargaaa",
                  "rating": 5
                },
                "146732": {
                  "review_id": 146732,
                  "review": "Thank you good quality",
                  "rating": 5
                },
                "146733": {
                  "review_id": 146733,
                  "review": " The product quality is excellent. The product quality is excellent. The original product. The product price is very good. Delivery speed is very good.",
                  "rating": 5
                },
                "146734": {
                  "review_id": 146734,
                  "review": "Hopefully fit",
                  "rating": 5
                },
                "146735": {
                  "review_id": 146735,
                  "review": "Thanks. Shipping fast response speed quickly",
                  "rating": 5
                },
                "146736": {
                  "review_id": 146736,
                  "review": "Good cepet jugak kirain turns going until tomorrow morning udh sampe dri",
                  "rating": 5
                },
                "146737": {
                  "review_id": 146737,
                  "review": " The product quality is excellent. The original product.",
                  "rating": 5
                },
                "146738": {
                  "review_id": 146738,
                  "review": "Okay naman yung item. I struggled a little bit to lock her",
                  "rating": 5
                },
                "146739": {
                  "review_id": 146739,
                  "review": "Always satisfied customer here.. smooth transaction at ang bilis lang nashipped. .thank you so much po.. until next live po.. Sana may freebie na next time hehehe God bless po..",
                  "rating": 5
                },
                "146740": {
                  "review_id": 146740,
                  "review": "Response Sellers Good, Friendly, Ok Goods, Thx",
                  "rating": 5
                },
                "146741": {
                  "review_id": 146741,
                  "review": "Anyway steady dehhh",
                  "rating": 5
                },
                "146742": {
                  "review_id": 146742,
                  "review": "Slow up .. Maybe chapter PKP kot ..",
                  "rating": 5
                },
                "146743": {
                  "review_id": 146743,
                  "review": "Product quality, price, delivery is fast. I will continue to subsidize it ......................................",
                  "rating": 5
                },
                "146744": {
                  "review_id": 146744,
                  "review": "Nice cardigan. Love the material. So soft. Very good value for money. Received item about a week. Considered ok for overseas shopping. ",
                  "rating": 5
                },
                "146745": {
                  "review_id": 146745,
                  "review": " Awesome speed of the ship awesome awesome quality merchandise value CP",
                  "rating": 5
                },
                "146746": {
                  "review_id": 146746,
                  "review": "Baguss material is cool bgttt sukaaaa bgttt netx will order again kyknya",
                  "rating": 5
                },
                "146747": {
                  "review_id": 146747,
                  "review": "Jazaakumullahu khairoin bonus ..... calendar juga..😊😊",
                  "rating": 5
                },
                "146748": {
                  "review_id": 146748,
                  "review": "Very beautiful design, good material ... am very satisfied ...",
                  "rating": 5
                },
                "146749": {
                  "review_id": 146749,
                  "review": "Thank ssampai safely secure items, baju²nya baguus top quality really very frugal bag price, it orders the umpteenth time because weve baguusss, despite the long wait for the packaging because weve again pandemic and after Eid .. but very puasss",
                  "rating": 5
                },
                "146750": {
                  "review_id": 146750,
                  "review": " Awesome speed of the ship awesome awesome quality merchandise value CP",
                  "rating": 5
                },
                "146751": {
                  "review_id": 146751,
                  "review": " Excellent quality Excellent quality",
                  "rating": 5
                },
                "146752": {
                  "review_id": 146752,
                  "review": "Quite soft bag and make folding Garment phone bribery than 15.5cm length is k has a head start ...",
                  "rating": 5
                },
                "146753": {
                  "review_id": 146753,
                  "review": "Product quality is very good Pack the product well Delivery is fast fit shockproof case is pretty clear, very cheap.",
                  "rating": 5
                },
                "146754": {
                  "review_id": 146754,
                  "review": "Shop carefully packaged goods delivered, pleasant fragrance. Shopee late delivery.",
                  "rating": 5
                },
                "146755": {
                  "review_id": 146755,
                  "review": " Product quality is very good Product quality is very good Very good value Speed ​​of delivery is very good. Very good service from the store. Very good service from the store.",
                  "rating": 5
                },
                "146756": {
                  "review_id": 146756,
                  "review": "Alhamdulillah package had arrived safely. Can be gift bags again. Thank you..",
                  "rating": 5
                },
                "146757": {
                  "review_id": 146757,
                  "review": " Awesome speed of the ship awesome awesome quality goods CP value awesome service",
                  "rating": 5
                },
                "146758": {
                  "review_id": 146758,
                  "review": " Awesome awesome speed of the ship's delivery speed fabulous quality goods CP awesome super value ~ ~ ~ like the very texture Terrific ❤️❤️❤️",
                  "rating": 5
                },
                "146759": {
                  "review_id": 146759,
                  "review": "Nice color There are small gifts arrive soon",
                  "rating": 5
                },
                "146760": {
                  "review_id": 146760,
                  "review": " Excellent product quality excellent product price is very good delivery speed",
                  "rating": 5
                },
                "146761": {
                  "review_id": 146761,
                  "review": "beautiful que☺☺  ",
                  "rating": 5
                },
                "146762": {
                  "review_id": 146762,
                  "review": " Very accommodating seller Very accommodating seller Excellent quality Well-packaged Item shipped immediately Will order again Will order again",
                  "rating": 5
                },
                "146763": {
                  "review_id": 146763,
                  "review": "Wrong size. Large did you send, but still I received the Small size in the picture on the convo. Or maybe it would be a Large size nyo? I accept but I avoid the inconvenience. Next time hopefully not to repeat. Thanks! 🙂",
                  "rating": 5
                },
                "146764": {
                  "review_id": 146764,
                  "review": " The product quality is excellent. The original product. The product price is very good. Delivery speed is very good. The response is very good seller.",
                  "rating": 5
                },
                "146765": {
                  "review_id": 146765,
                  "review": "Alhamdulillah dg good land package, there's no dents who sm all. Dg well packaged goods",
                  "rating": 5
                },
                "146766": {
                  "review_id": 146766,
                  "review": "Orders are, survived until the goal. , , , 😍 😍 😍 😍 😘 😘 😘 😘 packaging and delivery of its processes quickly, safely and rapii pancking 👍 👍 👍 👍 as always puassss shopping here. , , 💕 💕 💕 💕 💕 happy shopping deh kalo accordance with the order, 😊😊 Thank seller🙏",
                  "rating": 5
                },
                "146767": {
                  "review_id": 146767,
                  "review": "nice nice nice nice nice nice nice nice nice nice nice nice nice nice nice nice nice nice nice nice nice nice nice nice nice ",
                  "rating": 5
                },
                "146768": {
                  "review_id": 146768,
                  "review": " The product quality is excellent. The original product.",
                  "rating": 5
                },
                "146769": {
                  "review_id": 146769,
                  "review": "Tell Â Â Â Â Â Â Â it. That's beautiful, fast lot option I'm a boy statements ass ass ass puzzling statements AMC AMC AMC AMC AMC AMC AMC AMC AMC AMC Brian.",
                  "rating": 5
                },
                "146770": {
                  "review_id": 146770,
                  "review": "bgus goods delivery bgt mantappppp always puassssss blnja dsni😍😍😍😘😘😘😘😘😘😘😘😘😘😘😘😘😘😘 love bgt😘😘😘",
                  "rating": 5
                },
                "146771": {
                  "review_id": 146771,
                  "review": " The product quality is excellent. The original product. The product price is very good. Speed ​​of delivery is good. The response is very good seller. Packing super safe and tidy. Thanks gan",
                  "rating": 5
                },
                "146772": {
                  "review_id": 146772,
                  "review": "Sellernya communicative bgt.ini fabric size is less than 1kg.sama seller kemvaliannya given in paketan.makasih kak.lancar trs jualannya.semakin mandate also",
                  "rating": 5
                },
                "146773": {
                  "review_id": 146773,
                  "review": "Awesome speed of the ship (arrival within 2 days) Awesome product quality Awesome CP value .. Awesome service ..",
                  "rating": 5
                },
                "146774": {
                  "review_id": 146774,
                  "review": "Spec in accordance with the order, fast delivery and excellent seller response. Trim shopee ..",
                  "rating": 5
                },
                "146775": {
                  "review_id": 146775,
                  "review": "Tq for the gift😘😘😘",
                  "rating": 5
                },
                "146776": {
                  "review_id": 146776,
                  "review": " Awesome awesome speed of delivery of goods quality",
                  "rating": 5
                },
                "146777": {
                  "review_id": 146777,
                  "review": " Awesome awesome speed of the ship's value CP",
                  "rating": 5
                },
                "146778": {
                  "review_id": 146778,
                  "review": " Excellent product quality excellent product price",
                  "rating": 5
                },
                "146779": {
                  "review_id": 146779,
                  "review": "Quite heavy for a headset can't always put into pocket, maybe should describe it as powerbank + headset. It will auto charge after put into case. Even charged full, sometimes a bit shock it will detect and start charge. Usually right ears will lose more battery than left side. Still a good deal. ",
                  "rating": 5
                },
                "146780": {
                  "review_id": 146780,
                  "review": "Packaging carefully to make blankets. Dryer reliable. Price too ok. Sai durable ko whether intelligence will purchase.",
                  "rating": 5
                },
                "146781": {
                  "review_id": 146781,
                  "review": "The cream smells nice.. if it is effective i still don't know since it is only my second day using it.",
                  "rating": 5
                },
                "146782": {
                  "review_id": 146782,
                  "review": "Mantul ... 😍😍👍👍👍 Cpt bgt sent nya.harganya's also fitting dikntong☺ Mksh yes may always be a success ...",
                  "rating": 5
                },
                "146783": {
                  "review_id": 146783,
                  "review": " Awesome speed of the ship awesome awesome quality goods CP value awesome service",
                  "rating": 5
                },
                "146784": {
                  "review_id": 146784,
                  "review": "Has shipped According to the statement in full A good quality product is delivered to your home does not have to go buy a cattle infection risk wid-19.",
                  "rating": 5
                },
                "146785": {
                  "review_id": 146785,
                  "review": " Excellent product quality excellent product price response is very good seller delivery speed ok",
                  "rating": 5
                },
                "146786": {
                  "review_id": 146786,
                  "review": "Sampai..kain fast stuff was best pkai",
                  "rating": 5
                },
                "146787": {
                  "review_id": 146787,
                  "review": "Her material is different is different, but good overall. Seams are neat, using that is also good on the body. Create a price that much, okay really does. Pesen nyesel Gak deh here 👍",
                  "rating": 5
                },
                "146788": {
                  "review_id": 146788,
                  "review": "Ordered the Provinces, the total time that was approximately 4 days of. Not Try Open trials without any problems Cheaper than the mall",
                  "rating": 5
                },
                "146789": {
                  "review_id": 146789,
                  "review": " Fast delivery",
                  "rating": 5
                },
                "146790": {
                  "review_id": 146790,
                  "review": " Good product quality Good value for money Fast delivery",
                  "rating": 5
                },
                "146791": {
                  "review_id": 146791,
                  "review": "Packing so much better. And deliver it on time. Tests Used Works great on the items offered for sale here. Visit our visit here",
                  "rating": 5
                },
                "146792": {
                  "review_id": 146792,
                  "review": "Brosny cute bgt ,,, next order again ,,,, home made bgt .......",
                  "rating": 5
                },
                "146793": {
                  "review_id": 146793,
                  "review": "The product quality is excellent.",
                  "rating": 5
                },
                "146794": {
                  "review_id": 146794,
                  "review": "Her mask Model gk dlm stuck in the lip, lipstick gk jd stuck in the mask",
                  "rating": 5
                },
                "146795": {
                  "review_id": 146795,
                  "review": " Excellent product quality excellent product price is very good delivery speed is very good seller's response",
                  "rating": 5
                },
                "146796": {
                  "review_id": 146796,
                  "review": "Item wrapped properly. Very fast respon from seller. Very best service from seller. Thank you seller for the best service. Thank you courier for the service. #StaySafe",
                  "rating": 5
                },
                "146797": {
                  "review_id": 146797,
                  "review": "supercuteee Oorder seller again thankyou. eh eh I nadissapoint because you passed din yung saken but did Supercute and gandaa thankyou so much",
                  "rating": 5
                },
                "146798": {
                  "review_id": 146798,
                  "review": "Bagussssssssssssssssssss, Bagusssssssssssssssssss real pict",
                  "rating": 5
                },
                "146799": {
                  "review_id": 146799,
                  "review": "Stick adhesive tape is not very good.",
                  "rating": 5
                },
                "146800": {
                  "review_id": 146800,
                  "review": "Hehe thanks Baguuuuuuuuuuuus kaaaa😍😍😍😍😍😍😍😍👍👍👍👍👍👍👍👍👍👍👍",
                  "rating": 5
                },
                "146801": {
                  "review_id": 146801,
                  "review": "Explore huge crowd here Children seem to like the track lay 🤣🤣🤣.",
                  "rating": 5
                },
                "146802": {
                  "review_id": 146802,
                  "review": "Product is good. But next time don’t put a sticker, it ruined the natural product. It’s hard to remove the sticker.",
                  "rating": 5
                },
                "146803": {
                  "review_id": 146803,
                  "review": "Thanks you very satisfactory",
                  "rating": 5
                },
                "146804": {
                  "review_id": 146804,
                  "review": " Excellent quality Excellent quality Very accommodating seller Very accommodating seller Well-packaged Item shipped immediately",
                  "rating": 5
                },
                "146805": {
                  "review_id": 146805,
                  "review": " The product price is very good.",
                  "rating": 5
                },
                "146806": {
                  "review_id": 146806,
                  "review": "Excellent product quality delivery speed is very good .. very good seller respin",
                  "rating": 5
                },
                "146807": {
                  "review_id": 146807,
                  "review": "thanks gan",
                  "rating": 5
                },
                "146808": {
                  "review_id": 146808,
                  "review": " Awesome awesome quality merchandise value CP Very nice! 👍",
                  "rating": 5
                },
                "146809": {
                  "review_id": 146809,
                  "review": "Nice Packing boxes made effective price ....... ....... fast shipping",
                  "rating": 5
                },
                "146810": {
                  "review_id": 146810,
                  "review": " Excellent product quality excellent product price is very good delivery speed",
                  "rating": 5
                }
              }
            },
            "text/plain": [
              "        review_id                                             review  rating\n",
              "0               0  Ga disappointed neat products .. Meletot Hilsn...       1\n",
              "1               1    Rdtanya replace broken glass, broken chargernya       1\n",
              "2               2  Nyesel bngt dsni shopping antecedent photo mes...       1\n",
              "3               3      Sent a light blue suit goods ga want a refund       1\n",
              "4               4  Pendants came with dents and scratches on its ...       1\n",
              "...           ...                                                ...     ...\n",
              "146806     146806  Excellent product quality delivery speed is ve...       5\n",
              "146807     146807                                         thanks gan       5\n",
              "146808     146808   Awesome awesome quality merchandise value CP ...       5\n",
              "146809     146809  Nice Packing boxes made effective price .........       5\n",
              "146810     146810   Excellent product quality excellent product p...       5\n",
              "\n",
              "[146811 rows x 3 columns]"
            ],
            "text/html": [
              "<div>\n",
              "<style scoped>\n",
              "    .dataframe tbody tr th:only-of-type {\n",
              "        vertical-align: middle;\n",
              "    }\n",
              "\n",
              "    .dataframe tbody tr th {\n",
              "        vertical-align: top;\n",
              "    }\n",
              "\n",
              "    .dataframe thead th {\n",
              "        text-align: right;\n",
              "    }\n",
              "</style>\n",
              "<table border=\"1\" class=\"dataframe\">\n",
              "  <thead>\n",
              "    <tr style=\"text-align: right;\">\n",
              "      <th></th>\n",
              "      <th>review_id</th>\n",
              "      <th>review</th>\n",
              "      <th>rating</th>\n",
              "    </tr>\n",
              "  </thead>\n",
              "  <tbody>\n",
              "    <tr>\n",
              "      <th>0</th>\n",
              "      <td>0</td>\n",
              "      <td>Ga disappointed neat products .. Meletot Hilsn...</td>\n",
              "      <td>1</td>\n",
              "    </tr>\n",
              "    <tr>\n",
              "      <th>1</th>\n",
              "      <td>1</td>\n",
              "      <td>Rdtanya replace broken glass, broken chargernya</td>\n",
              "      <td>1</td>\n",
              "    </tr>\n",
              "    <tr>\n",
              "      <th>2</th>\n",
              "      <td>2</td>\n",
              "      <td>Nyesel bngt dsni shopping antecedent photo mes...</td>\n",
              "      <td>1</td>\n",
              "    </tr>\n",
              "    <tr>\n",
              "      <th>3</th>\n",
              "      <td>3</td>\n",
              "      <td>Sent a light blue suit goods ga want a refund</td>\n",
              "      <td>1</td>\n",
              "    </tr>\n",
              "    <tr>\n",
              "      <th>4</th>\n",
              "      <td>4</td>\n",
              "      <td>Pendants came with dents and scratches on its ...</td>\n",
              "      <td>1</td>\n",
              "    </tr>\n",
              "    <tr>\n",
              "      <th>5</th>\n",
              "      <td>5</td>\n",
              "      <td>Dg yg depending being sent in photos</td>\n",
              "      <td>1</td>\n",
              "    </tr>\n",
              "    <tr>\n",
              "      <th>6</th>\n",
              "      <td>6</td>\n",
              "      <td>Hours not a hologram</td>\n",
              "      <td>1</td>\n",
              "    </tr>\n",
              "    <tr>\n",
              "      <th>7</th>\n",
              "      <td>7</td>\n",
              "      <td>Shop fraudulent business. we put two lamps, on...</td>\n",
              "      <td>1</td>\n",
              "    </tr>\n",
              "    <tr>\n",
              "      <th>8</th>\n",
              "      <td>8</td>\n",
              "      <td>Well, according to Price</td>\n",
              "      <td>1</td>\n",
              "    </tr>\n",
              "    <tr>\n",
              "      <th>9</th>\n",
              "      <td>9</td>\n",
              "      <td>Pictures and names of elise 7154, but the bran...</td>\n",
              "      <td>1</td>\n",
              "    </tr>\n",
              "    <tr>\n",
              "      <th>10</th>\n",
              "      <td>10</td>\n",
              "      <td>Not bubble paper tp its policy please do not a...</td>\n",
              "      <td>1</td>\n",
              "    </tr>\n",
              "    <tr>\n",
              "      <th>11</th>\n",
              "      <td>11</td>\n",
              "      <td>Product quality standards</td>\n",
              "      <td>1</td>\n",
              "    </tr>\n",
              "    <tr>\n",
              "      <th>12</th>\n",
              "      <td>12</td>\n",
              "      <td>Very different each photograph ga realpict</td>\n",
              "      <td>1</td>\n",
              "    </tr>\n",
              "    <tr>\n",
              "      <th>13</th>\n",
              "      <td>13</td>\n",
              "      <td>KALO RULES DO NOT WANT TO PARTICIPATE IN CHAT ...</td>\n",
              "      <td>1</td>\n",
              "    </tr>\n",
              "    <tr>\n",
              "      <th>14</th>\n",
              "      <td>14</td>\n",
              "      <td>Small headset sound long side and Delivery</td>\n",
              "      <td>1</td>\n",
              "    </tr>\n",
              "    <tr>\n",
              "      <th>15</th>\n",
              "      <td>15</td>\n",
              "      <td>Product received with different size ordered :(</td>\n",
              "      <td>1</td>\n",
              "    </tr>\n",
              "    <tr>\n",
              "      <th>16</th>\n",
              "      <td>16</td>\n",
              "      <td>The face shield were slightly bent. This is be...</td>\n",
              "      <td>1</td>\n",
              "    </tr>\n",
              "    <tr>\n",
              "      <th>17</th>\n",
              "      <td>17</td>\n",
              "      <td>A very small waist stretch to 34 inches.</td>\n",
              "      <td>1</td>\n",
              "    </tr>\n",
              "    <tr>\n",
              "      <th>18</th>\n",
              "      <td>18</td>\n",
              "      <td>Packaging badly damaged</td>\n",
              "      <td>1</td>\n",
              "    </tr>\n",
              "    <tr>\n",
              "      <th>19</th>\n",
              "      <td>19</td>\n",
              "      <td>Very thin fabric and bad, always afraid of tea...</td>\n",
              "      <td>1</td>\n",
              "    </tr>\n",
              "    <tr>\n",
              "      <th>20</th>\n",
              "      <td>20</td>\n",
              "      <td>I think the danger of fabric tightness .serasa...</td>\n",
              "      <td>1</td>\n",
              "    </tr>\n",
              "    <tr>\n",
              "      <th>21</th>\n",
              "      <td>21</td>\n",
              "      <td>He bought out the company Takyah ni.dah la nak...</td>\n",
              "      <td>1</td>\n",
              "    </tr>\n",
              "    <tr>\n",
              "      <th>22</th>\n",
              "      <td>22</td>\n",
              "      <td>I would love star Tadinnya 5. Eh turns after t...</td>\n",
              "      <td>1</td>\n",
              "    </tr>\n",
              "    <tr>\n",
              "      <th>23</th>\n",
              "      <td>23</td>\n",
              "      <td>Inaccurate size too small.</td>\n",
              "      <td>1</td>\n",
              "    </tr>\n",
              "    <tr>\n",
              "      <th>24</th>\n",
              "      <td>24</td>\n",
              "      <td>Disappointed, received in the form of crushed ...</td>\n",
              "      <td>1</td>\n",
              "    </tr>\n",
              "    <tr>\n",
              "      <th>25</th>\n",
              "      <td>25</td>\n",
              "      <td>Munting ya ga ga kepake complete the same pipe...</td>\n",
              "      <td>1</td>\n",
              "    </tr>\n",
              "    <tr>\n",
              "      <th>26</th>\n",
              "      <td>26</td>\n",
              "      <td>The product quality is not good</td>\n",
              "      <td>1</td>\n",
              "    </tr>\n",
              "    <tr>\n",
              "      <th>27</th>\n",
              "      <td>27</td>\n",
              "      <td>Shoddy</td>\n",
              "      <td>1</td>\n",
              "    </tr>\n",
              "    <tr>\n",
              "      <th>28</th>\n",
              "      <td>28</td>\n",
              "      <td>Ga included in the package</td>\n",
              "      <td>1</td>\n",
              "    </tr>\n",
              "    <tr>\n",
              "      <th>29</th>\n",
              "      <td>29</td>\n",
              "      <td>Delivery speed is not good.</td>\n",
              "      <td>1</td>\n",
              "    </tr>\n",
              "    <tr>\n",
              "      <th>...</th>\n",
              "      <td>...</td>\n",
              "      <td>...</td>\n",
              "      <td>...</td>\n",
              "    </tr>\n",
              "    <tr>\n",
              "      <th>146781</th>\n",
              "      <td>146781</td>\n",
              "      <td>The cream smells nice.. if it is effective i s...</td>\n",
              "      <td>5</td>\n",
              "    </tr>\n",
              "    <tr>\n",
              "      <th>146782</th>\n",
              "      <td>146782</td>\n",
              "      <td>Mantul ... 😍😍👍👍👍 Cpt bgt sent nya.harganya's a...</td>\n",
              "      <td>5</td>\n",
              "    </tr>\n",
              "    <tr>\n",
              "      <th>146783</th>\n",
              "      <td>146783</td>\n",
              "      <td>Awesome speed of the ship awesome awesome qua...</td>\n",
              "      <td>5</td>\n",
              "    </tr>\n",
              "    <tr>\n",
              "      <th>146784</th>\n",
              "      <td>146784</td>\n",
              "      <td>Has shipped According to the statement in full...</td>\n",
              "      <td>5</td>\n",
              "    </tr>\n",
              "    <tr>\n",
              "      <th>146785</th>\n",
              "      <td>146785</td>\n",
              "      <td>Excellent product quality excellent product p...</td>\n",
              "      <td>5</td>\n",
              "    </tr>\n",
              "    <tr>\n",
              "      <th>146786</th>\n",
              "      <td>146786</td>\n",
              "      <td>Sampai..kain fast stuff was best pkai</td>\n",
              "      <td>5</td>\n",
              "    </tr>\n",
              "    <tr>\n",
              "      <th>146787</th>\n",
              "      <td>146787</td>\n",
              "      <td>Her material is different is different, but go...</td>\n",
              "      <td>5</td>\n",
              "    </tr>\n",
              "    <tr>\n",
              "      <th>146788</th>\n",
              "      <td>146788</td>\n",
              "      <td>Ordered the Provinces, the total time that was...</td>\n",
              "      <td>5</td>\n",
              "    </tr>\n",
              "    <tr>\n",
              "      <th>146789</th>\n",
              "      <td>146789</td>\n",
              "      <td>Fast delivery</td>\n",
              "      <td>5</td>\n",
              "    </tr>\n",
              "    <tr>\n",
              "      <th>146790</th>\n",
              "      <td>146790</td>\n",
              "      <td>Good product quality Good value for money Fas...</td>\n",
              "      <td>5</td>\n",
              "    </tr>\n",
              "    <tr>\n",
              "      <th>146791</th>\n",
              "      <td>146791</td>\n",
              "      <td>Packing so much better. And deliver it on time...</td>\n",
              "      <td>5</td>\n",
              "    </tr>\n",
              "    <tr>\n",
              "      <th>146792</th>\n",
              "      <td>146792</td>\n",
              "      <td>Brosny cute bgt ,,, next order again ,,,, home...</td>\n",
              "      <td>5</td>\n",
              "    </tr>\n",
              "    <tr>\n",
              "      <th>146793</th>\n",
              "      <td>146793</td>\n",
              "      <td>The product quality is excellent.</td>\n",
              "      <td>5</td>\n",
              "    </tr>\n",
              "    <tr>\n",
              "      <th>146794</th>\n",
              "      <td>146794</td>\n",
              "      <td>Her mask Model gk dlm stuck in the lip, lipsti...</td>\n",
              "      <td>5</td>\n",
              "    </tr>\n",
              "    <tr>\n",
              "      <th>146795</th>\n",
              "      <td>146795</td>\n",
              "      <td>Excellent product quality excellent product p...</td>\n",
              "      <td>5</td>\n",
              "    </tr>\n",
              "    <tr>\n",
              "      <th>146796</th>\n",
              "      <td>146796</td>\n",
              "      <td>Item wrapped properly. Very fast respon from s...</td>\n",
              "      <td>5</td>\n",
              "    </tr>\n",
              "    <tr>\n",
              "      <th>146797</th>\n",
              "      <td>146797</td>\n",
              "      <td>supercuteee Oorder seller again thankyou. eh e...</td>\n",
              "      <td>5</td>\n",
              "    </tr>\n",
              "    <tr>\n",
              "      <th>146798</th>\n",
              "      <td>146798</td>\n",
              "      <td>Bagussssssssssssssssssss, Bagussssssssssssssss...</td>\n",
              "      <td>5</td>\n",
              "    </tr>\n",
              "    <tr>\n",
              "      <th>146799</th>\n",
              "      <td>146799</td>\n",
              "      <td>Stick adhesive tape is not very good.</td>\n",
              "      <td>5</td>\n",
              "    </tr>\n",
              "    <tr>\n",
              "      <th>146800</th>\n",
              "      <td>146800</td>\n",
              "      <td>Hehe thanks Baguuuuuuuuuuuus kaaaa😍😍😍😍😍😍😍😍👍👍👍👍...</td>\n",
              "      <td>5</td>\n",
              "    </tr>\n",
              "    <tr>\n",
              "      <th>146801</th>\n",
              "      <td>146801</td>\n",
              "      <td>Explore huge crowd here Children seem to like ...</td>\n",
              "      <td>5</td>\n",
              "    </tr>\n",
              "    <tr>\n",
              "      <th>146802</th>\n",
              "      <td>146802</td>\n",
              "      <td>Product is good. But next time don’t put a sti...</td>\n",
              "      <td>5</td>\n",
              "    </tr>\n",
              "    <tr>\n",
              "      <th>146803</th>\n",
              "      <td>146803</td>\n",
              "      <td>Thanks you very satisfactory</td>\n",
              "      <td>5</td>\n",
              "    </tr>\n",
              "    <tr>\n",
              "      <th>146804</th>\n",
              "      <td>146804</td>\n",
              "      <td>Excellent quality Excellent quality Very acco...</td>\n",
              "      <td>5</td>\n",
              "    </tr>\n",
              "    <tr>\n",
              "      <th>146805</th>\n",
              "      <td>146805</td>\n",
              "      <td>The product price is very good.</td>\n",
              "      <td>5</td>\n",
              "    </tr>\n",
              "    <tr>\n",
              "      <th>146806</th>\n",
              "      <td>146806</td>\n",
              "      <td>Excellent product quality delivery speed is ve...</td>\n",
              "      <td>5</td>\n",
              "    </tr>\n",
              "    <tr>\n",
              "      <th>146807</th>\n",
              "      <td>146807</td>\n",
              "      <td>thanks gan</td>\n",
              "      <td>5</td>\n",
              "    </tr>\n",
              "    <tr>\n",
              "      <th>146808</th>\n",
              "      <td>146808</td>\n",
              "      <td>Awesome awesome quality merchandise value CP ...</td>\n",
              "      <td>5</td>\n",
              "    </tr>\n",
              "    <tr>\n",
              "      <th>146809</th>\n",
              "      <td>146809</td>\n",
              "      <td>Nice Packing boxes made effective price .........</td>\n",
              "      <td>5</td>\n",
              "    </tr>\n",
              "    <tr>\n",
              "      <th>146810</th>\n",
              "      <td>146810</td>\n",
              "      <td>Excellent product quality excellent product p...</td>\n",
              "      <td>5</td>\n",
              "    </tr>\n",
              "  </tbody>\n",
              "</table>\n",
              "<p>146811 rows × 3 columns</p>\n",
              "</div>"
            ]
          },
          "metadata": {
            "tags": []
          },
          "execution_count": 4
        }
      ]
    },
    {
      "cell_type": "code",
      "metadata": {
        "tags": [],
        "cell_id": "68a8af69-020b-47c4-bbd9-d83f9b5cd3c9",
        "id": "7V_mz8hC6b6R",
        "colab_type": "code",
        "colab": {},
        "outputId": "8735b0ae-b4da-407c-a957-0f96dd87b777"
      },
      "source": [
        "test"
      ],
      "execution_count": null,
      "outputs": [
        {
          "output_type": "execute_result",
          "data": {
            "application/vnd.deepnote.dataframe.v2+json": {
              "row_count": 62918,
              "column_count": 2,
              "columns": [
                {
                  "name": "review_id",
                  "dtype": "int64",
                  "stats": {
                    "unique_count": 62918,
                    "nan_count": 0,
                    "min": 0,
                    "max": 62917,
                    "histogram": [
                      {
                        "bin_start": 0,
                        "bin_end": 6291.7,
                        "count": 6292
                      },
                      {
                        "bin_start": 6291.7,
                        "bin_end": 12583.4,
                        "count": 6292
                      },
                      {
                        "bin_start": 12583.4,
                        "bin_end": 18875.1,
                        "count": 6292
                      },
                      {
                        "bin_start": 18875.1,
                        "bin_end": 25166.8,
                        "count": 6291
                      },
                      {
                        "bin_start": 25166.8,
                        "bin_end": 31458.5,
                        "count": 6292
                      },
                      {
                        "bin_start": 31458.5,
                        "bin_end": 37750.2,
                        "count": 6292
                      },
                      {
                        "bin_start": 37750.2,
                        "bin_end": 44041.9,
                        "count": 6291
                      },
                      {
                        "bin_start": 44041.9,
                        "bin_end": 50333.6,
                        "count": 6292
                      },
                      {
                        "bin_start": 50333.6,
                        "bin_end": 56625.299999999996,
                        "count": 6292
                      },
                      {
                        "bin_start": 56625.299999999996,
                        "bin_end": 62917,
                        "count": 6292
                      }
                    ]
                  }
                },
                {
                  "name": "review",
                  "dtype": "object"
                }
              ],
              "rows_top": {
                "0": {
                  "review_id": 0,
                  "review": "slow delivery"
                },
                "1": {
                  "review_id": 1,
                  "review": "Dateng goods do not conform pesanan😔"
                },
                "2": {
                  "review_id": 2,
                  "review": "PSN k its 20 other DTG"
                },
                "3": {
                  "review_id": 3,
                  "review": "I am expected that it have a frame and painted in a canvass but sad to note i am very disappointed. It printed like a tarp.! I will not suggest this seller and recommend. So disappointed."
                },
                "4": {
                  "review_id": 4,
                  "review": "The product quality is not good."
                },
                "5": {
                  "review_id": 5,
                  "review": "goods came really not the same as shown in the description, which is straight all, why ?, I want to reply elbow and straight, it is straight all ... duh ... would diapain again .... alemong deh yey ... what lupita or delivery error or intentional anyway? never mind.   already.  hopefully"
                },
                "6": {
                  "review_id": 6,
                  "review": "Q order came quickly but im so very disappointed! Larger size n i u dineliver compared before! 😡😡 to order quality 5pcs, 1 or 2 lng ata quality here, some are thin n! Grabe! Nkakainis! Yung skintone, ie those previous order q, please see the size difference between them!"
                },
                "7": {
                  "review_id": 7,
                  "review": "Aprox 1 bjunyaa"
                },
                "8": {
                  "review_id": 8,
                  "review": "Send a brown color to black, very sick."
                },
                "9": {
                  "review_id": 9,
                  "review": "Did not receive item Will not order again"
                },
                "10": {
                  "review_id": 10,
                  "review": "Open items have dumbfounded used to look over n years"
                },
                "11": {
                  "review_id": 11,
                  "review": "The product quality is not good. There is a flaw"
                },
                "12": {
                  "review_id": 12,
                  "review": "Good product but right ga ga given promises change"
                },
                "13": {
                  "review_id": 13,
                  "review": "product defects"
                },
                "14": {
                  "review_id": 14,
                  "review": "Of 5 orders ... motif that BNR's just ... hope next 1😩 could ny better lbh"
                },
                "15": {
                  "review_id": 15,
                  "review": "Item shipped late"
                },
                "16": {
                  "review_id": 16,
                  "review": "Sandals too little, just like sz 35.36 only. Shop listening but actually seems to be large so k Poor attitude."
                },
                "17": {
                  "review_id": 17,
                  "review": "Quality is ok but the size chart is wrong it stated 122 cm bust /chest but it is smaller than expected. I would have to give it away. Shame after waiting for so long. Zipper also very hard to draw up or down. Regret buying from this seller. When I asked before purchase about size he said accurate"
                },
                "18": {
                  "review_id": 18,
                  "review": "Not to order .... very kecwa ..... very jero jero"
                },
                "19": {
                  "review_id": 19,
                  "review": "D beautiful packaging so nagcrack nong shipping those items or maybe really crack wrapped in., Kinancel refund because I just hassle. The many requirements. Neremedyo So I crack.d well xa universal."
                },
                "20": {
                  "review_id": 20,
                  "review": "Her stuff is nice but it really black color at red .. My right message in yellow at red .."
                },
                "21": {
                  "review_id": 21,
                  "review": "produkny writing HRG to 3 pcs, shipped tp cm 1 doang, disappointing :("
                },
                "22": {
                  "review_id": 22,
                  "review": "The products do not original."
                },
                "23": {
                  "review_id": 23,
                  "review": "Messages are sent only 1, 3 pca complained uncooperative. Chat returned sloww response. kapok"
                },
                "24": {
                  "review_id": 24,
                  "review": "directly interested order 20pcs. Brang come, teenyata rougher than I imagined. thanks boss"
                },
                "25": {
                  "review_id": 25,
                  "review": " Product quality is very poor very unnecessary money, choose one template, delivery another form"
                },
                "26": {
                  "review_id": 26,
                  "review": "Courier J & T expires sanggat disappointed, not in between at the address in our order to then be Nungu his office for hours. Then almost damaged goods. Her cardboard kayak has been 100 years in the life crushed like satay sauce. disappointed sanggat"
                },
                "27": {
                  "review_id": 27,
                  "review": "Potatoes come already slimy and some slightly blackish"
                },
                "28": {
                  "review_id": 28,
                  "review": "The product quality is not good"
                },
                "29": {
                  "review_id": 29,
                  "review": "I received 4 pairs .. pajamas 1 is small in size. Although correct weight if compare to the mall more expensive prize. The thin fabric."
                },
                "30": {
                  "review_id": 30,
                  "review": "Within their guns at photo quality good product delivery speed well priced good product just dapet 3 pcs"
                },
                "31": {
                  "review_id": 31,
                  "review": "sounds just next door. next to die. and a lot of peeling rubber."
                },
                "32": {
                  "review_id": 32,
                  "review": "Delivery was fast but very disappointed when I open the box.I specifically told the seller to check for damage after placing my order,but end up I received the item with damage and rust.I mg the seller but no response,worst customer service.please don't buy from this seller."
                },
                "33": {
                  "review_id": 33,
                  "review": "The tube sleeve to struggle out y'all sir. I put đk on foot but also wide attention. Zide M and know 😂😂🤣 poor product packaging. Calico ball stick in pockets. Torn corner. Austria no labels at all. Bad smell."
                },
                "34": {
                  "review_id": 34,
                  "review": "The products do not original."
                },
                "35": {
                  "review_id": 35,
                  "review": "First time buyers but torn pants"
                },
                "36": {
                  "review_id": 36,
                  "review": "Disappointed because of the message that comes maroon black and navy not the same reply size with another one dress size too small. Before being sent to be checked first."
                },
                "37": {
                  "review_id": 37,
                  "review": "The product quality is not good. Defective product pinggirnya😭"
                },
                "38": {
                  "review_id": 38,
                  "review": "Tipisssss sangatttt clothes, color putihny very dreamy ..."
                },
                "39": {
                  "review_id": 39,
                  "review": "Her nut missing cap can not be used, tlg send his nuts"
                },
                "40": {
                  "review_id": 40,
                  "review": "Item different from picture Will not order again...poor quality, misleading!"
                },
                "41": {
                  "review_id": 41,
                  "review": "A good one is pretty good sound quality have sent Clemson 2 return 2 pieces without any details. Tesco agreed to send back the goods first. No, it's pouring Gave a very slow response"
                },
                "42": {
                  "review_id": 42,
                  "review": "Speed ​​of delivery is good. Color is not appropriate, who asked what color sent what. The response is not very good seller. Disappointingly, kapok."
                },
                "43": {
                  "review_id": 43,
                  "review": "Yung I would order but no one came. I did communicate well with them, but others still sent .. ok i live more than selling you order 50pcs kc mrurumi they shop and more."
                },
                "44": {
                  "review_id": 44,
                  "review": "Until the goods already, but I accept gx altogether. I regret spending here, ngartis also that the selling !!!"
                },
                "45": {
                  "review_id": 45,
                  "review": "The blouse does not look exactly like the picture. Loose shoulders and he hardly the same cloth. :("
                },
                "46": {
                  "review_id": 46,
                  "review": "Did not inform the buyer of the goods on the bag with a direct refund, originally set two clocks (want to save a sum of freight) But only sent a (not my original choice of color), private news ask you what does not reply Bad shopping experience"
                },
                "47": {
                  "review_id": 47,
                  "review": "Dateng goods cuman late fill empty cardboard doang Artisan herbal bgt ga mandate jgn rich until there is apt w loss of money ga ga .... how but sin lo BYK  Spot th duit haram"
                },
                "48": {
                  "review_id": 48,
                  "review": "The response is not good seller, already d chat repeatedly, either to the goods or other goods, the seller no response tp, d not explain dlm PO item description or ready stock If indeed PO, at least buyers know .. The seller no response at all "
                },
                "49": {
                  "review_id": 49,
                  "review": "Her new dateng hours cohabited. The first liver fitting disposable needles path length. But ga needle short length of road. How atuh how come so. In the chat again orabgnya ga bales. Yes seengganya bales so apologetic kek what how. Sorry I love 2 first."
                },
                "50": {
                  "review_id": 50,
                  "review": "Item received today. Functional but full of scratches. Not satisfied with the product received"
                },
                "51": {
                  "review_id": 51,
                  "review": "Dtangx cut no waiting 6paketku arrived ay gembok.emang not there beresssss sy bru ...... this store value jelllekkkkk .... klo near mgkn I've DTG ktokox. Pelayanannnnn jelekkkkk even invite brantem in chat. !!!!"
                },
                "52": {
                  "review_id": 52,
                  "review": "Upset, because the goods are given already would exp. Please check the web code 7Z01 production is made in 2017 ... And already want exp 4bulan again. Dry and powdering ga"
                },
                "53": {
                  "review_id": 53,
                  "review": "The shops that never wanted to see again. Convention can only permanently rp. Missing restaurant also calling insulted and threatened guests. Mince for reimbursement under a new bored. Decor Masters"
                },
                "54": {
                  "review_id": 54,
                  "review": "The product quality is not good."
                },
                "55": {
                  "review_id": 55,
                  "review": "Price segituh his seharus the match ga 25k ,, kirain BNR edge side of it there is jaitan kyk x-ride seat turns cuman screen printing on plastic and its materials lapisin thin as well. Going ga this long kepake mh. 2mingu also UDH this faded stencil hopefully should be more careful who buy and sell must nurunin that price,"
                },
                "56": {
                  "review_id": 56,
                  "review": "Please check back in a neat seblum bgian who have broken"
                },
                "57": {
                  "review_id": 57,
                  "review": "the goods shipped its contents trash, sly seller, the next world I was not sincere, no response, just that resembles the name of Muhammad, but the attitude of sorts not bermanusia"
                },
                "58": {
                  "review_id": 58,
                  "review": "His clock was broken ga needle nya🙈"
                },
                "59": {
                  "review_id": 59,
                  "review": "The product quality is not good. My shopee its loyal customers, only this time disappointed at stores. Buy 3 items all of her not to order, smoga shopee follow-up shop is that customers who deceive shopee morbidly disappointed. Thanks"
                },
                "60": {
                  "review_id": 60,
                  "review": "The best I could solder properly because of the narrowness of the space"
                },
                "61": {
                  "review_id": 61,
                  "review": "The products do not original."
                },
                "62": {
                  "review_id": 62,
                  "review": " Speed ​​of delivery is good, the seller is not a good response, PHP, satatus not clear, Orders sy ignored. jgn want to buy in this store."
                },
                "63": {
                  "review_id": 63,
                  "review": "Products for nothing, bery expensive price of the product quality, long-boiling, summed too bad. Because change delivery process too complicated and boring charges should not bother paying to exhibit corner, useless"
                },
                "64": {
                  "review_id": 64,
                  "review": "Sorry sy love 2, disappointed krn bgt tp buy a lot being sent does not match the color. PM 20 pcs white color purple tp being sent all without confirmation. It makes morbidly connect with the house so that unused paint."
                },
                "65": {
                  "review_id": 65,
                  "review": "Very damage! It suits the price! But also do not you just sell the yang damage! 19 pesos is 19 pesos! Although it pesos worth it! Annoying"
                },
                "66": {
                  "review_id": 66,
                  "review": "Less good seller response  Bgus but syg wrna material that does not fit pdhl expelled with ash falling on the confirmation SDH captions and chat"
                },
                "67": {
                  "review_id": 67,
                  "review": "Elle vire'y meleleh..mgkn because the ninth and cardboard heat melted in the .."
                },
                "68": {
                  "review_id": 68,
                  "review": "Damaged / defective item not working my selfie stick. Two items I inavail yet."
                },
                "69": {
                  "review_id": 69,
                  "review": "Speed ​​of delivery is good"
                },
                "70": {
                  "review_id": 70,
                  "review": "Wrong item received / read in the seller white black oh my order was also given disapppinted poor seller regulate for you not angry costumers understand you better take a look at the orders you have before you ipack sure correct those items that you placed .."
                },
                "71": {
                  "review_id": 71,
                  "review": "He does not work. Kakadisappoint, also wasted money."
                },
                "72": {
                  "review_id": 72,
                  "review": "This reply will happen can not be used ka .. not the size of an adult. The size of the elementary school children of class 6"
                },
                "73": {
                  "review_id": 73,
                  "review": "Don ever trust this shop...until now not yet receive the goods....😠😠😠😠😠😠😠"
                },
                "74": {
                  "review_id": 74,
                  "review": "Poor quality Will not order again"
                },
                "75": {
                  "review_id": 75,
                  "review": "The product quality is not good"
                },
                "76": {
                  "review_id": 76,
                  "review": "The glass is really small and cannot fit the watch screen."
                },
                "77": {
                  "review_id": 77,
                  "review": "Dh stuff up .. but vacuum sealer is not functioning well, take a very long time For vacuum, over 15min For prepare a pack."
                },
                "78": {
                  "review_id": 78,
                  "review": "Item noted is color black yet received maroon."
                },
                "79": {
                  "review_id": 79,
                  "review": "Not seen 4 pieces donated as advertising"
                },
                "80": {
                  "review_id": 80,
                  "review": "Her goods not adda. !!!"
                },
                "81": {
                  "review_id": 81,
                  "review": "Totally cant. accept this kind quality, crack ing at the side"
                },
                "82": {
                  "review_id": 82,
                  "review": "The product quality is not good."
                },
                "83": {
                  "review_id": 83,
                  "review": "Communication satellite unclear goods"
                },
                "84": {
                  "review_id": 84,
                  "review": "Color does not correspond with the image in the image there are wrinkles that come back no rubber d"
                },
                "85": {
                  "review_id": 85,
                  "review": "GUE pesen LETTERS LETTERS B instead YG dateng C. GAK DIHUBUNGIN NO ANSWER. LAME KAPOK GUE SHOPPING HERE."
                },
                "86": {
                  "review_id": 86,
                  "review": "I thought big :("
                },
                "87": {
                  "review_id": 87,
                  "review": "The balloon is deflated that time fell much more, not rubber kenceng"
                },
                "88": {
                  "review_id": 88,
                  "review": "FIX DISAPPOINTED, first shopping dsni, Zonk !!! Sent not umama VOAL scarf his mouth orange packaging, instead send alesha brand, material bagusan umama sure. because I'm so give color wrong, ask wrna navi 2 pcs in love milo, ask salem 2 pcs in love dusty, whereas this pesenan friend"
                },
                "89": {
                  "review_id": 89,
                  "review": " Bad quality of goods Poor fabric texture is hard and rough Focus is around the neckline is too small ...... After dragging down will not want to wear it, because uncomfortable Sewn very rough"
                },
                "90": {
                  "review_id": 90,
                  "review": "Wrong item received"
                },
                "91": {
                  "review_id": 91,
                  "review": "My goodness this kak ko si sent another model is not a model that I pesen..warna nice army'y tp the different models .. gmna dong kak pdhl pesenan costomer 😭😭"
                },
                "92": {
                  "review_id": 92,
                  "review": "Standard packaging.. Item missing.. No more response from the seller after receiving the payment..  😂😂😂"
                },
                "93": {
                  "review_id": 93,
                  "review": "Never before pasting such strenuous effort, but the screen border leaking ship videos follow tiny air bubbles still, unfortunately still acceptable."
                },
                "94": {
                  "review_id": 94,
                  "review": "Poor product quality product quality less good..there one part and broken TDK seller shipped to check brngny Prev Jg Kardusnyapun ugly SDH signaling brngnya never unloaded psng"
                },
                "95": {
                  "review_id": 95,
                  "review": "peeling edges"
                },
                "96": {
                  "review_id": 96,
                  "review": "Delivered at full sample templates that last k annual dep..nhu remnant"
                },
                "97": {
                  "review_id": 97,
                  "review": "Mmmmmmmmmmmmaaaanaannnnnnnnnnttttgggguuuiuiuujjjullllllldjdjdjejejeieo doll can not hdp"
                },
                "98": {
                  "review_id": 98,
                  "review": "Its products 4. 2 for sends. Buy 22, he sent a few days later. Finally until 29th -____- bete bgt. No re-purchase!"
                },
                "99": {
                  "review_id": 99,
                  "review": "Shoddy version, shoddy verision, difference😡"
                },
                "100": {
                  "review_id": 100,
                  "review": "Goods not in accordance with the image .. button does not work .. goods can not be used .. doang sirens that sound .. can any Ga-apain .. Argh ..."
                },
                "101": {
                  "review_id": 101,
                  "review": "Speed ​​of delivery is good"
                },
                "102": {
                  "review_id": 102,
                  "review": "Quality Time: 1 Star Packing: 1 Star Shipping: 1 Star Overall rating: 2 stars"
                },
                "103": {
                  "review_id": 103,
                  "review": "Inappropriate image"
                },
                "104": {
                  "review_id": 104,
                  "review": "Ga product according to the image y .... Buy 30biji disappointed"
                },
                "105": {
                  "review_id": 105,
                  "review": "Rcvd parcel in good condition. Very poor quality ribbon. Looks cheap and poor material. 😤😤😤😵😵😵"
                },
                "106": {
                  "review_id": 106,
                  "review": "Flowers, cotton lint is caught me. Rod was a different color, 3-color wrong. Ordered 2 bunches. See the photos came out pretty. But I really do not have it."
                },
                "107": {
                  "review_id": 107,
                  "review": "Product has been successfully trial, not sure whether it is genuine or not, to see my side. Use a dry cloth is also very good spinning very wet. Handle the timer is not strong enough yet to call back."
                },
                "108": {
                  "review_id": 108,
                  "review": "Poor product quality is not worth the money Very"
                },
                "109": {
                  "review_id": 109,
                  "review": "Set delivery shorts trousers because his watch afraid to change the festival should pay!"
                },
                "110": {
                  "review_id": 110,
                  "review": "blue misplaced in photo :("
                },
                "111": {
                  "review_id": 111,
                  "review": "A few times I sent to lack of time. Should check the product carefully before submitting them. I want to be a customer's complete order. Employees of the shop was checked again before the PAC or not. I never thought I would be cheating. I did not, I was not going to tell you what to do."
                },
                "112": {
                  "review_id": 112,
                  "review": "Intelligent main cave pai investigation code k hang.buon :-). :-)"
                },
                "113": {
                  "review_id": 113,
                  "review": "Not recomended seller, shipping lamaaaaaaaaaaaaaaaaaaaaaaaaaaaaaaaaaaaaaaaaaaaaaaaaaaaaaaaaaaaaaaaaaaaaaa, the goods do not fit the image no zipper on the bag over her, fortunately the same message I want to thank her stuff, kapoooooooooooooooooooooooooooooooooooooooooooooooooooooooookkkkkkkkkkkkkkk"
                },
                "114": {
                  "review_id": 114,
                  "review": "Its rotary screw cap does not fit Plastic bottle makes a mess"
                },
                "115": {
                  "review_id": 115,
                  "review": "He hnd waterproof glue and fake ... like me ... please please check the item seller .. disappointed 😩"
                },
                "116": {
                  "review_id": 116,
                  "review": "Đéo using DC"
                },
                "117": {
                  "review_id": 117,
                  "review": "Items shipped immediately ko yung soap purely chack tas mbilis melt"
                },
                "118": {
                  "review_id": 118,
                  "review": "Did not receive item"
                },
                "119": {
                  "review_id": 119,
                  "review": "Speed ​​of delivery is good. The response is not good sellers."
                },
                "120": {
                  "review_id": 120,
                  "review": "No lid"
                },
                "121": {
                  "review_id": 121,
                  "review": "poor service. k k row just told to switch to change shoppe began losing the first ship 2. 30k 50k population is beginning to ship 2 sent via shoppe k 80k sure to send."
                },
                "122": {
                  "review_id": 122,
                  "review": "Mantaf boss mksh"
                },
                "123": {
                  "review_id": 123,
                  "review": "Product quality very much dissatisfied."
                },
                "124": {
                  "review_id": 124,
                  "review": "Just now I give 3 krn pandax WRN not pitch-black, opaque kyak gituh, then benangx off jatuh2 not strong, tangled. ..😟 Barangx suggestions please carefully good, it just let tokox increasingly in demand. Kan has become subscription .."
                },
                "125": {
                  "review_id": 125,
                  "review": "super wide when you short😏"
                },
                "126": {
                  "review_id": 126,
                  "review": "Do not read the terms of expository if the stock is empty shipped existing types. Aja disappointed."
                },
                "127": {
                  "review_id": 127,
                  "review": "2X the price is more expensive than other stores, pdhal products are also the same. Continue to step 2 contents baseball mouth full, only half a bottle doang."
                },
                "128": {
                  "review_id": 128,
                  "review": "Packing x containers directly. no bubble wrap .. brg bergolek2 dlm box. Abis leaking. Seller please alerts. Sorry forced bg 1 star je .."
                },
                "129": {
                  "review_id": 129,
                  "review": "Products not in keeping with the order"
                },
                "130": {
                  "review_id": 130,
                  "review": "Not the original Winsor & Newton guys it's a China version"
                },
                "131": {
                  "review_id": 131,
                  "review": "Good seller response but less good product quality is the whiteness Tiipiiis very unlike the navy yesterday that the first order which also called for size L sent XL .. party dress white shirt kayak ... Keeeeceeeewaaaaaaa"
                },
                "132": {
                  "review_id": 132,
                  "review": "Larger than the sales person informed. Need to send an additional change fee."
                },
                "133": {
                  "review_id": 133,
                  "review": "Delivered completely wrong, out of stock notice, guests not agree themselves shipper"
                },
                "134": {
                  "review_id": 134,
                  "review": "Shipping Old And 1 week More"
                },
                "135": {
                  "review_id": 135,
                  "review": "I did not glue Ca Ngu little loose. By the second day, and then spread no cars."
                },
                "136": {
                  "review_id": 136,
                  "review": "Will not order again! Useless smart earwax!😥"
                },
                "137": {
                  "review_id": 137,
                  "review": "Will not order again"
                },
                "138": {
                  "review_id": 138,
                  "review": "Poor quality"
                },
                "139": {
                  "review_id": 139,
                  "review": "Not fit despite minor reservations L size. his 51kg"
                },
                "140": {
                  "review_id": 140,
                  "review": "Cancel penalty because its shops and get more points because of transport delays."
                },
                "141": {
                  "review_id": 141,
                  "review": "I not received the product"
                },
                "142": {
                  "review_id": 142,
                  "review": "Thin, held in terrible hands. Customers buy the correct this is tha garbage home."
                },
                "143": {
                  "review_id": 143,
                  "review": "Terrible value Speed ​​of delivery is very poor."
                },
                "144": {
                  "review_id": 144,
                  "review": "Its user manual for whom the O's? Nda's in the box? Its use is less than the maximum, even kayaks nda 😭😭😭 function dusting etc."
                },
                "145": {
                  "review_id": 145,
                  "review": "Shop as mother earth attitude and verbally countryside hotel upon request change delivery =)) in general is how to elderly"
                },
                "146": {
                  "review_id": 146,
                  "review": "Wrong item received Wrong item received Wrong item received Wrong item received Will not order again Will not order again Will not order again Will not order again Will not order again"
                },
                "147": {
                  "review_id": 147,
                  "review": "Pattern & Colour not same"
                },
                "148": {
                  "review_id": 148,
                  "review": "3M wire long, but its name says 13M."
                },
                "149": {
                  "review_id": 149,
                  "review": "Thỳ sp bt quality. Falcon k is only the attitude of the shop. Both are wrong nh yourself and shop when discussing solutions k thỳ enthusiastic shop. Winding refused. Mistaken delivery form still controversial mortar pestle"
                },
                "150": {
                  "review_id": 150,
                  "review": "Faulty dirty shirt in hand, just too much excess."
                },
                "151": {
                  "review_id": 151,
                  "review": "Ugly di naman change color .."
                },
                "152": {
                  "review_id": 152,
                  "review": "goods in 6 messages are sent only 5 and in a paper written JNT Sent items 6 .... really disappointing"
                },
                "153": {
                  "review_id": 153,
                  "review": "I like dri made of iron / aluminum CMN I try it on TV and when I could not try on the computer instead 1.90TB not 2TB"
                },
                "154": {
                  "review_id": 154,
                  "review": "Sugan big tea euy, ahhh letikkkkkkk aripek dekahhhhhhhhh"
                },
                "155": {
                  "review_id": 155,
                  "review": "Sponge powder ko ga"
                },
                "156": {
                  "review_id": 156,
                  "review": "Order queen but interchangeable single ... very disappointed 😩😩😩👎👎👎"
                },
                "157": {
                  "review_id": 157,
                  "review": "No extra bubble wrap ... no luck .. Zonk once"
                },
                "158": {
                  "review_id": 158,
                  "review": "He said buy 1 get 1 free ... But who dateng only 1 wrote ... No gratisnya Ga .... How the hell, lying bgt !!!"
                },
                "159": {
                  "review_id": 159,
                  "review": "Thin material colors fade. Disappointed"
                },
                "160": {
                  "review_id": 160,
                  "review": "Shipping by express sameday but the goods until 5 days later"
                },
                "161": {
                  "review_id": 161,
                  "review": "Her thin mala Kecewa😩😩celana"
                },
                "162": {
                  "review_id": 162,
                  "review": "The product quality is not good"
                },
                "163": {
                  "review_id": 163,
                  "review": "Thin really yes god scared broken :("
                },
                "164": {
                  "review_id": 164,
                  "review": "This problem is like a sieve tray and insert a smaller time to put it off no longer fit between the compartments. With the solution gradually buy new add baking."
                },
                "165": {
                  "review_id": 165,
                  "review": "Very poor product quality"
                },
                "166": {
                  "review_id": 166,
                  "review": "Other dineliver wtf"
                },
                "167": {
                  "review_id": 167,
                  "review": "Her Pet Khimar different as early reply q orders in another stall, Continues in his description vol 3, superiors use materials Jersey, tp yg Dateng material is full of cigars ... It's been a long wait, disappointed too 😥😥😥"
                },
                "168": {
                  "review_id": 168,
                  "review": "Revondana but rejected complaints ,,, aneeeeh"
                },
                "169": {
                  "review_id": 169,
                  "review": "Very poor service by the seller Get interchangeable color color Other Other HBS stock color we ever nk bg la awl2 .. Ni g x..trs post .."
                },
                "170": {
                  "review_id": 170,
                  "review": "It is not 10cm thick, less than 5cm."
                },
                "171": {
                  "review_id": 171,
                  "review": "Pretty good product quality is very good delivery speed TPI Synk within their morbidly ny said kerudungny pjg sgn disappointed"
                },
                "172": {
                  "review_id": 172,
                  "review": "Not original krn bekleed / SDH skin replaced, there were traces staplesnya & bgn upper cut no stitches such as the original"
                },
                "173": {
                  "review_id": 173,
                  "review": "never deliver my order.scam?"
                },
                "174": {
                  "review_id": 174,
                  "review": "All the biscuits are broken. Very bad packaging. I demand a refund or replacement please"
                },
                "175": {
                  "review_id": 175,
                  "review": "Shirt with a black jacket over it is not very thin, then wash out is not bad. If you do not have to score to 0."
                },
                "176": {
                  "review_id": 176,
                  "review": "Product does not look like pic at all. Very disappointed. The material tends to shed alot too"
                },
                "177": {
                  "review_id": 177,
                  "review": "Rogue traders goods are not sent"
                },
                "178": {
                  "review_id": 178,
                  "review": "Goods returned empty but money is not the usual subscription 😣 skrg so disappointed. Want to make more sales so first loss since many products are not shipped yet been paid. In the chat not respond."
                },
                "179": {
                  "review_id": 179,
                  "review": "2 One of his message Ok. Uh another one of his diselangkangan torn."
                },
                "180": {
                  "review_id": 180,
                  "review": "Money as a lump Eraser"
                },
                "181": {
                  "review_id": 181,
                  "review": "Additional sabunny discrepant image ... disappointing bgt ..."
                },
                "182": {
                  "review_id": 182,
                  "review": "buy two, the other one Bener size 130x180, 130x147 lg other one. asked he be given the appropriate invoice is yes if appropriate invoice ksh knp 130x147 size :( jelas2 size of 130x180, trs blgnya shipped according to stock. kl diretur bs would refund first, all males bgt ya lg cm psbb Gini out of the house make to send ginian"
                },
                "183": {
                  "review_id": 183,
                  "review": "Can not be evaluated using the experience, then you please turn off the evaluation. \"Very good accommodation\" called bad reviews? "
                },
                "184": {
                  "review_id": 184,
                  "review": "Pesen shelf shoe rack Dateng hijab that time please check in advance, if not in stock please confirm in advance to the customer. Fix again"
                },
                "185": {
                  "review_id": 185,
                  "review": "Can not be used"
                },
                "186": {
                  "review_id": 186,
                  "review": "Ny broken bottle caps, jd customers kecewa😊"
                },
                "187": {
                  "review_id": 187,
                  "review": "Poor product quality very poor Shop serves very unnecessary money. Do not buy products in this shop."
                },
                "188": {
                  "review_id": 188,
                  "review": "WHY SO? XXL THE SIZE I ordered, THE LITTLE PADIN. UNISEX BUT JUST LIKE ANY SIZE OF WOMEN'S SIZES. SAYANG MONEY TOL."
                },
                "189": {
                  "review_id": 189,
                  "review": "We didn't receive the item!"
                },
                "190": {
                  "review_id": 190,
                  "review": "Dikirain sizenya big, small turns bgt😭😭 Disappointed "
                },
                "191": {
                  "review_id": 191,
                  "review": "stuff to slow .."
                },
                "192": {
                  "review_id": 192,
                  "review": "Wrong color received. I ordered for 2 pink. There’s a crack visible on the gray item. "
                },
                "193": {
                  "review_id": 193,
                  "review": "Speed ​​of delivery is slow. Stores do not chat The service is not okay"
                },
                "194": {
                  "review_id": 194,
                  "review": "Very poor quality but well, what do you expect... it's cheap.. "
                },
                "195": {
                  "review_id": 195,
                  "review": "It looks like the stickers are not sent ya..kecewa 5 percent."
                },
                "196": {
                  "review_id": 196,
                  "review": "Wrong size. Damn. Send me size 7 pls"
                },
                "197": {
                  "review_id": 197,
                  "review": "It stinks too much like paint."
                },
                "198": {
                  "review_id": 198,
                  "review": "Khimarnya different sma antecedent photo July kpnjngann very high pdhl I 160"
                },
                "199": {
                  "review_id": 199,
                  "review": "Old packaging, the goods are not delivered to order in order there select pots 5 tp not sent in question did not in his reply. Poor product packaging of fertilizers which in his plastic message so that its contents torn out fitting package in the open"
                },
                "200": {
                  "review_id": 200,
                  "review": "Poor value for money Speed ​​of delivery Poor."
                },
                "201": {
                  "review_id": 201,
                  "review": "Jelekkk quality such as size L size S"
                },
                "202": {
                  "review_id": 202,
                  "review": "Item did not recieve..."
                },
                "203": {
                  "review_id": 203,
                  "review": "The adhesive tape is not good"
                },
                "204": {
                  "review_id": 204,
                  "review": "Very poor product quality and product damaged"
                },
                "205": {
                  "review_id": 205,
                  "review": "His voice was a bit broken if somewhat kenceng ngak be bold bass"
                },
                "206": {
                  "review_id": 206,
                  "review": "Fitting mask until pecah2 pdhal existing plastic pke ttol2nya it ..."
                },
                "207": {
                  "review_id": 207,
                  "review": "Card can transfer data sesetengh dri hp to SD je ... Not all transfer .. .. Moist Amik Synonym MSA 30 minutes for 381mb video folder n gmbr"
                },
                "208": {
                  "review_id": 208,
                  "review": "This motif is the amount that d send discrepant with that d order"
                },
                "209": {
                  "review_id": 209,
                  "review": "Very poor product quality ... 😕😕belum apa2 broken again dh ... xde already come very strong .."
                },
                "210": {
                  "review_id": 210,
                  "review": "Disappointed bgt bgt old packaging long jg delivery unfavorable product quality good seller response tp Sorry I love 2"
                },
                "211": {
                  "review_id": 211,
                  "review": "Unexpectedly dropped out of the bag at once .."
                },
                "212": {
                  "review_id": 212,
                  "review": "Bajuna there bolongnya, please be d consider again the order not rich gini"
                },
                "213": {
                  "review_id": 213,
                  "review": "Good printing quality but not with its substance"
                },
                "214": {
                  "review_id": 214,
                  "review": "Product quality is poor K solution K keep warm qá DC 20 minutes while keeping the solution offering the DC 5-6 hours Assigned color as described indiscriminate k customer selected Serves good attitude k"
                },
                "215": {
                  "review_id": 215,
                  "review": "NOT AUTHENTIC. DO NOT BUY."
                },
                "216": {
                  "review_id": 216,
                  "review": "I order the usb rechargeable but the seller gave me the one that using battery. Bad service."
                },
                "217": {
                  "review_id": 217,
                  "review": "Bim you just get there first check the faulty 4 k layer cotton garments should carefully tear off one half r .. Bored 😌😌 Unused As quality should kb"
                },
                "218": {
                  "review_id": 218,
                  "review": "Really disappointed gk sma like his boss very different picture"
                },
                "219": {
                  "review_id": 219,
                  "review": "Blank. Waiting for the return .. :)"
                },
                "220": {
                  "review_id": 220,
                  "review": "Edit reviews: glass is beautiful, but very eye wear ie, dizziness, watery eyes with both his always done nothing but hours had fallen out and snails. Beautiful quality code but only 2 ** DC only."
                },
                "221": {
                  "review_id": 221,
                  "review": "Never gave less than five stars but really too pulled clothes out to try to open a dead gecko on the spot scared out of their wits inspection found the courage to break a hole for replacement but also pays shipping"
                },
                "222": {
                  "review_id": 222,
                  "review": "Poor quality"
                },
                "223": {
                  "review_id": 223,
                  "review": "Order wrna merh TPI another one interchangeable"
                },
                "224": {
                  "review_id": 224,
                  "review": "Size not fit"
                },
                "225": {
                  "review_id": 225,
                  "review": "Yupi yupi na yung box"
                },
                "226": {
                  "review_id": 226,
                  "review": "General merchandise poor quality of delivery speed"
                },
                "227": {
                  "review_id": 227,
                  "review": "Will not order again"
                },
                "228": {
                  "review_id": 228,
                  "review": "Packaging is very bad. Potluck really. In the description of the requested not use extra bubble wrap, but fitting ngajuin refund is denied, even blame consumers for not pesen extra bubble wrap. Mas, if you want consumers to buy use bubble wrap, love prompts dong in the description. Bad really."
                },
                "229": {
                  "review_id": 229,
                  "review": "Sy ksih 2 deh soalny hasilny and Bauny blom tau kok kyk yng milk powder for small ank"
                },
                "230": {
                  "review_id": 230,
                  "review": "Good stuff .. But swpertinya checks less .. Krn zipper g No"
                },
                "231": {
                  "review_id": 231,
                  "review": "The item arrived at courier hub, but deliver only after few days. The item is nice."
                },
                "232": {
                  "review_id": 232,
                  "review": "The delivery took more than Two Weeks. And the Items are Spilled Out already."
                },
                "233": {
                  "review_id": 233,
                  "review": "1mingguan user sdh total dead tp, tp morbidly led lamp flame like swinging. Tolng solution donk"
                },
                "234": {
                  "review_id": 234,
                  "review": " Poor poor quality of goods and services There was money to buy ask stains in which, clearly in front, but told me that the place behind the signature words are yellow seat and did not inform honest, give u time to reply, reply to wait three days, and finally said before the seller to stay, you do not know, dumbfounded you sell something to someone else, say you do not know, this is a responsible attitude to do, then you do not want to communicate, you have to respond to a negative comment"
                },
                "235": {
                  "review_id": 235,
                  "review": "Nothing to say! Buy dried jackfruit but the restaurant is getting milk crumb"
                },
                "236": {
                  "review_id": 236,
                  "review": "Shop fraud, selling dog meat goat head hanging! Posting and receiving Wi-Pod Department of genuine, local delivery and cheap Jio dom round. Request delivery shall not respond to unilateral approval Shopee 3 days pay. Shopee is unprofessional, not stopped receiving notice near the festival calendar of the shipping, delivery term even without pay"
                },
                "237": {
                  "review_id": 237,
                  "review": "Close immediately. Not nagana."
                },
                "238": {
                  "review_id": 238,
                  "review": "Fragile and easily torn ... inferior product and not worth the price at all ... sorry but i will not order again"
                },
                "239": {
                  "review_id": 239,
                  "review": "I pesen mask 3 pcs, but gaa no one ever came. Please more carefully, its not a problem rupiah but its mandate."
                },
                "240": {
                  "review_id": 240,
                  "review": "The products do not original. The product quality is not good."
                },
                "241": {
                  "review_id": 241,
                  "review": "Sorry in love stars 2. Ask kitty 2 minion even though dah dah comment ingetin in private cet Request to order. Karn create more selling Bikin disappointed .. clincher message so do not want to  kannnnn"
                },
                "242": {
                  "review_id": 242,
                  "review": "Product is good but ordered orange colour. Received blue colour."
                },
                "243": {
                  "review_id": 243,
                  "review": "Oky laa .... TPI fabric LPIS sgt"
                },
                "244": {
                  "review_id": 244,
                  "review": "Shirt size large 😅"
                },
                "245": {
                  "review_id": 245,
                  "review": "Lacking yong order ... I have not yet rreply the seller..nagbayad me correctly tas ung iddelver than me ... oh not to order it again !!! ne I remind you that all the orders I 6pcs bag .. pls check nyo na idouble the order before you ship ... nkaka disappointment ..."
                },
                "246": {
                  "review_id": 246,
                  "review": "Brg yg ga DTG in the size of that book and the motive jg ga ada yg accordingly .."
                },
                "247": {
                  "review_id": 247,
                  "review": "Catoknya broken comb ... live yaa .. Tp nggk hot mw PNAS"
                },
                "248": {
                  "review_id": 248,
                  "review": "The product quality is not good."
                },
                "249": {
                  "review_id": 249,
                  "review": "Misplaced expektasi"
                }
              },
              "rows_bottom": {
                "62668": {
                  "review_id": 62668,
                  "review": "Good product quality Good value for money Fast delivery Excellent service by seller Cheapest price 😊👍"
                },
                "62669": {
                  "review_id": 62669,
                  "review": "Send shortly pack split into pieces but did not bubble wrap them separately into the ring looks pretty. Put a little money around here."
                },
                "62670": {
                  "review_id": 62670,
                  "review": "Products such as advertising, packaging carefully .chat awaiting trial amounts"
                },
                "62671": {
                  "review_id": 62671,
                  "review": "Alhamdulillah goods arrive safely, do not ever disappointed shopping here Alhamdulillah, may always be the trust ya 😊"
                },
                "62672": {
                  "review_id": 62672,
                  "review": "Long Perhh siutt brg until ... what pn TQ .."
                },
                "62673": {
                  "review_id": 62673,
                  "review": "The package is up ... thanks ................................"
                },
                "62674": {
                  "review_id": 62674,
                  "review": "Awesome speed of the ship awesome awesome quality merchandise value CP"
                },
                "62675": {
                  "review_id": 62675,
                  "review": "Shop carefully packed, good products, fast shipping, great."
                },
                "62676": {
                  "review_id": 62676,
                  "review": "Awesome awesome speed of delivery of goods awesome quality service"
                },
                "62677": {
                  "review_id": 62677,
                  "review": " Product quality is very good Very good value Speed ​​of delivery is very good, very pleasant to me."
                },
                "62678": {
                  "review_id": 62678,
                  "review": "I guess with the price of the goods dapet thin by now turned out good as well I love deh and just a little small but not a problem siip deh"
                },
                "62679": {
                  "review_id": 62679,
                  "review": "Super super good material attentive buyers will definitely repurchase"
                },
                "62680": {
                  "review_id": 62680,
                  "review": "Delivery speed a little longer ...... good goods good ..... semmoga durable in use ..... Thank seller .... Thank you seller ....... God bless ......"
                },
                "62681": {
                  "review_id": 62681,
                  "review": "Excellent product quality"
                },
                "62682": {
                  "review_id": 62682,
                  "review": "TOP, God willing, so customers ..."
                },
                "62683": {
                  "review_id": 62683,
                  "review": "Lucuuuuuuu bag ... sukaaaaa😍😍😍😍😍😍😍😍😍😍😍😍😍😍😍😍😍😍😍😍😍😍😍😍😍😍😍😍😍😍😍😍😍😍😍😍😍😍😍😍😍😍😍😍 😍😍😍😍"
                },
                "62684": {
                  "review_id": 62684,
                  "review": "The response is very good seller."
                },
                "62685": {
                  "review_id": 62685,
                  "review": "Ok naman..maganda personal"
                },
                "62686": {
                  "review_id": 62686,
                  "review": "The response is very good seller. Delivery speed is very good. The product price is very good. The product quality is excellent. The original product."
                },
                "62687": {
                  "review_id": 62687,
                  "review": "Bagussss 😃😃😘"
                },
                "62688": {
                  "review_id": 62688,
                  "review": ",,, .............. nice top and mentul ............................. ..............."
                },
                "62689": {
                  "review_id": 62689,
                  "review": "[QC] THE NAP do not forget - today (09/20) 20% Viettel KM worth all the nap. 3-5% discount when nap through ViettelPay (https://vtpay.page.link/mtopup1). Bam goi * 098 # to get instant KM calling, 3G / 4G preferential treatment. Note: Tien KM shelf solution to end on 05/10/2019. Detailed g"
                },
                "62690": {
                  "review_id": 62690,
                  "review": "Loved it all his bros"
                },
                "62691": {
                  "review_id": 62691,
                  "review": "Good product quality. The product price is very good. Delivery speed is good. In accordance lah price."
                },
                "62692": {
                  "review_id": 62692,
                  "review": "Super good quality very playable for consuming child time to ship soon! Next time will buy back!"
                },
                "62693": {
                  "review_id": 62693,
                  "review": "Received with thanks.  Good product quality"
                },
                "62694": {
                  "review_id": 62694,
                  "review": "When to buy the stuff good seller shipped super-fast, single-finish, every day arrive, praise! Data comfortable soft cotton diapers pad, the child said her mother lying on top so comfortable, very satisfied. Bibs very cute, materials are great."
                },
                "62695": {
                  "review_id": 62695,
                  "review": "Product quality is very good Speed ​​of delivery is very good."
                },
                "62696": {
                  "review_id": 62696,
                  "review": "Thank you very much very happy dg kak products 😊"
                },
                "62697": {
                  "review_id": 62697,
                  "review": "Awesome speed of the ship awesome awesome quality goods CP value awesome service"
                },
                "62698": {
                  "review_id": 62698,
                  "review": "Excellent product quality product packaging is very beautiful and certainly"
                },
                "62699": {
                  "review_id": 62699,
                  "review": "The cool haha"
                },
                "62700": {
                  "review_id": 62700,
                  "review": "Product quality is very The service from the restaurant is great. Value for money comfort recommend this restaurant. Shipping fast And the delivery of the carrier's Okay."
                },
                "62701": {
                  "review_id": 62701,
                  "review": "Good value for money"
                },
                "62702": {
                  "review_id": 62702,
                  "review": "All to order no less, mbaknya also friendly, semogah remain trustful ya ya ....."
                },
                "62703": {
                  "review_id": 62703,
                  "review": "Awesome awesome speed of the ship's delivery speed"
                },
                "62704": {
                  "review_id": 62704,
                  "review": "Mganda yong design and fabric, but hopefully more to strengthen their yong or sewing putting the garter on waistline Di ko na sya that strong. Yon po pra do more than buy the product multiplied me. Please take me again. According thank you. I'm happy with item ko❤️❤️❤️"
                },
                "62705": {
                  "review_id": 62705,
                  "review": "ferry good I ship Goods arrive safely Hopefully durable"
                },
                "62706": {
                  "review_id": 62706,
                  "review": "Delivery time is ok. Product quality is ok, good Overall satisfied 👍"
                },
                "62707": {
                  "review_id": 62707,
                  "review": "Narecieve that order. I try to please and in good condition. Thank you seller not me binigo.👍👍👍"
                },
                "62708": {
                  "review_id": 62708,
                  "review": "Cute designs, colors and excellent quality! Well-packaged and ahipped immediately! Will order again!"
                },
                "62709": {
                  "review_id": 62709,
                  "review": "Good value for money"
                },
                "62710": {
                  "review_id": 62710,
                  "review": "Product quality is very good Very good value"
                },
                "62711": {
                  "review_id": 62711,
                  "review": "Awesome awesome speed of delivery of goods quality"
                },
                "62712": {
                  "review_id": 62712,
                  "review": "Excellent product quality is very good seller Response Response is very good seller Delivery speed is very good"
                },
                "62713": {
                  "review_id": 62713,
                  "review": "Excellent quality"
                },
                "62714": {
                  "review_id": 62714,
                  "review": "Awesome awesome quality goods CP value awesome service"
                },
                "62715": {
                  "review_id": 62715,
                  "review": "Excellent product quality excellent product price is very good delivery speed is very good seller's response"
                },
                "62716": {
                  "review_id": 62716,
                  "review": "Good product quality"
                },
                "62717": {
                  "review_id": 62717,
                  "review": "Steady good stuff authenticity guaranteed quality is second to none ....."
                },
                "62718": {
                  "review_id": 62718,
                  "review": "Awesome awesome quality of goods and services"
                },
                "62719": {
                  "review_id": 62719,
                  "review": "Fast delivery good stuff, thx youu maskernyaaaa packing rapii"
                },
                "62720": {
                  "review_id": 62720,
                  "review": "...thank yoouuuu soooo much seller for the good quality of your products..  ..and super thank yoouuuu for unexpected freebies   ...so much appreciated..   .God bless 💕💕💕"
                },
                "62721": {
                  "review_id": 62721,
                  "review": "Excellent product price Product quality is very good"
                },
                "62722": {
                  "review_id": 62722,
                  "review": "Super like!!!Thank you somuch"
                },
                "62723": {
                  "review_id": 62723,
                  "review": "Good value for money Good product quality"
                },
                "62724": {
                  "review_id": 62724,
                  "review": "Fast delivery dr Bandung k Tangsel, neatly packing, bubble wrap. Product awful, do not agglomerate"
                },
                "62725": {
                  "review_id": 62725,
                  "review": "Super secured packaging even a piece of tempered glass just bought. Thanks seller. 2 thumbs up! :)"
                },
                "62726": {
                  "review_id": 62726,
                  "review": "Super nice gradient beautiful * ଘ (7 *'ᵕ') 7 * ੈ✩‧₊˚ Delivery speed pretty fast goods are not defective"
                },
                "62727": {
                  "review_id": 62727,
                  "review": "goods bagus😊"
                },
                "62728": {
                  "review_id": 62728,
                  "review": "Good product quality. Good packaging. Fast delivery. Excellent service by seller."
                },
                "62729": {
                  "review_id": 62729,
                  "review": "The product price is very good. Delivery speed is very good. The response is very good seller."
                },
                "62730": {
                  "review_id": 62730,
                  "review": "Awesome awesome speed of the ship's delivery speed fabulous quality of goods awesome awesome service value CP"
                },
                "62731": {
                  "review_id": 62731,
                  "review": "Product quality is very good Speed ​​of delivery is very good. Very good service from the store. The service is great from the carrier."
                },
                "62732": {
                  "review_id": 62732,
                  "review": "trimakasih .. n fast packing neatly good stuff .👍 success sllu"
                },
                "62733": {
                  "review_id": 62733,
                  "review": "The product quality is excellent. The product price is very good. Delivery speed is very good. The response is very good seller."
                },
                "62734": {
                  "review_id": 62734,
                  "review": "Very ok every sin must board again in slightly wrinkled"
                },
                "62735": {
                  "review_id": 62735,
                  "review": "Value for money is very good."
                },
                "62736": {
                  "review_id": 62736,
                  "review": "Not too thick beautiful coat. Form to stand not collapse. ☺️ pretty color will return ☺️☺️☺️"
                },
                "62737": {
                  "review_id": 62737,
                  "review": "Cheap price ori. Okee lah."
                },
                "62738": {
                  "review_id": 62738,
                  "review": "fitting shirt excellent product quality original product the price of the product is very good delivery speed is very good the response is very good seller top top dah"
                },
                "62739": {
                  "review_id": 62739,
                  "review": "This brushes are quite small, but soft and smooth, i think it will clean my teeth quite nicely, but it stinks, the smell is like uhm bamboo product from the factory?? Idk, but I like it thx"
                },
                "62740": {
                  "review_id": 62740,
                  "review": "Well worth the money"
                },
                "62741": {
                  "review_id": 62741,
                  "review": "Good bgt very same .suka barangnyaaaaa."
                },
                "62742": {
                  "review_id": 62742,
                  "review": "Goods arrived ademmm material ..... nice ..... ......."
                },
                "62743": {
                  "review_id": 62743,
                  "review": "Please watch when the Camellia blooms, it's okay that's love, pasta, the greatest love etx in kissasian or netflix..all gong hyo jin kdrma are good"
                },
                "62744": {
                  "review_id": 62744,
                  "review": "BRG arrives in good condition"
                },
                "62745": {
                  "review_id": 62745,
                  "review": "With real products in the same salon But the price is cheaper by almost half Like like like 👍🏻"
                },
                "62746": {
                  "review_id": 62746,
                  "review": "Well-packaged  Items shipped immediately  Will order again Sealed po ba sya ..  To update me after a month if there are changes ... I lng fresh look at work because I stress😂😅 able prang color memo plus gold ung capsule😊"
                },
                "62747": {
                  "review_id": 62747,
                  "review": "Thank kak order has been received safely. Success and demand continues wares kak ya."
                },
                "62748": {
                  "review_id": 62748,
                  "review": "The product quality is excellent. The product price is very good. Delivery speed is very good. The response is very good seller."
                },
                "62749": {
                  "review_id": 62749,
                  "review": "Hi sis .. thanks very satisfying goods do not hesitate full star love .. do not hesitate to shop here .. okay steady sallernya .. Thanks brother .."
                },
                "62750": {
                  "review_id": 62750,
                  "review": "The seller sent a picture of the item before having it shipped out. Didn't have any problems at all. It was shipped immediately and I got it in a few days. "
                },
                "62751": {
                  "review_id": 62751,
                  "review": "⭐⭐⭐⭐⭐⭐⭐⭐⭐ Its good fabric soft and comfortable. The second time it Like it was good ⭐⭐⭐⭐⭐⭐⭐⭐⭐ ⭐⭐⭐⭐⭐⭐⭐⭐⭐⭐⭐⭐⭐⭐⭐⭐⭐⭐"
                },
                "62752": {
                  "review_id": 62752,
                  "review": "Bgs bgt omaygat, like the one this seller sm"
                },
                "62753": {
                  "review_id": 62753,
                  "review": "Let the stars who speak ... 👍"
                },
                "62754": {
                  "review_id": 62754,
                  "review": "It's nice and simple. I like it. 😁❤️"
                },
                "62755": {
                  "review_id": 62755,
                  "review": "The product quality is excellent. The original product. The product price is very good. Delivery speed is very good. The response is very good seller."
                },
                "62756": {
                  "review_id": 62756,
                  "review": "Fast delivery, easy to use vouchers, saving, convenient fast."
                },
                "62757": {
                  "review_id": 62757,
                  "review": "Input for delivery time wrote, but the goods are OK. Next download therefrom again, thank youuu yooo👍🏻👍🏻"
                },
                "62758": {
                  "review_id": 62758,
                  "review": "Awesome awesome speed of delivery of goods awesome quality service"
                },
                "62759": {
                  "review_id": 62759,
                  "review": "Very nice product, fast delivery, affordable prices thanks kak 🙏🙏🙏🙏🙏"
                },
                "62760": {
                  "review_id": 62760,
                  "review": "TQ SDH goods received .... mama like bgt .... okey price ..."
                },
                "62761": {
                  "review_id": 62761,
                  "review": "Send your questions answered quickly with a lot of extras with a very cute."
                },
                "62762": {
                  "review_id": 62762,
                  "review": "Product has been successfully Its price is sensitive to Packages wrap up well There is a foam cushioning Make no damage Recommend this restaurant"
                },
                "62763": {
                  "review_id": 62763,
                  "review": "The product quality is excellent. Bgus goods bnget ... gk nyesel.next would order here again ... 😊😊"
                },
                "62764": {
                  "review_id": 62764,
                  "review": "Excellent quality"
                },
                "62765": {
                  "review_id": 62765,
                  "review": "The product quality is excellent. The original product. The product price is very good. The response is very good seller. Delivery speed is very good."
                },
                "62766": {
                  "review_id": 62766,
                  "review": "Terimakasiihhhh sudaah goods ready yaaa ... Baguuuuuuuuussssss kak, bahannyaa ooookkkeeeyyyyyyyyyy, buyers are sure puass 😊😍 Terimakasiiihhhhhhhhhhhhhhhhhhhhhhhhhhhhhhhh"
                },
                "62767": {
                  "review_id": 62767,
                  "review": "My orders arrived immediately.  Well packed. Nice items. Will definitely order again. Quality is good. Shipped immediately."
                },
                "62768": {
                  "review_id": 62768,
                  "review": "Excellent product quality"
                },
                "62769": {
                  "review_id": 62769,
                  "review": "Fast delivery.. Her puzzle nice nice .. My son likes .. Next order again .."
                },
                "62770": {
                  "review_id": 62770,
                  "review": "Kulitas good and loves each Item is tmkasih yes always subscriptions"
                },
                "62771": {
                  "review_id": 62771,
                  "review": "The product quality is excellent."
                },
                "62772": {
                  "review_id": 62772,
                  "review": "Awesome speed of the ship awesome awesome quality merchandise value CP"
                },
                "62773": {
                  "review_id": 62773,
                  "review": "Really good fit, realpic material Merawang not satisfied bgt"
                },
                "62774": {
                  "review_id": 62774,
                  "review": "I am disappointed. Keweca why buy only 2 not buy much 😅"
                },
                "62775": {
                  "review_id": 62775,
                  "review": "Awesome speed of the ship awesome awesome quality goods CP value awesome service Kids liked"
                },
                "62776": {
                  "review_id": 62776,
                  "review": "It's very fast Fabrics made with it pretty well. Much money United put the cold to warm. The code even for free."
                },
                "62777": {
                  "review_id": 62777,
                  "review": "Nice and unique. Can be folded."
                },
                "62778": {
                  "review_id": 62778,
                  "review": "Delivered yesterday and today already sampee, admin responses also friendly. Hopefully suitable in cat akuu, Aamiin.  Thanks seller! 👌🏻👌🏻👌🏻"
                },
                "62779": {
                  "review_id": 62779,
                  "review": "The seller is very friendly, reply my messages very well and quickly. The products are all good and as described 👍"
                },
                "62780": {
                  "review_id": 62780,
                  "review": "Good product quality"
                },
                "62781": {
                  "review_id": 62781,
                  "review": "Good bangeeet Like Gaada satisfactory product defects. Always love the products wangiii pol :))"
                },
                "62782": {
                  "review_id": 62782,
                  "review": "Steady pkoknya, subscriptions continue was in this store, the response is super duper friendly seller, is not in doubt, rekomended really pkoknya Overall good lah, Thank bang Mantapppppppppppp"
                },
                "62783": {
                  "review_id": 62783,
                  "review": "Product quality very good. Good value, very good. The speed of delivery, very sad. 😄😄😄😄😄😄😄😄😄😄😄😄😄😄😄😄😄😄😄😄😄😄"
                },
                "62784": {
                  "review_id": 62784,
                  "review": "Gimme gimme was the way I wanna this was a great day of the year and we are looking at the same time as well haha was there was not the one I cannot to have "
                },
                "62785": {
                  "review_id": 62785,
                  "review": "good condition, arrived safely, TQ core gonna buy again repeat"
                },
                "62786": {
                  "review_id": 62786,
                  "review": "Oath is this funny, safe and neat packing, cuman too big so aga ngembung but little cuman could Sih wrote in akalin, overalls Good sukaa"
                },
                "62787": {
                  "review_id": 62787,
                  "review": "Excellent product quality"
                },
                "62788": {
                  "review_id": 62788,
                  "review": "He said the new still packing, just wait kecutnya wrote ....!"
                },
                "62789": {
                  "review_id": 62789,
                  "review": "Transport Poor's It should not be a There are multiple transportation options it proposes. I just submitted it."
                },
                "62790": {
                  "review_id": 62790,
                  "review": "Original goods price .. okay .. packingnya jg ok bgtt safe. Thanks seller"
                },
                "62791": {
                  "review_id": 62791,
                  "review": "My aunt likes"
                },
                "62792": {
                  "review_id": 62792,
                  "review": "Nice fall fall 👍🏻👍🏻"
                },
                "62793": {
                  "review_id": 62793,
                  "review": "Sweet goods shipped fast speed Mother board cordial people over 😍"
                },
                "62794": {
                  "review_id": 62794,
                  "review": "Fast delivery. Product quality based on the price is reasonable."
                },
                "62795": {
                  "review_id": 62795,
                  "review": "Awesome speed of the ship awesome awesome quality goods CP value awesome service"
                },
                "62796": {
                  "review_id": 62796,
                  "review": "Awesome awesome speed of the ship's delivery speed fabulous quality of goods awesome awesome service value CP"
                },
                "62797": {
                  "review_id": 62797,
                  "review": "Sorry if i'm late rating this crinkles. Because I totally forgot and shopee have to remember it for me how jeez. And yeah, this is good, this is what i want. Thank you for updating me and anwering my Q's. "
                },
                "62798": {
                  "review_id": 62798,
                  "review": "Excellent product quality excellent product price is very good delivery speed"
                },
                "62799": {
                  "review_id": 62799,
                  "review": "The product quality is excellent. The original product. 😍😍😍😍😍😍😍😍 super fast delivery."
                },
                "62800": {
                  "review_id": 62800,
                  "review": "Goods arrived with selamatttt. Her packaging is nice and safe, no reply spill. Shipping seminggu👍🏻 Thankyou"
                },
                "62801": {
                  "review_id": 62801,
                  "review": "Excellent product quality, good delivery, good product prices"
                },
                "62802": {
                  "review_id": 62802,
                  "review": "The original product."
                },
                "62803": {
                  "review_id": 62803,
                  "review": "Fast delivery good good price. Has repeatedly buy the shop. Thank shop"
                },
                "62804": {
                  "review_id": 62804,
                  "review": "Received in good condition and the colour was super cuuuuute!!"
                },
                "62805": {
                  "review_id": 62805,
                  "review": "The speed I come out nice produuccct legit seller quantity freebies hehehhe way next time I'm over there in store for me thanks pooooooo Muntinlupa."
                },
                "62806": {
                  "review_id": 62806,
                  "review": "delivery super fast! ...................................."
                },
                "62807": {
                  "review_id": 62807,
                  "review": "Fast delivery. Good product. Good wrapping. Will buy again."
                },
                "62808": {
                  "review_id": 62808,
                  "review": "Original product, excellent delivery, and response is very good seller, may be useful"
                },
                "62809": {
                  "review_id": 62809,
                  "review": "Not nyesel shopping deh here, undersell affordable clothes can be as good as the next ini😚 would definitely order again"
                },
                "62810": {
                  "review_id": 62810,
                  "review": "Excellent quality Very accommodating seller"
                },
                "62811": {
                  "review_id": 62811,
                  "review": "The product quality is excellent."
                },
                "62812": {
                  "review_id": 62812,
                  "review": "Affordable something very like Thank you boss"
                },
                "62813": {
                  "review_id": 62813,
                  "review": "Very good quality. Packing ok. Well worth the money. :)"
                },
                "62814": {
                  "review_id": 62814,
                  "review": "Good value for money"
                },
                "62815": {
                  "review_id": 62815,
                  "review": "Jogger championnya oath kece really is cool ... awful worn perhaps because the original ya say"
                },
                "62816": {
                  "review_id": 62816,
                  "review": "to order delivery baguuuuuuuuuussssssss Cepatt"
                },
                "62817": {
                  "review_id": 62817,
                  "review": "A bit smaller than i expected but the quality is good.. and my son loves it... Thank u"
                },
                "62818": {
                  "review_id": 62818,
                  "review": "GDA ori Brg mslh ,, packing oke..diskon pula..recomended bgd lagh pokonya"
                },
                "62819": {
                  "review_id": 62819,
                  "review": "Servis baek ... reply boleh2 lah .... good..belum download again."
                },
                "62820": {
                  "review_id": 62820,
                  "review": "Cepet shipping, packing packaging neat, Mic function well, hopefully durable, thank ya seller and shopper"
                },
                "62821": {
                  "review_id": 62821,
                  "review": "Successfully very good Product quality is very good Pack of very fine Service is good, very good, very fast, very good value. Thank you very much impressed"
                },
                "62822": {
                  "review_id": 62822,
                  "review": "Gatau does gmn results. Because the usual makeup mouth pink. Tp since that production and lipstick pink still UDH accompany this AWS year and a half more, so tried that red."
                },
                "62823": {
                  "review_id": 62823,
                  "review": "Bgt cepet stuff up. Stuff everything is smooth. DKSH purple bag Mnta wrna demand. Thanks bgt ya. Dh cheapest Dsini"
                },
                "62824": {
                  "review_id": 62824,
                  "review": "Wear very thin, in this weather, wearing a very fit In particular, there are all kinds of models stature try suggestions, you can not waste money can buy in line with his own body on the page, fabulous, thank you !!"
                },
                "62825": {
                  "review_id": 62825,
                  "review": "Excellent product quality excellent product price is very good delivery speed is very good seller's response"
                },
                "62826": {
                  "review_id": 62826,
                  "review": "Sp excellent quality: crunchy chew funny pigskin mouth; cakes are delicious. Shop carefully packing delivery is also fast. Will support long-term shop"
                },
                "62827": {
                  "review_id": 62827,
                  "review": "Makasiiihhhhhh kaaaaaaaaaaaa product matches Mudah2an outgrown clothes ga ya"
                },
                "62828": {
                  "review_id": 62828,
                  "review": "Okay really, good stuff, good quality original products product prices ok"
                },
                "62829": {
                  "review_id": 62829,
                  "review": "Awesome awesome quality of goods shipped speed"
                },
                "62830": {
                  "review_id": 62830,
                  "review": "Awesome awesome quality goods CP value awesome service awesome speed of the ship"
                },
                "62831": {
                  "review_id": 62831,
                  "review": "highly recommended. Good packaging with bubble wrap and cardboard to prevent scratches. Well done!"
                },
                "62832": {
                  "review_id": 62832,
                  "review": "Fast response, fast delivery subscription bs bt"
                },
                "62833": {
                  "review_id": 62833,
                  "review": "Ship out, i have to contact the seller of the new system's update ship goods out. Once bye je to ship out. Quality good mask, can buy more next time."
                },
                "62834": {
                  "review_id": 62834,
                  "review": "I hope the seller don't excessively seal the products by using cellophone tape."
                },
                "62835": {
                  "review_id": 62835,
                  "review": "Excellent product quality excellent product price is very good delivery speed"
                },
                "62836": {
                  "review_id": 62836,
                  "review": "Direct product is cooked, good product quality. The price includes cost, price flashsale. Free shipping. Including fast delivery, use gosend sameday. Good luck always. Amen."
                },
                "62837": {
                  "review_id": 62837,
                  "review": "Her Packing neatly not only crackle item ama doang duct tape again. But his shoes like."
                },
                "62838": {
                  "review_id": 62838,
                  "review": "Good value for money"
                },
                "62839": {
                  "review_id": 62839,
                  "review": "Thank you seller ,, please send the first pics of the new ship ,, come mbilis shoes n my orders"
                },
                "62840": {
                  "review_id": 62840,
                  "review": "Awesome awesome speed of delivery of goods quality"
                },
                "62841": {
                  "review_id": 62841,
                  "review": "Excellent product quality excellent product price"
                },
                "62842": {
                  "review_id": 62842,
                  "review": "Icahn really easy to use! Cool, menstruation also will not be uncomfortable! We can buy peace of mind! !"
                },
                "62843": {
                  "review_id": 62843,
                  "review": "Goods arrived and landed safely neatly packing the goods to order top markotop pokonya josss gsndoss"
                },
                "62844": {
                  "review_id": 62844,
                  "review": "Excellent quality Very accommodating seller Well-packaged Item shipped immediately Will order again"
                },
                "62845": {
                  "review_id": 62845,
                  "review": "Packed neatly and safely, cepet nyampe also goods cuman 2 days waiting"
                },
                "62846": {
                  "review_id": 62846,
                  "review": "The product quality is excellent. The original product. The product price is very good. Delivery speed is very good. The response was excellent seller .. I sukaa"
                },
                "62847": {
                  "review_id": 62847,
                  "review": "Goods have to ngak no abrasions, very fast delivery of the goods thanks ok nice good voice steady"
                },
                "62848": {
                  "review_id": 62848,
                  "review": "Has arrived. Thank you 😍"
                },
                "62849": {
                  "review_id": 62849,
                  "review": "Powerfull headlamp at reasonable price. Thanks to seller."
                },
                "62850": {
                  "review_id": 62850,
                  "review": "Product quality is very baik.Barang up safely. thank you"
                },
                "62851": {
                  "review_id": 62851,
                  "review": "Thank you."
                },
                "62852": {
                  "review_id": 62852,
                  "review": "ppengemasan and his engiriman cepet really, check out malem, dapet UDH next delivery receipt number. hakpennya use bubble wrap 👍🏻"
                },
                "62853": {
                  "review_id": 62853,
                  "review": "Excellent product quality excellent product price is very good seller's response"
                },
                "62854": {
                  "review_id": 62854,
                  "review": "The product quality is not good. The product quality is excellent. The product quality is excellent."
                },
                "62855": {
                  "review_id": 62855,
                  "review": "Dapett gratisann JUGAAA dh subscriptions, just her delivery awhile"
                },
                "62856": {
                  "review_id": 62856,
                  "review": "Excellent quality, good condition of the item. I also stock lng tong more scrubbing, have been used ksi ako they were the same quality because i nto cr with foam. Ksama eto gusto plain but I have the color green. Ty"
                },
                "62857": {
                  "review_id": 62857,
                  "review": "Excellent product quality excellent product quality product packaging is very beautiful and certainly"
                },
                "62858": {
                  "review_id": 62858,
                  "review": "Cheap, good-looking and good wear oh Very soft yeah"
                },
                "62859": {
                  "review_id": 62859,
                  "review": "Excellent delivery speed Excellent product quality"
                },
                "62860": {
                  "review_id": 62860,
                  "review": "peevish resistant high-grade best style created for tebaik keungulan"
                },
                "62861": {
                  "review_id": 62861,
                  "review": "fast delivery 😍😍 safe packing thank you so much ❤️😂🙏🏻"
                },
                "62862": {
                  "review_id": 62862,
                  "review": "Super super,,"
                },
                "62863": {
                  "review_id": 62863,
                  "review": "Okay really ,, Cool material to make comfortable in pakenya well."
                },
                "62864": {
                  "review_id": 62864,
                  "review": "heavy, with 2 screw each. I can not imagine g attached to the door since we're just renting. strength makasosyal apartment"
                },
                "62865": {
                  "review_id": 62865,
                  "review": "Excellent product quality The product price is very good The response is very good seller The fate of fitting me who bought the old fitting"
                },
                "62866": {
                  "review_id": 62866,
                  "review": "Excellent product quality excellent product price is very good delivery speed is very good seller's response"
                },
                "62867": {
                  "review_id": 62867,
                  "review": "Compared vs right image"
                },
                "62868": {
                  "review_id": 62868,
                  "review": "Cepet sampenya the best material quality is really good soft"
                },
                "62869": {
                  "review_id": 62869,
                  "review": "good service, time pngemasan and fast delivery, good product quality."
                },
                "62870": {
                  "review_id": 62870,
                  "review": "Excellent quality"
                },
                "62871": {
                  "review_id": 62871,
                  "review": "BRG is ok, the store can make a subscription."
                },
                "62872": {
                  "review_id": 62872,
                  "review": "very cute clothes. pn good seller. trgnggu shipping covid 19 bit follows."
                },
                "62873": {
                  "review_id": 62873,
                  "review": "Material well 👍🏻👍🏻 🥰🥰 good to wear comfortable ~ ~ ~ Snoopy cute 😘😘😘"
                },
                "62874": {
                  "review_id": 62874,
                  "review": "Excellent product quality excellent product price is very good delivery speed is very good seller's response"
                },
                "62875": {
                  "review_id": 62875,
                  "review": "Bestnye cloth confirm him .... cool .... x ... terbaekk hot .."
                },
                "62876": {
                  "review_id": 62876,
                  "review": "The original product. The product quality is excellent. The product price is very good. Delivery speed is very good. The response is very good seller."
                },
                "62877": {
                  "review_id": 62877,
                  "review": "Laptop delivered with good conditon ,no lag at any software or games.so fast gaming machine however the package of the item so safe.fast delivery too "
                },
                "62878": {
                  "review_id": 62878,
                  "review": "complete ... the seller send picture before delivering the product ... no defective product ... and all in good condition ... also speed of delivery ... thanks seller"
                },
                "62879": {
                  "review_id": 62879,
                  "review": "Alhamdulillah goods arrive safely although cardboard packaging on a bender but thank God it GPP"
                },
                "62880": {
                  "review_id": 62880,
                  "review": "Ksh would upset what gifts to friends / Sodara nearby? Aja hijab passable and buy here .. its cool and nice material lg, not disappointed dh for ngadoin to friends. Mksh yes kak☺️"
                },
                "62881": {
                  "review_id": 62881,
                  "review": "Cool hours, just long dipengiriman wrote until 5 days ........"
                },
                "62882": {
                  "review_id": 62882,
                  "review": "Awesome awesome speed of delivery of goods quality"
                },
                "62883": {
                  "review_id": 62883,
                  "review": "Awesome awesome speed of the ship's delivery speed fabulous quality of goods awesome CP values ​​awesome service second buyback 🎁 a lot of good small gift intimate handwritten note ❤️"
                },
                "62884": {
                  "review_id": 62884,
                  "review": "Good quality case. Air bubble wrap yet when I nareceived! Complete and correct all sent. The speed I nareceived. Thankyou seller! Again please."
                },
                "62885": {
                  "review_id": 62885,
                  "review": "nice nice nice nice nice nice nice nice nice nice nice nice nice nice nice nice nice nice nice nice nice nice nice nice nice nice nice nice nice nice nice nice nice nice nice nice nice nice nice nice nice nice nice nice nice nice nice nice nice nice"
                },
                "62886": {
                  "review_id": 62886,
                  "review": "The package arrived safely, not ever regret buying here, always satisfied 😍 Thank ya kak"
                },
                "62887": {
                  "review_id": 62887,
                  "review": "Turns bucketnya too big. Kirain small. Pas was created Naro dirty clothes. Delivery cepet really, pesen yesterday till today. Packing too neat bgt"
                },
                "62888": {
                  "review_id": 62888,
                  "review": "Good product quality Good value for money Fast delivery  will continue support "
                },
                "62889": {
                  "review_id": 62889,
                  "review": "Drawn use rubber pouch. But who come use common plastic GPP lah..moga wrote cust Like"
                },
                "62890": {
                  "review_id": 62890,
                  "review": "Bismillahirrahmanirrahim 🙏🙏"
                },
                "62891": {
                  "review_id": 62891,
                  "review": "Product quality is very good Very good value Speed ​​of delivery is very good. Very good service from the store."
                },
                "62892": {
                  "review_id": 62892,
                  "review": "Alhamdulillah package until home safely, without any leaky or rusakk. Larissa beneran the most suitable product in front of me, make dependence jg ga produknyaa. Anyway the best dehhh larissa Online shopping ajaa passing fad like nyobain wrote larissa service for online product that 🥰🥰"
                },
                "62893": {
                  "review_id": 62893,
                  "review": "The second time I have already ordered the shop, the speed of transactions imminent, ..."
                },
                "62894": {
                  "review_id": 62894,
                  "review": "Good value for money"
                },
                "62895": {
                  "review_id": 62895,
                  "review": "Customers like shape"
                },
                "62896": {
                  "review_id": 62896,
                  "review": "Excellent product quality very nice packaging products and certainly excellent product quality very good service Shop money very good very fast delivery time"
                },
                "62897": {
                  "review_id": 62897,
                  "review": "steady package has arrived, this usage of the third of its times I wear is already quite a long time from December 2019 until now wear is already fit before me and there is no change regarding the problem of acne and dull skin its principal thebest dah life of these products ga nyesel mesen this product."
                },
                "62898": {
                  "review_id": 62898,
                  "review": "Quality goods according to the price always successful greetings"
                },
                "62899": {
                  "review_id": 62899,
                  "review": "Product has been very quick to order Sunday morning Tuesday received. Strong new product applications have not been tested by a well designed product. Using a modern, safe, cost-saving."
                },
                "62900": {
                  "review_id": 62900,
                  "review": "Good value for money Good product quality"
                },
                "62901": {
                  "review_id": 62901,
                  "review": "Is the distribution of good quality, suitable price, fast delivery, the code used, lsau supporters"
                },
                "62902": {
                  "review_id": 62902,
                  "review": "consulting shops are very enthusiastic"
                },
                "62903": {
                  "review_id": 62903,
                  "review": "Awesome awesome merchandise quality merchandise quality"
                },
                "62904": {
                  "review_id": 62904,
                  "review": "Excellent product quality"
                },
                "62905": {
                  "review_id": 62905,
                  "review": "Good quality, fast water, friendly price, the clerk kindly"
                },
                "62906": {
                  "review_id": 62906,
                  "review": "Nice product"
                },
                "62907": {
                  "review_id": 62907,
                  "review": "Goods come in accordance with the orders of all. Goods individually wrapped with bubble wrap and still sealed tidy. Both times the message here, only the second time no bonus samplenya. Neat packaging and delivery in line with expectations"
                },
                "62908": {
                  "review_id": 62908,
                  "review": "Excellent product quality penhiriman good price good product"
                },
                "62909": {
                  "review_id": 62909,
                  "review": "Good value for money"
                },
                "62910": {
                  "review_id": 62910,
                  "review": "Sipp bngt, according gambar..bagus and satisfying, trimaksih avanz24, happy to order equally km, gx disappointed .."
                },
                "62911": {
                  "review_id": 62911,
                  "review": "Awesome awesome speed of delivery of goods quality"
                },
                "62912": {
                  "review_id": 62912,
                  "review": "Dah stuff up .... thanks seller ..."
                },
                "62913": {
                  "review_id": 62913,
                  "review": "Has shipped It was the model that fits the cute items not hurt. But transportation is relatively slow, but because it comes from abroad."
                },
                "62914": {
                  "review_id": 62914,
                  "review": "Awesome awesome speed of the ship's value CP"
                },
                "62915": {
                  "review_id": 62915,
                  "review": "but already in lebihin one of its usual size which 30 will be rather big kirain little, small TPI, fortunately still fitting in use ga kekcilan so. bgus stuff I like, maybe in the future I add more size if Pewen. thank you"
                },
                "62916": {
                  "review_id": 62916,
                  "review": "The product quality is excellent."
                },
                "62917": {
                  "review_id": 62917,
                  "review": "Excellent product quality, original product, the price of the product is very good, delivery speed is good and the seller is also very good response ... stuff I sent a safer and packinganya very neat and safety ... NEVER disappointed here loves shopping Dech"
                }
              }
            },
            "text/plain": [
              "       review_id                                             review\n",
              "0              0                                      slow delivery\n",
              "1              1               Dateng goods do not conform pesanan😔\n",
              "2              2                             PSN k its 20 other DTG\n",
              "3              3  I am expected that it have a frame and painted...\n",
              "4              4                   The product quality is not good.\n",
              "...          ...                                                ...\n",
              "62913      62913  Has shipped It was the model that fits the cut...\n",
              "62914      62914       Awesome awesome speed of the ship's value CP\n",
              "62915      62915  but already in lebihin one of its usual size w...\n",
              "62916      62916                  The product quality is excellent.\n",
              "62917      62917  Excellent product quality, original product, t...\n",
              "\n",
              "[62918 rows x 2 columns]"
            ],
            "text/html": [
              "<div>\n",
              "<style scoped>\n",
              "    .dataframe tbody tr th:only-of-type {\n",
              "        vertical-align: middle;\n",
              "    }\n",
              "\n",
              "    .dataframe tbody tr th {\n",
              "        vertical-align: top;\n",
              "    }\n",
              "\n",
              "    .dataframe thead th {\n",
              "        text-align: right;\n",
              "    }\n",
              "</style>\n",
              "<table border=\"1\" class=\"dataframe\">\n",
              "  <thead>\n",
              "    <tr style=\"text-align: right;\">\n",
              "      <th></th>\n",
              "      <th>review_id</th>\n",
              "      <th>review</th>\n",
              "    </tr>\n",
              "  </thead>\n",
              "  <tbody>\n",
              "    <tr>\n",
              "      <th>0</th>\n",
              "      <td>0</td>\n",
              "      <td>slow delivery</td>\n",
              "    </tr>\n",
              "    <tr>\n",
              "      <th>1</th>\n",
              "      <td>1</td>\n",
              "      <td>Dateng goods do not conform pesanan😔</td>\n",
              "    </tr>\n",
              "    <tr>\n",
              "      <th>2</th>\n",
              "      <td>2</td>\n",
              "      <td>PSN k its 20 other DTG</td>\n",
              "    </tr>\n",
              "    <tr>\n",
              "      <th>3</th>\n",
              "      <td>3</td>\n",
              "      <td>I am expected that it have a frame and painted...</td>\n",
              "    </tr>\n",
              "    <tr>\n",
              "      <th>4</th>\n",
              "      <td>4</td>\n",
              "      <td>The product quality is not good.</td>\n",
              "    </tr>\n",
              "    <tr>\n",
              "      <th>5</th>\n",
              "      <td>5</td>\n",
              "      <td>goods came really not the same as shown in the...</td>\n",
              "    </tr>\n",
              "    <tr>\n",
              "      <th>6</th>\n",
              "      <td>6</td>\n",
              "      <td>Q order came quickly but im so very disappoint...</td>\n",
              "    </tr>\n",
              "    <tr>\n",
              "      <th>7</th>\n",
              "      <td>7</td>\n",
              "      <td>Aprox 1 bjunyaa</td>\n",
              "    </tr>\n",
              "    <tr>\n",
              "      <th>8</th>\n",
              "      <td>8</td>\n",
              "      <td>Send a brown color to black, very sick.</td>\n",
              "    </tr>\n",
              "    <tr>\n",
              "      <th>9</th>\n",
              "      <td>9</td>\n",
              "      <td>Did not receive item Will not order again</td>\n",
              "    </tr>\n",
              "    <tr>\n",
              "      <th>10</th>\n",
              "      <td>10</td>\n",
              "      <td>Open items have dumbfounded used to look over ...</td>\n",
              "    </tr>\n",
              "    <tr>\n",
              "      <th>11</th>\n",
              "      <td>11</td>\n",
              "      <td>The product quality is not good. There is a flaw</td>\n",
              "    </tr>\n",
              "    <tr>\n",
              "      <th>12</th>\n",
              "      <td>12</td>\n",
              "      <td>Good product but right ga ga given promises ch...</td>\n",
              "    </tr>\n",
              "    <tr>\n",
              "      <th>13</th>\n",
              "      <td>13</td>\n",
              "      <td>product defects</td>\n",
              "    </tr>\n",
              "    <tr>\n",
              "      <th>14</th>\n",
              "      <td>14</td>\n",
              "      <td>Of 5 orders ... motif that BNR's just ... hope...</td>\n",
              "    </tr>\n",
              "    <tr>\n",
              "      <th>15</th>\n",
              "      <td>15</td>\n",
              "      <td>Item shipped late</td>\n",
              "    </tr>\n",
              "    <tr>\n",
              "      <th>16</th>\n",
              "      <td>16</td>\n",
              "      <td>Sandals too little, just like sz 35.36 only. S...</td>\n",
              "    </tr>\n",
              "    <tr>\n",
              "      <th>17</th>\n",
              "      <td>17</td>\n",
              "      <td>Quality is ok but the size chart is wrong it s...</td>\n",
              "    </tr>\n",
              "    <tr>\n",
              "      <th>18</th>\n",
              "      <td>18</td>\n",
              "      <td>Not to order .... very kecwa ..... very jero jero</td>\n",
              "    </tr>\n",
              "    <tr>\n",
              "      <th>19</th>\n",
              "      <td>19</td>\n",
              "      <td>D beautiful packaging so nagcrack nong shippin...</td>\n",
              "    </tr>\n",
              "    <tr>\n",
              "      <th>20</th>\n",
              "      <td>20</td>\n",
              "      <td>Her stuff is nice but it really black color at...</td>\n",
              "    </tr>\n",
              "    <tr>\n",
              "      <th>21</th>\n",
              "      <td>21</td>\n",
              "      <td>produkny writing HRG to 3 pcs, shipped tp cm 1...</td>\n",
              "    </tr>\n",
              "    <tr>\n",
              "      <th>22</th>\n",
              "      <td>22</td>\n",
              "      <td>The products do not original.</td>\n",
              "    </tr>\n",
              "    <tr>\n",
              "      <th>23</th>\n",
              "      <td>23</td>\n",
              "      <td>Messages are sent only 1, 3 pca complained unc...</td>\n",
              "    </tr>\n",
              "    <tr>\n",
              "      <th>24</th>\n",
              "      <td>24</td>\n",
              "      <td>directly interested order 20pcs. Brang come, t...</td>\n",
              "    </tr>\n",
              "    <tr>\n",
              "      <th>25</th>\n",
              "      <td>25</td>\n",
              "      <td>Product quality is very poor very unnecessary...</td>\n",
              "    </tr>\n",
              "    <tr>\n",
              "      <th>26</th>\n",
              "      <td>26</td>\n",
              "      <td>Courier J &amp; T expires sanggat disappointed, no...</td>\n",
              "    </tr>\n",
              "    <tr>\n",
              "      <th>27</th>\n",
              "      <td>27</td>\n",
              "      <td>Potatoes come already slimy and some slightly ...</td>\n",
              "    </tr>\n",
              "    <tr>\n",
              "      <th>28</th>\n",
              "      <td>28</td>\n",
              "      <td>The product quality is not good</td>\n",
              "    </tr>\n",
              "    <tr>\n",
              "      <th>29</th>\n",
              "      <td>29</td>\n",
              "      <td>I received 4 pairs .. pajamas 1 is small in si...</td>\n",
              "    </tr>\n",
              "    <tr>\n",
              "      <th>...</th>\n",
              "      <td>...</td>\n",
              "      <td>...</td>\n",
              "    </tr>\n",
              "    <tr>\n",
              "      <th>62888</th>\n",
              "      <td>62888</td>\n",
              "      <td>Good product quality Good value for money Fast...</td>\n",
              "    </tr>\n",
              "    <tr>\n",
              "      <th>62889</th>\n",
              "      <td>62889</td>\n",
              "      <td>Drawn use rubber pouch. But who come use commo...</td>\n",
              "    </tr>\n",
              "    <tr>\n",
              "      <th>62890</th>\n",
              "      <td>62890</td>\n",
              "      <td>Bismillahirrahmanirrahim 🙏🙏</td>\n",
              "    </tr>\n",
              "    <tr>\n",
              "      <th>62891</th>\n",
              "      <td>62891</td>\n",
              "      <td>Product quality is very good Very good value S...</td>\n",
              "    </tr>\n",
              "    <tr>\n",
              "      <th>62892</th>\n",
              "      <td>62892</td>\n",
              "      <td>Alhamdulillah package until home safely, witho...</td>\n",
              "    </tr>\n",
              "    <tr>\n",
              "      <th>62893</th>\n",
              "      <td>62893</td>\n",
              "      <td>The second time I have already ordered the sho...</td>\n",
              "    </tr>\n",
              "    <tr>\n",
              "      <th>62894</th>\n",
              "      <td>62894</td>\n",
              "      <td>Good value for money</td>\n",
              "    </tr>\n",
              "    <tr>\n",
              "      <th>62895</th>\n",
              "      <td>62895</td>\n",
              "      <td>Customers like shape</td>\n",
              "    </tr>\n",
              "    <tr>\n",
              "      <th>62896</th>\n",
              "      <td>62896</td>\n",
              "      <td>Excellent product quality very nice packaging ...</td>\n",
              "    </tr>\n",
              "    <tr>\n",
              "      <th>62897</th>\n",
              "      <td>62897</td>\n",
              "      <td>steady package has arrived, this usage of the ...</td>\n",
              "    </tr>\n",
              "    <tr>\n",
              "      <th>62898</th>\n",
              "      <td>62898</td>\n",
              "      <td>Quality goods according to the price always su...</td>\n",
              "    </tr>\n",
              "    <tr>\n",
              "      <th>62899</th>\n",
              "      <td>62899</td>\n",
              "      <td>Product has been very quick to order Sunday mo...</td>\n",
              "    </tr>\n",
              "    <tr>\n",
              "      <th>62900</th>\n",
              "      <td>62900</td>\n",
              "      <td>Good value for money Good product quality</td>\n",
              "    </tr>\n",
              "    <tr>\n",
              "      <th>62901</th>\n",
              "      <td>62901</td>\n",
              "      <td>Is the distribution of good quality, suitable ...</td>\n",
              "    </tr>\n",
              "    <tr>\n",
              "      <th>62902</th>\n",
              "      <td>62902</td>\n",
              "      <td>consulting shops are very enthusiastic</td>\n",
              "    </tr>\n",
              "    <tr>\n",
              "      <th>62903</th>\n",
              "      <td>62903</td>\n",
              "      <td>Awesome awesome merchandise quality merchandis...</td>\n",
              "    </tr>\n",
              "    <tr>\n",
              "      <th>62904</th>\n",
              "      <td>62904</td>\n",
              "      <td>Excellent product quality</td>\n",
              "    </tr>\n",
              "    <tr>\n",
              "      <th>62905</th>\n",
              "      <td>62905</td>\n",
              "      <td>Good quality, fast water, friendly price, the ...</td>\n",
              "    </tr>\n",
              "    <tr>\n",
              "      <th>62906</th>\n",
              "      <td>62906</td>\n",
              "      <td>Nice product</td>\n",
              "    </tr>\n",
              "    <tr>\n",
              "      <th>62907</th>\n",
              "      <td>62907</td>\n",
              "      <td>Goods come in accordance with the orders of al...</td>\n",
              "    </tr>\n",
              "    <tr>\n",
              "      <th>62908</th>\n",
              "      <td>62908</td>\n",
              "      <td>Excellent product quality penhiriman good pric...</td>\n",
              "    </tr>\n",
              "    <tr>\n",
              "      <th>62909</th>\n",
              "      <td>62909</td>\n",
              "      <td>Good value for money</td>\n",
              "    </tr>\n",
              "    <tr>\n",
              "      <th>62910</th>\n",
              "      <td>62910</td>\n",
              "      <td>Sipp bngt, according gambar..bagus and satisfy...</td>\n",
              "    </tr>\n",
              "    <tr>\n",
              "      <th>62911</th>\n",
              "      <td>62911</td>\n",
              "      <td>Awesome awesome speed of delivery of goods qua...</td>\n",
              "    </tr>\n",
              "    <tr>\n",
              "      <th>62912</th>\n",
              "      <td>62912</td>\n",
              "      <td>Dah stuff up .... thanks seller ...</td>\n",
              "    </tr>\n",
              "    <tr>\n",
              "      <th>62913</th>\n",
              "      <td>62913</td>\n",
              "      <td>Has shipped It was the model that fits the cut...</td>\n",
              "    </tr>\n",
              "    <tr>\n",
              "      <th>62914</th>\n",
              "      <td>62914</td>\n",
              "      <td>Awesome awesome speed of the ship's value CP</td>\n",
              "    </tr>\n",
              "    <tr>\n",
              "      <th>62915</th>\n",
              "      <td>62915</td>\n",
              "      <td>but already in lebihin one of its usual size w...</td>\n",
              "    </tr>\n",
              "    <tr>\n",
              "      <th>62916</th>\n",
              "      <td>62916</td>\n",
              "      <td>The product quality is excellent.</td>\n",
              "    </tr>\n",
              "    <tr>\n",
              "      <th>62917</th>\n",
              "      <td>62917</td>\n",
              "      <td>Excellent product quality, original product, t...</td>\n",
              "    </tr>\n",
              "  </tbody>\n",
              "</table>\n",
              "<p>62918 rows × 2 columns</p>\n",
              "</div>"
            ]
          },
          "metadata": {
            "tags": []
          },
          "execution_count": 5
        }
      ]
    },
    {
      "cell_type": "markdown",
      "metadata": {
        "id": "35KanYXhzksd",
        "colab_type": "text",
        "cell_id": "c5e60ebd-2703-4f66-92df-97139966ed04"
      },
      "source": [
        "# Preprocessing Data"
      ]
    },
    {
      "cell_type": "code",
      "metadata": {
        "id": "wrbVH6vc0DhB",
        "colab_type": "code",
        "cell_id": "3b2e7154-8962-4352-99ef-1088b58a7f49",
        "colab": {
          "base_uri": "https://localhost:8080/",
          "height": 49
        },
        "outputId": "64dfcfd4-66d0-4be4-c113-26ae925cf8e9"
      },
      "source": [
        "NUM_TRAIN = len(train)\n",
        "NUM_TEST = len(test)\n",
        "\n",
        "print('Number of training : ',NUM_TRAIN)\n",
        "print('Number of testing : ',NUM_TEST)"
      ],
      "execution_count": null,
      "outputs": [
        {
          "output_type": "stream",
          "text": [
            "Number of training :  146811\n",
            "Number of testing :  62918\n"
          ],
          "name": "stdout"
        }
      ]
    },
    {
      "cell_type": "code",
      "metadata": {
        "id": "WNdv8LbN0Vaz",
        "colab_type": "code",
        "cell_id": "6bf17c1b-60a7-42b8-9e51-c7e4fd5a5f7a",
        "colab": {
          "base_uri": "https://localhost:8080/",
          "height": 115
        },
        "outputId": "33739e6f-7c4d-4ad7-8ed3-5d958919ea32"
      },
      "source": [
        "train['rating'].value_counts()"
      ],
      "execution_count": null,
      "outputs": [
        {
          "output_type": "execute_result",
          "data": {
            "text/plain": [
              "4    41865\n",
              "5    41515\n",
              "3    35941\n",
              "1    14785\n",
              "2    12705\n",
              "Name: rating, dtype: int64"
            ]
          },
          "metadata": {
            "tags": []
          },
          "execution_count": 10
        }
      ]
    },
    {
      "cell_type": "code",
      "metadata": {
        "id": "AO8PV9hcwlAQ",
        "colab_type": "code",
        "cell_id": "b7a6a990-789f-4d17-bad9-d1973a3502c4",
        "colab": {
          "base_uri": "https://localhost:8080/",
          "height": 115
        },
        "outputId": "bef38fb5-86cd-4992-d1c4-d4fca6874880"
      },
      "source": [
        "train['rating'].value_counts(normalize=True) # Try normalize (probability)"
      ],
      "execution_count": null,
      "outputs": [
        {
          "output_type": "execute_result",
          "data": {
            "text/plain": [
              "4    0.285163\n",
              "5    0.282779\n",
              "3    0.244811\n",
              "1    0.100708\n",
              "2    0.086540\n",
              "Name: rating, dtype: float64"
            ]
          },
          "metadata": {
            "tags": []
          },
          "execution_count": 11
        }
      ]
    },
    {
      "cell_type": "code",
      "metadata": {
        "id": "buhynaVFw8ll",
        "colab_type": "code",
        "cell_id": "c000c5ef-4ffb-45ec-bbd1-7a30e28c3ae4",
        "colab": {
          "base_uri": "https://localhost:8080/",
          "height": 115
        },
        "outputId": "5e7d8c7e-6ca5-44c0-eaa7-4cbcd82a7ac4"
      },
      "source": [
        "Norm = train['rating'].value_counts(normalize=True)\n",
        "Norm"
      ],
      "execution_count": null,
      "outputs": [
        {
          "output_type": "execute_result",
          "data": {
            "text/plain": [
              "4    0.285163\n",
              "5    0.282779\n",
              "3    0.244811\n",
              "1    0.100708\n",
              "2    0.086540\n",
              "Name: rating, dtype: float64"
            ]
          },
          "metadata": {
            "tags": []
          },
          "execution_count": 14
        }
      ]
    },
    {
      "cell_type": "code",
      "metadata": {
        "id": "v8hBkmImxPzu",
        "colab_type": "code",
        "cell_id": "98e906bb-3f5e-4ac9-a5c9-3c2104088d58",
        "colab": {}
      },
      "source": [
        "# use it's probability to find segment\n",
        "\n",
        "ans = [1]*int(round(len(test)*Norm[1]))+[2]*int(round(len(test)*Norm[2]))+[3]*int(round(len(test)*Norm[3]))+[4]*int(round(len(test)*Norm[4]))+[5]*int(round(len(test)*Norm[5]))"
      ],
      "execution_count": null,
      "outputs": []
    },
    {
      "cell_type": "code",
      "metadata": {
        "id": "djd-AY65xmgv",
        "colab_type": "code",
        "cell_id": "0f099ee8-70b4-4f5e-b75d-165a5299cc2a",
        "colab": {}
      },
      "source": [
        "assert len(ans) == len(test),'Number of row is now equal'"
      ],
      "execution_count": null,
      "outputs": []
    },
    {
      "cell_type": "markdown",
      "metadata": {
        "id": "AI-XUfEY0q0h",
        "colab_type": "text",
        "cell_id": "b4052163-62d3-449e-9ed5-3903ef077a5e"
      },
      "source": [
        "# Export answer"
      ]
    },
    {
      "cell_type": "code",
      "metadata": {
        "id": "8qntOtzrxx6N",
        "colab_type": "code",
        "cell_id": "a1fcc9e9-e1a4-4998-b075-d016e51667e9",
        "colab": {}
      },
      "source": [
        "test['rating'] = ans"
      ],
      "execution_count": null,
      "outputs": []
    },
    {
      "cell_type": "code",
      "metadata": {
        "tags": [],
        "cell_id": "21cb72ed-83ea-4445-a84b-b9d1ce6517f0",
        "id": "Ta94EdFq6b6z",
        "colab_type": "code",
        "colab": {},
        "outputId": "7ba193ee-fc5d-4ff5-bbfa-8293f727683c"
      },
      "source": [
        "test"
      ],
      "execution_count": null,
      "outputs": [
        {
          "output_type": "execute_result",
          "data": {
            "application/vnd.deepnote.dataframe.v2+json": {
              "row_count": 62918,
              "column_count": 3,
              "columns": [
                {
                  "name": "review_id",
                  "dtype": "int64",
                  "stats": {
                    "unique_count": 62918,
                    "nan_count": 0,
                    "min": 0,
                    "max": 62917,
                    "histogram": [
                      {
                        "bin_start": 0,
                        "bin_end": 6291.7,
                        "count": 6292
                      },
                      {
                        "bin_start": 6291.7,
                        "bin_end": 12583.4,
                        "count": 6292
                      },
                      {
                        "bin_start": 12583.4,
                        "bin_end": 18875.1,
                        "count": 6292
                      },
                      {
                        "bin_start": 18875.1,
                        "bin_end": 25166.8,
                        "count": 6291
                      },
                      {
                        "bin_start": 25166.8,
                        "bin_end": 31458.5,
                        "count": 6292
                      },
                      {
                        "bin_start": 31458.5,
                        "bin_end": 37750.2,
                        "count": 6292
                      },
                      {
                        "bin_start": 37750.2,
                        "bin_end": 44041.9,
                        "count": 6291
                      },
                      {
                        "bin_start": 44041.9,
                        "bin_end": 50333.6,
                        "count": 6292
                      },
                      {
                        "bin_start": 50333.6,
                        "bin_end": 56625.299999999996,
                        "count": 6292
                      },
                      {
                        "bin_start": 56625.299999999996,
                        "bin_end": 62917,
                        "count": 6292
                      }
                    ]
                  }
                },
                {
                  "name": "review",
                  "dtype": "object"
                },
                {
                  "name": "rating",
                  "dtype": "int64"
                }
              ],
              "rows_top": {
                "0": {
                  "review_id": 0,
                  "review": "slow delivery",
                  "rating": 1
                },
                "1": {
                  "review_id": 1,
                  "review": "Dateng goods do not conform pesanan😔",
                  "rating": 1
                },
                "2": {
                  "review_id": 2,
                  "review": "PSN k its 20 other DTG",
                  "rating": 1
                },
                "3": {
                  "review_id": 3,
                  "review": "I am expected that it have a frame and painted in a canvass but sad to note i am very disappointed. It printed like a tarp.! I will not suggest this seller and recommend. So disappointed.",
                  "rating": 1
                },
                "4": {
                  "review_id": 4,
                  "review": "The product quality is not good.",
                  "rating": 1
                },
                "5": {
                  "review_id": 5,
                  "review": "goods came really not the same as shown in the description, which is straight all, why ?, I want to reply elbow and straight, it is straight all ... duh ... would diapain again .... alemong deh yey ... what lupita or delivery error or intentional anyway? never mind.   already.  hopefully",
                  "rating": 1
                },
                "6": {
                  "review_id": 6,
                  "review": "Q order came quickly but im so very disappointed! Larger size n i u dineliver compared before! 😡😡 to order quality 5pcs, 1 or 2 lng ata quality here, some are thin n! Grabe! Nkakainis! Yung skintone, ie those previous order q, please see the size difference between them!",
                  "rating": 1
                },
                "7": {
                  "review_id": 7,
                  "review": "Aprox 1 bjunyaa",
                  "rating": 1
                },
                "8": {
                  "review_id": 8,
                  "review": "Send a brown color to black, very sick.",
                  "rating": 1
                },
                "9": {
                  "review_id": 9,
                  "review": "Did not receive item Will not order again",
                  "rating": 1
                },
                "10": {
                  "review_id": 10,
                  "review": "Open items have dumbfounded used to look over n years",
                  "rating": 1
                },
                "11": {
                  "review_id": 11,
                  "review": "The product quality is not good. There is a flaw",
                  "rating": 1
                },
                "12": {
                  "review_id": 12,
                  "review": "Good product but right ga ga given promises change",
                  "rating": 1
                },
                "13": {
                  "review_id": 13,
                  "review": "product defects",
                  "rating": 1
                },
                "14": {
                  "review_id": 14,
                  "review": "Of 5 orders ... motif that BNR's just ... hope next 1😩 could ny better lbh",
                  "rating": 1
                },
                "15": {
                  "review_id": 15,
                  "review": "Item shipped late",
                  "rating": 1
                },
                "16": {
                  "review_id": 16,
                  "review": "Sandals too little, just like sz 35.36 only. Shop listening but actually seems to be large so k Poor attitude.",
                  "rating": 1
                },
                "17": {
                  "review_id": 17,
                  "review": "Quality is ok but the size chart is wrong it stated 122 cm bust /chest but it is smaller than expected. I would have to give it away. Shame after waiting for so long. Zipper also very hard to draw up or down. Regret buying from this seller. When I asked before purchase about size he said accurate",
                  "rating": 1
                },
                "18": {
                  "review_id": 18,
                  "review": "Not to order .... very kecwa ..... very jero jero",
                  "rating": 1
                },
                "19": {
                  "review_id": 19,
                  "review": "D beautiful packaging so nagcrack nong shipping those items or maybe really crack wrapped in., Kinancel refund because I just hassle. The many requirements. Neremedyo So I crack.d well xa universal.",
                  "rating": 1
                },
                "20": {
                  "review_id": 20,
                  "review": "Her stuff is nice but it really black color at red .. My right message in yellow at red ..",
                  "rating": 1
                },
                "21": {
                  "review_id": 21,
                  "review": "produkny writing HRG to 3 pcs, shipped tp cm 1 doang, disappointing :(",
                  "rating": 1
                },
                "22": {
                  "review_id": 22,
                  "review": "The products do not original.",
                  "rating": 1
                },
                "23": {
                  "review_id": 23,
                  "review": "Messages are sent only 1, 3 pca complained uncooperative. Chat returned sloww response. kapok",
                  "rating": 1
                },
                "24": {
                  "review_id": 24,
                  "review": "directly interested order 20pcs. Brang come, teenyata rougher than I imagined. thanks boss",
                  "rating": 1
                },
                "25": {
                  "review_id": 25,
                  "review": " Product quality is very poor very unnecessary money, choose one template, delivery another form",
                  "rating": 1
                },
                "26": {
                  "review_id": 26,
                  "review": "Courier J & T expires sanggat disappointed, not in between at the address in our order to then be Nungu his office for hours. Then almost damaged goods. Her cardboard kayak has been 100 years in the life crushed like satay sauce. disappointed sanggat",
                  "rating": 1
                },
                "27": {
                  "review_id": 27,
                  "review": "Potatoes come already slimy and some slightly blackish",
                  "rating": 1
                },
                "28": {
                  "review_id": 28,
                  "review": "The product quality is not good",
                  "rating": 1
                },
                "29": {
                  "review_id": 29,
                  "review": "I received 4 pairs .. pajamas 1 is small in size. Although correct weight if compare to the mall more expensive prize. The thin fabric.",
                  "rating": 1
                },
                "30": {
                  "review_id": 30,
                  "review": "Within their guns at photo quality good product delivery speed well priced good product just dapet 3 pcs",
                  "rating": 1
                },
                "31": {
                  "review_id": 31,
                  "review": "sounds just next door. next to die. and a lot of peeling rubber.",
                  "rating": 1
                },
                "32": {
                  "review_id": 32,
                  "review": "Delivery was fast but very disappointed when I open the box.I specifically told the seller to check for damage after placing my order,but end up I received the item with damage and rust.I mg the seller but no response,worst customer service.please don't buy from this seller.",
                  "rating": 1
                },
                "33": {
                  "review_id": 33,
                  "review": "The tube sleeve to struggle out y'all sir. I put đk on foot but also wide attention. Zide M and know 😂😂🤣 poor product packaging. Calico ball stick in pockets. Torn corner. Austria no labels at all. Bad smell.",
                  "rating": 1
                },
                "34": {
                  "review_id": 34,
                  "review": "The products do not original.",
                  "rating": 1
                },
                "35": {
                  "review_id": 35,
                  "review": "First time buyers but torn pants",
                  "rating": 1
                },
                "36": {
                  "review_id": 36,
                  "review": "Disappointed because of the message that comes maroon black and navy not the same reply size with another one dress size too small. Before being sent to be checked first.",
                  "rating": 1
                },
                "37": {
                  "review_id": 37,
                  "review": "The product quality is not good. Defective product pinggirnya😭",
                  "rating": 1
                },
                "38": {
                  "review_id": 38,
                  "review": "Tipisssss sangatttt clothes, color putihny very dreamy ...",
                  "rating": 1
                },
                "39": {
                  "review_id": 39,
                  "review": "Her nut missing cap can not be used, tlg send his nuts",
                  "rating": 1
                },
                "40": {
                  "review_id": 40,
                  "review": "Item different from picture Will not order again...poor quality, misleading!",
                  "rating": 1
                },
                "41": {
                  "review_id": 41,
                  "review": "A good one is pretty good sound quality have sent Clemson 2 return 2 pieces without any details. Tesco agreed to send back the goods first. No, it's pouring Gave a very slow response",
                  "rating": 1
                },
                "42": {
                  "review_id": 42,
                  "review": "Speed ​​of delivery is good. Color is not appropriate, who asked what color sent what. The response is not very good seller. Disappointingly, kapok.",
                  "rating": 1
                },
                "43": {
                  "review_id": 43,
                  "review": "Yung I would order but no one came. I did communicate well with them, but others still sent .. ok i live more than selling you order 50pcs kc mrurumi they shop and more.",
                  "rating": 1
                },
                "44": {
                  "review_id": 44,
                  "review": "Until the goods already, but I accept gx altogether. I regret spending here, ngartis also that the selling !!!",
                  "rating": 1
                },
                "45": {
                  "review_id": 45,
                  "review": "The blouse does not look exactly like the picture. Loose shoulders and he hardly the same cloth. :(",
                  "rating": 1
                },
                "46": {
                  "review_id": 46,
                  "review": "Did not inform the buyer of the goods on the bag with a direct refund, originally set two clocks (want to save a sum of freight) But only sent a (not my original choice of color), private news ask you what does not reply Bad shopping experience",
                  "rating": 1
                },
                "47": {
                  "review_id": 47,
                  "review": "Dateng goods cuman late fill empty cardboard doang Artisan herbal bgt ga mandate jgn rich until there is apt w loss of money ga ga .... how but sin lo BYK  Spot th duit haram",
                  "rating": 1
                },
                "48": {
                  "review_id": 48,
                  "review": "The response is not good seller, already d chat repeatedly, either to the goods or other goods, the seller no response tp, d not explain dlm PO item description or ready stock If indeed PO, at least buyers know .. The seller no response at all ",
                  "rating": 1
                },
                "49": {
                  "review_id": 49,
                  "review": "Her new dateng hours cohabited. The first liver fitting disposable needles path length. But ga needle short length of road. How atuh how come so. In the chat again orabgnya ga bales. Yes seengganya bales so apologetic kek what how. Sorry I love 2 first.",
                  "rating": 1
                },
                "50": {
                  "review_id": 50,
                  "review": "Item received today. Functional but full of scratches. Not satisfied with the product received",
                  "rating": 1
                },
                "51": {
                  "review_id": 51,
                  "review": "Dtangx cut no waiting 6paketku arrived ay gembok.emang not there beresssss sy bru ...... this store value jelllekkkkk .... klo near mgkn I've DTG ktokox. Pelayanannnnn jelekkkkk even invite brantem in chat. !!!!",
                  "rating": 1
                },
                "52": {
                  "review_id": 52,
                  "review": "Upset, because the goods are given already would exp. Please check the web code 7Z01 production is made in 2017 ... And already want exp 4bulan again. Dry and powdering ga",
                  "rating": 1
                },
                "53": {
                  "review_id": 53,
                  "review": "The shops that never wanted to see again. Convention can only permanently rp. Missing restaurant also calling insulted and threatened guests. Mince for reimbursement under a new bored. Decor Masters",
                  "rating": 1
                },
                "54": {
                  "review_id": 54,
                  "review": "The product quality is not good.",
                  "rating": 1
                },
                "55": {
                  "review_id": 55,
                  "review": "Price segituh his seharus the match ga 25k ,, kirain BNR edge side of it there is jaitan kyk x-ride seat turns cuman screen printing on plastic and its materials lapisin thin as well. Going ga this long kepake mh. 2mingu also UDH this faded stencil hopefully should be more careful who buy and sell must nurunin that price,",
                  "rating": 1
                },
                "56": {
                  "review_id": 56,
                  "review": "Please check back in a neat seblum bgian who have broken",
                  "rating": 1
                },
                "57": {
                  "review_id": 57,
                  "review": "the goods shipped its contents trash, sly seller, the next world I was not sincere, no response, just that resembles the name of Muhammad, but the attitude of sorts not bermanusia",
                  "rating": 1
                },
                "58": {
                  "review_id": 58,
                  "review": "His clock was broken ga needle nya🙈",
                  "rating": 1
                },
                "59": {
                  "review_id": 59,
                  "review": "The product quality is not good. My shopee its loyal customers, only this time disappointed at stores. Buy 3 items all of her not to order, smoga shopee follow-up shop is that customers who deceive shopee morbidly disappointed. Thanks",
                  "rating": 1
                },
                "60": {
                  "review_id": 60,
                  "review": "The best I could solder properly because of the narrowness of the space",
                  "rating": 1
                },
                "61": {
                  "review_id": 61,
                  "review": "The products do not original.",
                  "rating": 1
                },
                "62": {
                  "review_id": 62,
                  "review": " Speed ​​of delivery is good, the seller is not a good response, PHP, satatus not clear, Orders sy ignored. jgn want to buy in this store.",
                  "rating": 1
                },
                "63": {
                  "review_id": 63,
                  "review": "Products for nothing, bery expensive price of the product quality, long-boiling, summed too bad. Because change delivery process too complicated and boring charges should not bother paying to exhibit corner, useless",
                  "rating": 1
                },
                "64": {
                  "review_id": 64,
                  "review": "Sorry sy love 2, disappointed krn bgt tp buy a lot being sent does not match the color. PM 20 pcs white color purple tp being sent all without confirmation. It makes morbidly connect with the house so that unused paint.",
                  "rating": 1
                },
                "65": {
                  "review_id": 65,
                  "review": "Very damage! It suits the price! But also do not you just sell the yang damage! 19 pesos is 19 pesos! Although it pesos worth it! Annoying",
                  "rating": 1
                },
                "66": {
                  "review_id": 66,
                  "review": "Less good seller response  Bgus but syg wrna material that does not fit pdhl expelled with ash falling on the confirmation SDH captions and chat",
                  "rating": 1
                },
                "67": {
                  "review_id": 67,
                  "review": "Elle vire'y meleleh..mgkn because the ninth and cardboard heat melted in the ..",
                  "rating": 1
                },
                "68": {
                  "review_id": 68,
                  "review": "Damaged / defective item not working my selfie stick. Two items I inavail yet.",
                  "rating": 1
                },
                "69": {
                  "review_id": 69,
                  "review": "Speed ​​of delivery is good",
                  "rating": 1
                },
                "70": {
                  "review_id": 70,
                  "review": "Wrong item received / read in the seller white black oh my order was also given disapppinted poor seller regulate for you not angry costumers understand you better take a look at the orders you have before you ipack sure correct those items that you placed ..",
                  "rating": 1
                },
                "71": {
                  "review_id": 71,
                  "review": "He does not work. Kakadisappoint, also wasted money.",
                  "rating": 1
                },
                "72": {
                  "review_id": 72,
                  "review": "This reply will happen can not be used ka .. not the size of an adult. The size of the elementary school children of class 6",
                  "rating": 1
                },
                "73": {
                  "review_id": 73,
                  "review": "Don ever trust this shop...until now not yet receive the goods....😠😠😠😠😠😠😠",
                  "rating": 1
                },
                "74": {
                  "review_id": 74,
                  "review": "Poor quality Will not order again",
                  "rating": 1
                },
                "75": {
                  "review_id": 75,
                  "review": "The product quality is not good",
                  "rating": 1
                },
                "76": {
                  "review_id": 76,
                  "review": "The glass is really small and cannot fit the watch screen.",
                  "rating": 1
                },
                "77": {
                  "review_id": 77,
                  "review": "Dh stuff up .. but vacuum sealer is not functioning well, take a very long time For vacuum, over 15min For prepare a pack.",
                  "rating": 1
                },
                "78": {
                  "review_id": 78,
                  "review": "Item noted is color black yet received maroon.",
                  "rating": 1
                },
                "79": {
                  "review_id": 79,
                  "review": "Not seen 4 pieces donated as advertising",
                  "rating": 1
                },
                "80": {
                  "review_id": 80,
                  "review": "Her goods not adda. !!!",
                  "rating": 1
                },
                "81": {
                  "review_id": 81,
                  "review": "Totally cant. accept this kind quality, crack ing at the side",
                  "rating": 1
                },
                "82": {
                  "review_id": 82,
                  "review": "The product quality is not good.",
                  "rating": 1
                },
                "83": {
                  "review_id": 83,
                  "review": "Communication satellite unclear goods",
                  "rating": 1
                },
                "84": {
                  "review_id": 84,
                  "review": "Color does not correspond with the image in the image there are wrinkles that come back no rubber d",
                  "rating": 1
                },
                "85": {
                  "review_id": 85,
                  "review": "GUE pesen LETTERS LETTERS B instead YG dateng C. GAK DIHUBUNGIN NO ANSWER. LAME KAPOK GUE SHOPPING HERE.",
                  "rating": 1
                },
                "86": {
                  "review_id": 86,
                  "review": "I thought big :(",
                  "rating": 1
                },
                "87": {
                  "review_id": 87,
                  "review": "The balloon is deflated that time fell much more, not rubber kenceng",
                  "rating": 1
                },
                "88": {
                  "review_id": 88,
                  "review": "FIX DISAPPOINTED, first shopping dsni, Zonk !!! Sent not umama VOAL scarf his mouth orange packaging, instead send alesha brand, material bagusan umama sure. because I'm so give color wrong, ask wrna navi 2 pcs in love milo, ask salem 2 pcs in love dusty, whereas this pesenan friend",
                  "rating": 1
                },
                "89": {
                  "review_id": 89,
                  "review": " Bad quality of goods Poor fabric texture is hard and rough Focus is around the neckline is too small ...... After dragging down will not want to wear it, because uncomfortable Sewn very rough",
                  "rating": 1
                },
                "90": {
                  "review_id": 90,
                  "review": "Wrong item received",
                  "rating": 1
                },
                "91": {
                  "review_id": 91,
                  "review": "My goodness this kak ko si sent another model is not a model that I pesen..warna nice army'y tp the different models .. gmna dong kak pdhl pesenan costomer 😭😭",
                  "rating": 1
                },
                "92": {
                  "review_id": 92,
                  "review": "Standard packaging.. Item missing.. No more response from the seller after receiving the payment..  😂😂😂",
                  "rating": 1
                },
                "93": {
                  "review_id": 93,
                  "review": "Never before pasting such strenuous effort, but the screen border leaking ship videos follow tiny air bubbles still, unfortunately still acceptable.",
                  "rating": 1
                },
                "94": {
                  "review_id": 94,
                  "review": "Poor product quality product quality less good..there one part and broken TDK seller shipped to check brngny Prev Jg Kardusnyapun ugly SDH signaling brngnya never unloaded psng",
                  "rating": 1
                },
                "95": {
                  "review_id": 95,
                  "review": "peeling edges",
                  "rating": 1
                },
                "96": {
                  "review_id": 96,
                  "review": "Delivered at full sample templates that last k annual dep..nhu remnant",
                  "rating": 1
                },
                "97": {
                  "review_id": 97,
                  "review": "Mmmmmmmmmmmmaaaanaannnnnnnnnnttttgggguuuiuiuujjjullllllldjdjdjejejeieo doll can not hdp",
                  "rating": 1
                },
                "98": {
                  "review_id": 98,
                  "review": "Its products 4. 2 for sends. Buy 22, he sent a few days later. Finally until 29th -____- bete bgt. No re-purchase!",
                  "rating": 1
                },
                "99": {
                  "review_id": 99,
                  "review": "Shoddy version, shoddy verision, difference😡",
                  "rating": 1
                },
                "100": {
                  "review_id": 100,
                  "review": "Goods not in accordance with the image .. button does not work .. goods can not be used .. doang sirens that sound .. can any Ga-apain .. Argh ...",
                  "rating": 1
                },
                "101": {
                  "review_id": 101,
                  "review": "Speed ​​of delivery is good",
                  "rating": 1
                },
                "102": {
                  "review_id": 102,
                  "review": "Quality Time: 1 Star Packing: 1 Star Shipping: 1 Star Overall rating: 2 stars",
                  "rating": 1
                },
                "103": {
                  "review_id": 103,
                  "review": "Inappropriate image",
                  "rating": 1
                },
                "104": {
                  "review_id": 104,
                  "review": "Ga product according to the image y .... Buy 30biji disappointed",
                  "rating": 1
                },
                "105": {
                  "review_id": 105,
                  "review": "Rcvd parcel in good condition. Very poor quality ribbon. Looks cheap and poor material. 😤😤😤😵😵😵",
                  "rating": 1
                },
                "106": {
                  "review_id": 106,
                  "review": "Flowers, cotton lint is caught me. Rod was a different color, 3-color wrong. Ordered 2 bunches. See the photos came out pretty. But I really do not have it.",
                  "rating": 1
                },
                "107": {
                  "review_id": 107,
                  "review": "Product has been successfully trial, not sure whether it is genuine or not, to see my side. Use a dry cloth is also very good spinning very wet. Handle the timer is not strong enough yet to call back.",
                  "rating": 1
                },
                "108": {
                  "review_id": 108,
                  "review": "Poor product quality is not worth the money Very",
                  "rating": 1
                },
                "109": {
                  "review_id": 109,
                  "review": "Set delivery shorts trousers because his watch afraid to change the festival should pay!",
                  "rating": 1
                },
                "110": {
                  "review_id": 110,
                  "review": "blue misplaced in photo :(",
                  "rating": 1
                },
                "111": {
                  "review_id": 111,
                  "review": "A few times I sent to lack of time. Should check the product carefully before submitting them. I want to be a customer's complete order. Employees of the shop was checked again before the PAC or not. I never thought I would be cheating. I did not, I was not going to tell you what to do.",
                  "rating": 1
                },
                "112": {
                  "review_id": 112,
                  "review": "Intelligent main cave pai investigation code k hang.buon :-). :-)",
                  "rating": 1
                },
                "113": {
                  "review_id": 113,
                  "review": "Not recomended seller, shipping lamaaaaaaaaaaaaaaaaaaaaaaaaaaaaaaaaaaaaaaaaaaaaaaaaaaaaaaaaaaaaaaaaaaaaaa, the goods do not fit the image no zipper on the bag over her, fortunately the same message I want to thank her stuff, kapoooooooooooooooooooooooooooooooooooooooooooooooooooooooookkkkkkkkkkkkkkk",
                  "rating": 1
                },
                "114": {
                  "review_id": 114,
                  "review": "Its rotary screw cap does not fit Plastic bottle makes a mess",
                  "rating": 1
                },
                "115": {
                  "review_id": 115,
                  "review": "He hnd waterproof glue and fake ... like me ... please please check the item seller .. disappointed 😩",
                  "rating": 1
                },
                "116": {
                  "review_id": 116,
                  "review": "Đéo using DC",
                  "rating": 1
                },
                "117": {
                  "review_id": 117,
                  "review": "Items shipped immediately ko yung soap purely chack tas mbilis melt",
                  "rating": 1
                },
                "118": {
                  "review_id": 118,
                  "review": "Did not receive item",
                  "rating": 1
                },
                "119": {
                  "review_id": 119,
                  "review": "Speed ​​of delivery is good. The response is not good sellers.",
                  "rating": 1
                },
                "120": {
                  "review_id": 120,
                  "review": "No lid",
                  "rating": 1
                },
                "121": {
                  "review_id": 121,
                  "review": "poor service. k k row just told to switch to change shoppe began losing the first ship 2. 30k 50k population is beginning to ship 2 sent via shoppe k 80k sure to send.",
                  "rating": 1
                },
                "122": {
                  "review_id": 122,
                  "review": "Mantaf boss mksh",
                  "rating": 1
                },
                "123": {
                  "review_id": 123,
                  "review": "Product quality very much dissatisfied.",
                  "rating": 1
                },
                "124": {
                  "review_id": 124,
                  "review": "Just now I give 3 krn pandax WRN not pitch-black, opaque kyak gituh, then benangx off jatuh2 not strong, tangled. ..😟 Barangx suggestions please carefully good, it just let tokox increasingly in demand. Kan has become subscription ..",
                  "rating": 1
                },
                "125": {
                  "review_id": 125,
                  "review": "super wide when you short😏",
                  "rating": 1
                },
                "126": {
                  "review_id": 126,
                  "review": "Do not read the terms of expository if the stock is empty shipped existing types. Aja disappointed.",
                  "rating": 1
                },
                "127": {
                  "review_id": 127,
                  "review": "2X the price is more expensive than other stores, pdhal products are also the same. Continue to step 2 contents baseball mouth full, only half a bottle doang.",
                  "rating": 1
                },
                "128": {
                  "review_id": 128,
                  "review": "Packing x containers directly. no bubble wrap .. brg bergolek2 dlm box. Abis leaking. Seller please alerts. Sorry forced bg 1 star je ..",
                  "rating": 1
                },
                "129": {
                  "review_id": 129,
                  "review": "Products not in keeping with the order",
                  "rating": 1
                },
                "130": {
                  "review_id": 130,
                  "review": "Not the original Winsor & Newton guys it's a China version",
                  "rating": 1
                },
                "131": {
                  "review_id": 131,
                  "review": "Good seller response but less good product quality is the whiteness Tiipiiis very unlike the navy yesterday that the first order which also called for size L sent XL .. party dress white shirt kayak ... Keeeeceeeewaaaaaaa",
                  "rating": 1
                },
                "132": {
                  "review_id": 132,
                  "review": "Larger than the sales person informed. Need to send an additional change fee.",
                  "rating": 1
                },
                "133": {
                  "review_id": 133,
                  "review": "Delivered completely wrong, out of stock notice, guests not agree themselves shipper",
                  "rating": 1
                },
                "134": {
                  "review_id": 134,
                  "review": "Shipping Old And 1 week More",
                  "rating": 1
                },
                "135": {
                  "review_id": 135,
                  "review": "I did not glue Ca Ngu little loose. By the second day, and then spread no cars.",
                  "rating": 1
                },
                "136": {
                  "review_id": 136,
                  "review": "Will not order again! Useless smart earwax!😥",
                  "rating": 1
                },
                "137": {
                  "review_id": 137,
                  "review": "Will not order again",
                  "rating": 1
                },
                "138": {
                  "review_id": 138,
                  "review": "Poor quality",
                  "rating": 1
                },
                "139": {
                  "review_id": 139,
                  "review": "Not fit despite minor reservations L size. his 51kg",
                  "rating": 1
                },
                "140": {
                  "review_id": 140,
                  "review": "Cancel penalty because its shops and get more points because of transport delays.",
                  "rating": 1
                },
                "141": {
                  "review_id": 141,
                  "review": "I not received the product",
                  "rating": 1
                },
                "142": {
                  "review_id": 142,
                  "review": "Thin, held in terrible hands. Customers buy the correct this is tha garbage home.",
                  "rating": 1
                },
                "143": {
                  "review_id": 143,
                  "review": "Terrible value Speed ​​of delivery is very poor.",
                  "rating": 1
                },
                "144": {
                  "review_id": 144,
                  "review": "Its user manual for whom the O's? Nda's in the box? Its use is less than the maximum, even kayaks nda 😭😭😭 function dusting etc.",
                  "rating": 1
                },
                "145": {
                  "review_id": 145,
                  "review": "Shop as mother earth attitude and verbally countryside hotel upon request change delivery =)) in general is how to elderly",
                  "rating": 1
                },
                "146": {
                  "review_id": 146,
                  "review": "Wrong item received Wrong item received Wrong item received Wrong item received Will not order again Will not order again Will not order again Will not order again Will not order again",
                  "rating": 1
                },
                "147": {
                  "review_id": 147,
                  "review": "Pattern & Colour not same",
                  "rating": 1
                },
                "148": {
                  "review_id": 148,
                  "review": "3M wire long, but its name says 13M.",
                  "rating": 1
                },
                "149": {
                  "review_id": 149,
                  "review": "Thỳ sp bt quality. Falcon k is only the attitude of the shop. Both are wrong nh yourself and shop when discussing solutions k thỳ enthusiastic shop. Winding refused. Mistaken delivery form still controversial mortar pestle",
                  "rating": 1
                },
                "150": {
                  "review_id": 150,
                  "review": "Faulty dirty shirt in hand, just too much excess.",
                  "rating": 1
                },
                "151": {
                  "review_id": 151,
                  "review": "Ugly di naman change color ..",
                  "rating": 1
                },
                "152": {
                  "review_id": 152,
                  "review": "goods in 6 messages are sent only 5 and in a paper written JNT Sent items 6 .... really disappointing",
                  "rating": 1
                },
                "153": {
                  "review_id": 153,
                  "review": "I like dri made of iron / aluminum CMN I try it on TV and when I could not try on the computer instead 1.90TB not 2TB",
                  "rating": 1
                },
                "154": {
                  "review_id": 154,
                  "review": "Sugan big tea euy, ahhh letikkkkkkk aripek dekahhhhhhhhh",
                  "rating": 1
                },
                "155": {
                  "review_id": 155,
                  "review": "Sponge powder ko ga",
                  "rating": 1
                },
                "156": {
                  "review_id": 156,
                  "review": "Order queen but interchangeable single ... very disappointed 😩😩😩👎👎👎",
                  "rating": 1
                },
                "157": {
                  "review_id": 157,
                  "review": "No extra bubble wrap ... no luck .. Zonk once",
                  "rating": 1
                },
                "158": {
                  "review_id": 158,
                  "review": "He said buy 1 get 1 free ... But who dateng only 1 wrote ... No gratisnya Ga .... How the hell, lying bgt !!!",
                  "rating": 1
                },
                "159": {
                  "review_id": 159,
                  "review": "Thin material colors fade. Disappointed",
                  "rating": 1
                },
                "160": {
                  "review_id": 160,
                  "review": "Shipping by express sameday but the goods until 5 days later",
                  "rating": 1
                },
                "161": {
                  "review_id": 161,
                  "review": "Her thin mala Kecewa😩😩celana",
                  "rating": 1
                },
                "162": {
                  "review_id": 162,
                  "review": "The product quality is not good",
                  "rating": 1
                },
                "163": {
                  "review_id": 163,
                  "review": "Thin really yes god scared broken :(",
                  "rating": 1
                },
                "164": {
                  "review_id": 164,
                  "review": "This problem is like a sieve tray and insert a smaller time to put it off no longer fit between the compartments. With the solution gradually buy new add baking.",
                  "rating": 1
                },
                "165": {
                  "review_id": 165,
                  "review": "Very poor product quality",
                  "rating": 1
                }
              },
              "rows_bottom": {
                "62751": {
                  "review_id": 62751,
                  "review": "⭐⭐⭐⭐⭐⭐⭐⭐⭐ Its good fabric soft and comfortable. The second time it Like it was good ⭐⭐⭐⭐⭐⭐⭐⭐⭐ ⭐⭐⭐⭐⭐⭐⭐⭐⭐⭐⭐⭐⭐⭐⭐⭐⭐⭐",
                  "rating": 5
                },
                "62752": {
                  "review_id": 62752,
                  "review": "Bgs bgt omaygat, like the one this seller sm",
                  "rating": 5
                },
                "62753": {
                  "review_id": 62753,
                  "review": "Let the stars who speak ... 👍",
                  "rating": 5
                },
                "62754": {
                  "review_id": 62754,
                  "review": "It's nice and simple. I like it. 😁❤️",
                  "rating": 5
                },
                "62755": {
                  "review_id": 62755,
                  "review": "The product quality is excellent. The original product. The product price is very good. Delivery speed is very good. The response is very good seller.",
                  "rating": 5
                },
                "62756": {
                  "review_id": 62756,
                  "review": "Fast delivery, easy to use vouchers, saving, convenient fast.",
                  "rating": 5
                },
                "62757": {
                  "review_id": 62757,
                  "review": "Input for delivery time wrote, but the goods are OK. Next download therefrom again, thank youuu yooo👍🏻👍🏻",
                  "rating": 5
                },
                "62758": {
                  "review_id": 62758,
                  "review": "Awesome awesome speed of delivery of goods awesome quality service",
                  "rating": 5
                },
                "62759": {
                  "review_id": 62759,
                  "review": "Very nice product, fast delivery, affordable prices thanks kak 🙏🙏🙏🙏🙏",
                  "rating": 5
                },
                "62760": {
                  "review_id": 62760,
                  "review": "TQ SDH goods received .... mama like bgt .... okey price ...",
                  "rating": 5
                },
                "62761": {
                  "review_id": 62761,
                  "review": "Send your questions answered quickly with a lot of extras with a very cute.",
                  "rating": 5
                },
                "62762": {
                  "review_id": 62762,
                  "review": "Product has been successfully Its price is sensitive to Packages wrap up well There is a foam cushioning Make no damage Recommend this restaurant",
                  "rating": 5
                },
                "62763": {
                  "review_id": 62763,
                  "review": "The product quality is excellent. Bgus goods bnget ... gk nyesel.next would order here again ... 😊😊",
                  "rating": 5
                },
                "62764": {
                  "review_id": 62764,
                  "review": "Excellent quality",
                  "rating": 5
                },
                "62765": {
                  "review_id": 62765,
                  "review": "The product quality is excellent. The original product. The product price is very good. The response is very good seller. Delivery speed is very good.",
                  "rating": 5
                },
                "62766": {
                  "review_id": 62766,
                  "review": "Terimakasiihhhh sudaah goods ready yaaa ... Baguuuuuuuuussssss kak, bahannyaa ooookkkeeeyyyyyyyyyy, buyers are sure puass 😊😍 Terimakasiiihhhhhhhhhhhhhhhhhhhhhhhhhhhhhhhh",
                  "rating": 5
                },
                "62767": {
                  "review_id": 62767,
                  "review": "My orders arrived immediately.  Well packed. Nice items. Will definitely order again. Quality is good. Shipped immediately.",
                  "rating": 5
                },
                "62768": {
                  "review_id": 62768,
                  "review": "Excellent product quality",
                  "rating": 5
                },
                "62769": {
                  "review_id": 62769,
                  "review": "Fast delivery.. Her puzzle nice nice .. My son likes .. Next order again ..",
                  "rating": 5
                },
                "62770": {
                  "review_id": 62770,
                  "review": "Kulitas good and loves each Item is tmkasih yes always subscriptions",
                  "rating": 5
                },
                "62771": {
                  "review_id": 62771,
                  "review": "The product quality is excellent.",
                  "rating": 5
                },
                "62772": {
                  "review_id": 62772,
                  "review": "Awesome speed of the ship awesome awesome quality merchandise value CP",
                  "rating": 5
                },
                "62773": {
                  "review_id": 62773,
                  "review": "Really good fit, realpic material Merawang not satisfied bgt",
                  "rating": 5
                },
                "62774": {
                  "review_id": 62774,
                  "review": "I am disappointed. Keweca why buy only 2 not buy much 😅",
                  "rating": 5
                },
                "62775": {
                  "review_id": 62775,
                  "review": "Awesome speed of the ship awesome awesome quality goods CP value awesome service Kids liked",
                  "rating": 5
                },
                "62776": {
                  "review_id": 62776,
                  "review": "It's very fast Fabrics made with it pretty well. Much money United put the cold to warm. The code even for free.",
                  "rating": 5
                },
                "62777": {
                  "review_id": 62777,
                  "review": "Nice and unique. Can be folded.",
                  "rating": 5
                },
                "62778": {
                  "review_id": 62778,
                  "review": "Delivered yesterday and today already sampee, admin responses also friendly. Hopefully suitable in cat akuu, Aamiin.  Thanks seller! 👌🏻👌🏻👌🏻",
                  "rating": 5
                },
                "62779": {
                  "review_id": 62779,
                  "review": "The seller is very friendly, reply my messages very well and quickly. The products are all good and as described 👍",
                  "rating": 5
                },
                "62780": {
                  "review_id": 62780,
                  "review": "Good product quality",
                  "rating": 5
                },
                "62781": {
                  "review_id": 62781,
                  "review": "Good bangeeet Like Gaada satisfactory product defects. Always love the products wangiii pol :))",
                  "rating": 5
                },
                "62782": {
                  "review_id": 62782,
                  "review": "Steady pkoknya, subscriptions continue was in this store, the response is super duper friendly seller, is not in doubt, rekomended really pkoknya Overall good lah, Thank bang Mantapppppppppppp",
                  "rating": 5
                },
                "62783": {
                  "review_id": 62783,
                  "review": "Product quality very good. Good value, very good. The speed of delivery, very sad. 😄😄😄😄😄😄😄😄😄😄😄😄😄😄😄😄😄😄😄😄😄😄",
                  "rating": 5
                },
                "62784": {
                  "review_id": 62784,
                  "review": "Gimme gimme was the way I wanna this was a great day of the year and we are looking at the same time as well haha was there was not the one I cannot to have ",
                  "rating": 5
                },
                "62785": {
                  "review_id": 62785,
                  "review": "good condition, arrived safely, TQ core gonna buy again repeat",
                  "rating": 5
                },
                "62786": {
                  "review_id": 62786,
                  "review": "Oath is this funny, safe and neat packing, cuman too big so aga ngembung but little cuman could Sih wrote in akalin, overalls Good sukaa",
                  "rating": 5
                },
                "62787": {
                  "review_id": 62787,
                  "review": "Excellent product quality",
                  "rating": 5
                },
                "62788": {
                  "review_id": 62788,
                  "review": "He said the new still packing, just wait kecutnya wrote ....!",
                  "rating": 5
                },
                "62789": {
                  "review_id": 62789,
                  "review": "Transport Poor's It should not be a There are multiple transportation options it proposes. I just submitted it.",
                  "rating": 5
                },
                "62790": {
                  "review_id": 62790,
                  "review": "Original goods price .. okay .. packingnya jg ok bgtt safe. Thanks seller",
                  "rating": 5
                },
                "62791": {
                  "review_id": 62791,
                  "review": "My aunt likes",
                  "rating": 5
                },
                "62792": {
                  "review_id": 62792,
                  "review": "Nice fall fall 👍🏻👍🏻",
                  "rating": 5
                },
                "62793": {
                  "review_id": 62793,
                  "review": "Sweet goods shipped fast speed Mother board cordial people over 😍",
                  "rating": 5
                },
                "62794": {
                  "review_id": 62794,
                  "review": "Fast delivery. Product quality based on the price is reasonable.",
                  "rating": 5
                },
                "62795": {
                  "review_id": 62795,
                  "review": "Awesome speed of the ship awesome awesome quality goods CP value awesome service",
                  "rating": 5
                },
                "62796": {
                  "review_id": 62796,
                  "review": "Awesome awesome speed of the ship's delivery speed fabulous quality of goods awesome awesome service value CP",
                  "rating": 5
                },
                "62797": {
                  "review_id": 62797,
                  "review": "Sorry if i'm late rating this crinkles. Because I totally forgot and shopee have to remember it for me how jeez. And yeah, this is good, this is what i want. Thank you for updating me and anwering my Q's. ",
                  "rating": 5
                },
                "62798": {
                  "review_id": 62798,
                  "review": "Excellent product quality excellent product price is very good delivery speed",
                  "rating": 5
                },
                "62799": {
                  "review_id": 62799,
                  "review": "The product quality is excellent. The original product. 😍😍😍😍😍😍😍😍 super fast delivery.",
                  "rating": 5
                },
                "62800": {
                  "review_id": 62800,
                  "review": "Goods arrived with selamatttt. Her packaging is nice and safe, no reply spill. Shipping seminggu👍🏻 Thankyou",
                  "rating": 5
                },
                "62801": {
                  "review_id": 62801,
                  "review": "Excellent product quality, good delivery, good product prices",
                  "rating": 5
                },
                "62802": {
                  "review_id": 62802,
                  "review": "The original product.",
                  "rating": 5
                },
                "62803": {
                  "review_id": 62803,
                  "review": "Fast delivery good good price. Has repeatedly buy the shop. Thank shop",
                  "rating": 5
                },
                "62804": {
                  "review_id": 62804,
                  "review": "Received in good condition and the colour was super cuuuuute!!",
                  "rating": 5
                },
                "62805": {
                  "review_id": 62805,
                  "review": "The speed I come out nice produuccct legit seller quantity freebies hehehhe way next time I'm over there in store for me thanks pooooooo Muntinlupa.",
                  "rating": 5
                },
                "62806": {
                  "review_id": 62806,
                  "review": "delivery super fast! ....................................",
                  "rating": 5
                },
                "62807": {
                  "review_id": 62807,
                  "review": "Fast delivery. Good product. Good wrapping. Will buy again.",
                  "rating": 5
                },
                "62808": {
                  "review_id": 62808,
                  "review": "Original product, excellent delivery, and response is very good seller, may be useful",
                  "rating": 5
                },
                "62809": {
                  "review_id": 62809,
                  "review": "Not nyesel shopping deh here, undersell affordable clothes can be as good as the next ini😚 would definitely order again",
                  "rating": 5
                },
                "62810": {
                  "review_id": 62810,
                  "review": "Excellent quality Very accommodating seller",
                  "rating": 5
                },
                "62811": {
                  "review_id": 62811,
                  "review": "The product quality is excellent.",
                  "rating": 5
                },
                "62812": {
                  "review_id": 62812,
                  "review": "Affordable something very like Thank you boss",
                  "rating": 5
                },
                "62813": {
                  "review_id": 62813,
                  "review": "Very good quality. Packing ok. Well worth the money. :)",
                  "rating": 5
                },
                "62814": {
                  "review_id": 62814,
                  "review": "Good value for money",
                  "rating": 5
                },
                "62815": {
                  "review_id": 62815,
                  "review": "Jogger championnya oath kece really is cool ... awful worn perhaps because the original ya say",
                  "rating": 5
                },
                "62816": {
                  "review_id": 62816,
                  "review": "to order delivery baguuuuuuuuuussssssss Cepatt",
                  "rating": 5
                },
                "62817": {
                  "review_id": 62817,
                  "review": "A bit smaller than i expected but the quality is good.. and my son loves it... Thank u",
                  "rating": 5
                },
                "62818": {
                  "review_id": 62818,
                  "review": "GDA ori Brg mslh ,, packing oke..diskon pula..recomended bgd lagh pokonya",
                  "rating": 5
                },
                "62819": {
                  "review_id": 62819,
                  "review": "Servis baek ... reply boleh2 lah .... good..belum download again.",
                  "rating": 5
                },
                "62820": {
                  "review_id": 62820,
                  "review": "Cepet shipping, packing packaging neat, Mic function well, hopefully durable, thank ya seller and shopper",
                  "rating": 5
                },
                "62821": {
                  "review_id": 62821,
                  "review": "Successfully very good Product quality is very good Pack of very fine Service is good, very good, very fast, very good value. Thank you very much impressed",
                  "rating": 5
                },
                "62822": {
                  "review_id": 62822,
                  "review": "Gatau does gmn results. Because the usual makeup mouth pink. Tp since that production and lipstick pink still UDH accompany this AWS year and a half more, so tried that red.",
                  "rating": 5
                },
                "62823": {
                  "review_id": 62823,
                  "review": "Bgt cepet stuff up. Stuff everything is smooth. DKSH purple bag Mnta wrna demand. Thanks bgt ya. Dh cheapest Dsini",
                  "rating": 5
                },
                "62824": {
                  "review_id": 62824,
                  "review": "Wear very thin, in this weather, wearing a very fit In particular, there are all kinds of models stature try suggestions, you can not waste money can buy in line with his own body on the page, fabulous, thank you !!",
                  "rating": 5
                },
                "62825": {
                  "review_id": 62825,
                  "review": "Excellent product quality excellent product price is very good delivery speed is very good seller's response",
                  "rating": 5
                },
                "62826": {
                  "review_id": 62826,
                  "review": "Sp excellent quality: crunchy chew funny pigskin mouth; cakes are delicious. Shop carefully packing delivery is also fast. Will support long-term shop",
                  "rating": 5
                },
                "62827": {
                  "review_id": 62827,
                  "review": "Makasiiihhhhhh kaaaaaaaaaaaa product matches Mudah2an outgrown clothes ga ya",
                  "rating": 5
                },
                "62828": {
                  "review_id": 62828,
                  "review": "Okay really, good stuff, good quality original products product prices ok",
                  "rating": 5
                },
                "62829": {
                  "review_id": 62829,
                  "review": "Awesome awesome quality of goods shipped speed",
                  "rating": 5
                },
                "62830": {
                  "review_id": 62830,
                  "review": "Awesome awesome quality goods CP value awesome service awesome speed of the ship",
                  "rating": 5
                },
                "62831": {
                  "review_id": 62831,
                  "review": "highly recommended. Good packaging with bubble wrap and cardboard to prevent scratches. Well done!",
                  "rating": 5
                },
                "62832": {
                  "review_id": 62832,
                  "review": "Fast response, fast delivery subscription bs bt",
                  "rating": 5
                },
                "62833": {
                  "review_id": 62833,
                  "review": "Ship out, i have to contact the seller of the new system's update ship goods out. Once bye je to ship out. Quality good mask, can buy more next time.",
                  "rating": 5
                },
                "62834": {
                  "review_id": 62834,
                  "review": "I hope the seller don't excessively seal the products by using cellophone tape.",
                  "rating": 5
                },
                "62835": {
                  "review_id": 62835,
                  "review": "Excellent product quality excellent product price is very good delivery speed",
                  "rating": 5
                },
                "62836": {
                  "review_id": 62836,
                  "review": "Direct product is cooked, good product quality. The price includes cost, price flashsale. Free shipping. Including fast delivery, use gosend sameday. Good luck always. Amen.",
                  "rating": 5
                },
                "62837": {
                  "review_id": 62837,
                  "review": "Her Packing neatly not only crackle item ama doang duct tape again. But his shoes like.",
                  "rating": 5
                },
                "62838": {
                  "review_id": 62838,
                  "review": "Good value for money",
                  "rating": 5
                },
                "62839": {
                  "review_id": 62839,
                  "review": "Thank you seller ,, please send the first pics of the new ship ,, come mbilis shoes n my orders",
                  "rating": 5
                },
                "62840": {
                  "review_id": 62840,
                  "review": "Awesome awesome speed of delivery of goods quality",
                  "rating": 5
                },
                "62841": {
                  "review_id": 62841,
                  "review": "Excellent product quality excellent product price",
                  "rating": 5
                },
                "62842": {
                  "review_id": 62842,
                  "review": "Icahn really easy to use! Cool, menstruation also will not be uncomfortable! We can buy peace of mind! !",
                  "rating": 5
                },
                "62843": {
                  "review_id": 62843,
                  "review": "Goods arrived and landed safely neatly packing the goods to order top markotop pokonya josss gsndoss",
                  "rating": 5
                },
                "62844": {
                  "review_id": 62844,
                  "review": "Excellent quality Very accommodating seller Well-packaged Item shipped immediately Will order again",
                  "rating": 5
                },
                "62845": {
                  "review_id": 62845,
                  "review": "Packed neatly and safely, cepet nyampe also goods cuman 2 days waiting",
                  "rating": 5
                },
                "62846": {
                  "review_id": 62846,
                  "review": "The product quality is excellent. The original product. The product price is very good. Delivery speed is very good. The response was excellent seller .. I sukaa",
                  "rating": 5
                },
                "62847": {
                  "review_id": 62847,
                  "review": "Goods have to ngak no abrasions, very fast delivery of the goods thanks ok nice good voice steady",
                  "rating": 5
                },
                "62848": {
                  "review_id": 62848,
                  "review": "Has arrived. Thank you 😍",
                  "rating": 5
                },
                "62849": {
                  "review_id": 62849,
                  "review": "Powerfull headlamp at reasonable price. Thanks to seller.",
                  "rating": 5
                },
                "62850": {
                  "review_id": 62850,
                  "review": "Product quality is very baik.Barang up safely. thank you",
                  "rating": 5
                },
                "62851": {
                  "review_id": 62851,
                  "review": "Thank you.",
                  "rating": 5
                },
                "62852": {
                  "review_id": 62852,
                  "review": "ppengemasan and his engiriman cepet really, check out malem, dapet UDH next delivery receipt number. hakpennya use bubble wrap 👍🏻",
                  "rating": 5
                },
                "62853": {
                  "review_id": 62853,
                  "review": "Excellent product quality excellent product price is very good seller's response",
                  "rating": 5
                },
                "62854": {
                  "review_id": 62854,
                  "review": "The product quality is not good. The product quality is excellent. The product quality is excellent.",
                  "rating": 5
                },
                "62855": {
                  "review_id": 62855,
                  "review": "Dapett gratisann JUGAAA dh subscriptions, just her delivery awhile",
                  "rating": 5
                },
                "62856": {
                  "review_id": 62856,
                  "review": "Excellent quality, good condition of the item. I also stock lng tong more scrubbing, have been used ksi ako they were the same quality because i nto cr with foam. Ksama eto gusto plain but I have the color green. Ty",
                  "rating": 5
                },
                "62857": {
                  "review_id": 62857,
                  "review": "Excellent product quality excellent product quality product packaging is very beautiful and certainly",
                  "rating": 5
                },
                "62858": {
                  "review_id": 62858,
                  "review": "Cheap, good-looking and good wear oh Very soft yeah",
                  "rating": 5
                },
                "62859": {
                  "review_id": 62859,
                  "review": "Excellent delivery speed Excellent product quality",
                  "rating": 5
                },
                "62860": {
                  "review_id": 62860,
                  "review": "peevish resistant high-grade best style created for tebaik keungulan",
                  "rating": 5
                },
                "62861": {
                  "review_id": 62861,
                  "review": "fast delivery 😍😍 safe packing thank you so much ❤️😂🙏🏻",
                  "rating": 5
                },
                "62862": {
                  "review_id": 62862,
                  "review": "Super super,,",
                  "rating": 5
                },
                "62863": {
                  "review_id": 62863,
                  "review": "Okay really ,, Cool material to make comfortable in pakenya well.",
                  "rating": 5
                },
                "62864": {
                  "review_id": 62864,
                  "review": "heavy, with 2 screw each. I can not imagine g attached to the door since we're just renting. strength makasosyal apartment",
                  "rating": 5
                },
                "62865": {
                  "review_id": 62865,
                  "review": "Excellent product quality The product price is very good The response is very good seller The fate of fitting me who bought the old fitting",
                  "rating": 5
                },
                "62866": {
                  "review_id": 62866,
                  "review": "Excellent product quality excellent product price is very good delivery speed is very good seller's response",
                  "rating": 5
                },
                "62867": {
                  "review_id": 62867,
                  "review": "Compared vs right image",
                  "rating": 5
                },
                "62868": {
                  "review_id": 62868,
                  "review": "Cepet sampenya the best material quality is really good soft",
                  "rating": 5
                },
                "62869": {
                  "review_id": 62869,
                  "review": "good service, time pngemasan and fast delivery, good product quality.",
                  "rating": 5
                },
                "62870": {
                  "review_id": 62870,
                  "review": "Excellent quality",
                  "rating": 5
                },
                "62871": {
                  "review_id": 62871,
                  "review": "BRG is ok, the store can make a subscription.",
                  "rating": 5
                },
                "62872": {
                  "review_id": 62872,
                  "review": "very cute clothes. pn good seller. trgnggu shipping covid 19 bit follows.",
                  "rating": 5
                },
                "62873": {
                  "review_id": 62873,
                  "review": "Material well 👍🏻👍🏻 🥰🥰 good to wear comfortable ~ ~ ~ Snoopy cute 😘😘😘",
                  "rating": 5
                },
                "62874": {
                  "review_id": 62874,
                  "review": "Excellent product quality excellent product price is very good delivery speed is very good seller's response",
                  "rating": 5
                },
                "62875": {
                  "review_id": 62875,
                  "review": "Bestnye cloth confirm him .... cool .... x ... terbaekk hot ..",
                  "rating": 5
                },
                "62876": {
                  "review_id": 62876,
                  "review": "The original product. The product quality is excellent. The product price is very good. Delivery speed is very good. The response is very good seller.",
                  "rating": 5
                },
                "62877": {
                  "review_id": 62877,
                  "review": "Laptop delivered with good conditon ,no lag at any software or games.so fast gaming machine however the package of the item so safe.fast delivery too ",
                  "rating": 5
                },
                "62878": {
                  "review_id": 62878,
                  "review": "complete ... the seller send picture before delivering the product ... no defective product ... and all in good condition ... also speed of delivery ... thanks seller",
                  "rating": 5
                },
                "62879": {
                  "review_id": 62879,
                  "review": "Alhamdulillah goods arrive safely although cardboard packaging on a bender but thank God it GPP",
                  "rating": 5
                },
                "62880": {
                  "review_id": 62880,
                  "review": "Ksh would upset what gifts to friends / Sodara nearby? Aja hijab passable and buy here .. its cool and nice material lg, not disappointed dh for ngadoin to friends. Mksh yes kak☺️",
                  "rating": 5
                },
                "62881": {
                  "review_id": 62881,
                  "review": "Cool hours, just long dipengiriman wrote until 5 days ........",
                  "rating": 5
                },
                "62882": {
                  "review_id": 62882,
                  "review": "Awesome awesome speed of delivery of goods quality",
                  "rating": 5
                },
                "62883": {
                  "review_id": 62883,
                  "review": "Awesome awesome speed of the ship's delivery speed fabulous quality of goods awesome CP values ​​awesome service second buyback 🎁 a lot of good small gift intimate handwritten note ❤️",
                  "rating": 5
                },
                "62884": {
                  "review_id": 62884,
                  "review": "Good quality case. Air bubble wrap yet when I nareceived! Complete and correct all sent. The speed I nareceived. Thankyou seller! Again please.",
                  "rating": 5
                },
                "62885": {
                  "review_id": 62885,
                  "review": "nice nice nice nice nice nice nice nice nice nice nice nice nice nice nice nice nice nice nice nice nice nice nice nice nice nice nice nice nice nice nice nice nice nice nice nice nice nice nice nice nice nice nice nice nice nice nice nice nice nice",
                  "rating": 5
                },
                "62886": {
                  "review_id": 62886,
                  "review": "The package arrived safely, not ever regret buying here, always satisfied 😍 Thank ya kak",
                  "rating": 5
                },
                "62887": {
                  "review_id": 62887,
                  "review": "Turns bucketnya too big. Kirain small. Pas was created Naro dirty clothes. Delivery cepet really, pesen yesterday till today. Packing too neat bgt",
                  "rating": 5
                },
                "62888": {
                  "review_id": 62888,
                  "review": "Good product quality Good value for money Fast delivery  will continue support ",
                  "rating": 5
                },
                "62889": {
                  "review_id": 62889,
                  "review": "Drawn use rubber pouch. But who come use common plastic GPP lah..moga wrote cust Like",
                  "rating": 5
                },
                "62890": {
                  "review_id": 62890,
                  "review": "Bismillahirrahmanirrahim 🙏🙏",
                  "rating": 5
                },
                "62891": {
                  "review_id": 62891,
                  "review": "Product quality is very good Very good value Speed ​​of delivery is very good. Very good service from the store.",
                  "rating": 5
                },
                "62892": {
                  "review_id": 62892,
                  "review": "Alhamdulillah package until home safely, without any leaky or rusakk. Larissa beneran the most suitable product in front of me, make dependence jg ga produknyaa. Anyway the best dehhh larissa Online shopping ajaa passing fad like nyobain wrote larissa service for online product that 🥰🥰",
                  "rating": 5
                },
                "62893": {
                  "review_id": 62893,
                  "review": "The second time I have already ordered the shop, the speed of transactions imminent, ...",
                  "rating": 5
                },
                "62894": {
                  "review_id": 62894,
                  "review": "Good value for money",
                  "rating": 5
                },
                "62895": {
                  "review_id": 62895,
                  "review": "Customers like shape",
                  "rating": 5
                },
                "62896": {
                  "review_id": 62896,
                  "review": "Excellent product quality very nice packaging products and certainly excellent product quality very good service Shop money very good very fast delivery time",
                  "rating": 5
                },
                "62897": {
                  "review_id": 62897,
                  "review": "steady package has arrived, this usage of the third of its times I wear is already quite a long time from December 2019 until now wear is already fit before me and there is no change regarding the problem of acne and dull skin its principal thebest dah life of these products ga nyesel mesen this product.",
                  "rating": 5
                },
                "62898": {
                  "review_id": 62898,
                  "review": "Quality goods according to the price always successful greetings",
                  "rating": 5
                },
                "62899": {
                  "review_id": 62899,
                  "review": "Product has been very quick to order Sunday morning Tuesday received. Strong new product applications have not been tested by a well designed product. Using a modern, safe, cost-saving.",
                  "rating": 5
                },
                "62900": {
                  "review_id": 62900,
                  "review": "Good value for money Good product quality",
                  "rating": 5
                },
                "62901": {
                  "review_id": 62901,
                  "review": "Is the distribution of good quality, suitable price, fast delivery, the code used, lsau supporters",
                  "rating": 5
                },
                "62902": {
                  "review_id": 62902,
                  "review": "consulting shops are very enthusiastic",
                  "rating": 5
                },
                "62903": {
                  "review_id": 62903,
                  "review": "Awesome awesome merchandise quality merchandise quality",
                  "rating": 5
                },
                "62904": {
                  "review_id": 62904,
                  "review": "Excellent product quality",
                  "rating": 5
                },
                "62905": {
                  "review_id": 62905,
                  "review": "Good quality, fast water, friendly price, the clerk kindly",
                  "rating": 5
                },
                "62906": {
                  "review_id": 62906,
                  "review": "Nice product",
                  "rating": 5
                },
                "62907": {
                  "review_id": 62907,
                  "review": "Goods come in accordance with the orders of all. Goods individually wrapped with bubble wrap and still sealed tidy. Both times the message here, only the second time no bonus samplenya. Neat packaging and delivery in line with expectations",
                  "rating": 5
                },
                "62908": {
                  "review_id": 62908,
                  "review": "Excellent product quality penhiriman good price good product",
                  "rating": 5
                },
                "62909": {
                  "review_id": 62909,
                  "review": "Good value for money",
                  "rating": 5
                },
                "62910": {
                  "review_id": 62910,
                  "review": "Sipp bngt, according gambar..bagus and satisfying, trimaksih avanz24, happy to order equally km, gx disappointed ..",
                  "rating": 5
                },
                "62911": {
                  "review_id": 62911,
                  "review": "Awesome awesome speed of delivery of goods quality",
                  "rating": 5
                },
                "62912": {
                  "review_id": 62912,
                  "review": "Dah stuff up .... thanks seller ...",
                  "rating": 5
                },
                "62913": {
                  "review_id": 62913,
                  "review": "Has shipped It was the model that fits the cute items not hurt. But transportation is relatively slow, but because it comes from abroad.",
                  "rating": 5
                },
                "62914": {
                  "review_id": 62914,
                  "review": "Awesome awesome speed of the ship's value CP",
                  "rating": 5
                },
                "62915": {
                  "review_id": 62915,
                  "review": "but already in lebihin one of its usual size which 30 will be rather big kirain little, small TPI, fortunately still fitting in use ga kekcilan so. bgus stuff I like, maybe in the future I add more size if Pewen. thank you",
                  "rating": 5
                },
                "62916": {
                  "review_id": 62916,
                  "review": "The product quality is excellent.",
                  "rating": 5
                },
                "62917": {
                  "review_id": 62917,
                  "review": "Excellent product quality, original product, the price of the product is very good, delivery speed is good and the seller is also very good response ... stuff I sent a safer and packinganya very neat and safety ... NEVER disappointed here loves shopping Dech",
                  "rating": 5
                }
              }
            },
            "text/plain": [
              "       review_id                                             review  rating\n",
              "0              0                                      slow delivery       1\n",
              "1              1               Dateng goods do not conform pesanan😔       1\n",
              "2              2                             PSN k its 20 other DTG       1\n",
              "3              3  I am expected that it have a frame and painted...       1\n",
              "4              4                   The product quality is not good.       1\n",
              "...          ...                                                ...     ...\n",
              "62913      62913  Has shipped It was the model that fits the cut...       5\n",
              "62914      62914       Awesome awesome speed of the ship's value CP       5\n",
              "62915      62915  but already in lebihin one of its usual size w...       5\n",
              "62916      62916                  The product quality is excellent.       5\n",
              "62917      62917  Excellent product quality, original product, t...       5\n",
              "\n",
              "[62918 rows x 3 columns]"
            ],
            "text/html": [
              "<div>\n",
              "<style scoped>\n",
              "    .dataframe tbody tr th:only-of-type {\n",
              "        vertical-align: middle;\n",
              "    }\n",
              "\n",
              "    .dataframe tbody tr th {\n",
              "        vertical-align: top;\n",
              "    }\n",
              "\n",
              "    .dataframe thead th {\n",
              "        text-align: right;\n",
              "    }\n",
              "</style>\n",
              "<table border=\"1\" class=\"dataframe\">\n",
              "  <thead>\n",
              "    <tr style=\"text-align: right;\">\n",
              "      <th></th>\n",
              "      <th>review_id</th>\n",
              "      <th>review</th>\n",
              "      <th>rating</th>\n",
              "    </tr>\n",
              "  </thead>\n",
              "  <tbody>\n",
              "    <tr>\n",
              "      <th>0</th>\n",
              "      <td>0</td>\n",
              "      <td>slow delivery</td>\n",
              "      <td>1</td>\n",
              "    </tr>\n",
              "    <tr>\n",
              "      <th>1</th>\n",
              "      <td>1</td>\n",
              "      <td>Dateng goods do not conform pesanan😔</td>\n",
              "      <td>1</td>\n",
              "    </tr>\n",
              "    <tr>\n",
              "      <th>2</th>\n",
              "      <td>2</td>\n",
              "      <td>PSN k its 20 other DTG</td>\n",
              "      <td>1</td>\n",
              "    </tr>\n",
              "    <tr>\n",
              "      <th>3</th>\n",
              "      <td>3</td>\n",
              "      <td>I am expected that it have a frame and painted...</td>\n",
              "      <td>1</td>\n",
              "    </tr>\n",
              "    <tr>\n",
              "      <th>4</th>\n",
              "      <td>4</td>\n",
              "      <td>The product quality is not good.</td>\n",
              "      <td>1</td>\n",
              "    </tr>\n",
              "    <tr>\n",
              "      <th>5</th>\n",
              "      <td>5</td>\n",
              "      <td>goods came really not the same as shown in the...</td>\n",
              "      <td>1</td>\n",
              "    </tr>\n",
              "    <tr>\n",
              "      <th>6</th>\n",
              "      <td>6</td>\n",
              "      <td>Q order came quickly but im so very disappoint...</td>\n",
              "      <td>1</td>\n",
              "    </tr>\n",
              "    <tr>\n",
              "      <th>7</th>\n",
              "      <td>7</td>\n",
              "      <td>Aprox 1 bjunyaa</td>\n",
              "      <td>1</td>\n",
              "    </tr>\n",
              "    <tr>\n",
              "      <th>8</th>\n",
              "      <td>8</td>\n",
              "      <td>Send a brown color to black, very sick.</td>\n",
              "      <td>1</td>\n",
              "    </tr>\n",
              "    <tr>\n",
              "      <th>9</th>\n",
              "      <td>9</td>\n",
              "      <td>Did not receive item Will not order again</td>\n",
              "      <td>1</td>\n",
              "    </tr>\n",
              "    <tr>\n",
              "      <th>10</th>\n",
              "      <td>10</td>\n",
              "      <td>Open items have dumbfounded used to look over ...</td>\n",
              "      <td>1</td>\n",
              "    </tr>\n",
              "    <tr>\n",
              "      <th>11</th>\n",
              "      <td>11</td>\n",
              "      <td>The product quality is not good. There is a flaw</td>\n",
              "      <td>1</td>\n",
              "    </tr>\n",
              "    <tr>\n",
              "      <th>12</th>\n",
              "      <td>12</td>\n",
              "      <td>Good product but right ga ga given promises ch...</td>\n",
              "      <td>1</td>\n",
              "    </tr>\n",
              "    <tr>\n",
              "      <th>13</th>\n",
              "      <td>13</td>\n",
              "      <td>product defects</td>\n",
              "      <td>1</td>\n",
              "    </tr>\n",
              "    <tr>\n",
              "      <th>14</th>\n",
              "      <td>14</td>\n",
              "      <td>Of 5 orders ... motif that BNR's just ... hope...</td>\n",
              "      <td>1</td>\n",
              "    </tr>\n",
              "    <tr>\n",
              "      <th>15</th>\n",
              "      <td>15</td>\n",
              "      <td>Item shipped late</td>\n",
              "      <td>1</td>\n",
              "    </tr>\n",
              "    <tr>\n",
              "      <th>16</th>\n",
              "      <td>16</td>\n",
              "      <td>Sandals too little, just like sz 35.36 only. S...</td>\n",
              "      <td>1</td>\n",
              "    </tr>\n",
              "    <tr>\n",
              "      <th>17</th>\n",
              "      <td>17</td>\n",
              "      <td>Quality is ok but the size chart is wrong it s...</td>\n",
              "      <td>1</td>\n",
              "    </tr>\n",
              "    <tr>\n",
              "      <th>18</th>\n",
              "      <td>18</td>\n",
              "      <td>Not to order .... very kecwa ..... very jero jero</td>\n",
              "      <td>1</td>\n",
              "    </tr>\n",
              "    <tr>\n",
              "      <th>19</th>\n",
              "      <td>19</td>\n",
              "      <td>D beautiful packaging so nagcrack nong shippin...</td>\n",
              "      <td>1</td>\n",
              "    </tr>\n",
              "    <tr>\n",
              "      <th>20</th>\n",
              "      <td>20</td>\n",
              "      <td>Her stuff is nice but it really black color at...</td>\n",
              "      <td>1</td>\n",
              "    </tr>\n",
              "    <tr>\n",
              "      <th>21</th>\n",
              "      <td>21</td>\n",
              "      <td>produkny writing HRG to 3 pcs, shipped tp cm 1...</td>\n",
              "      <td>1</td>\n",
              "    </tr>\n",
              "    <tr>\n",
              "      <th>22</th>\n",
              "      <td>22</td>\n",
              "      <td>The products do not original.</td>\n",
              "      <td>1</td>\n",
              "    </tr>\n",
              "    <tr>\n",
              "      <th>23</th>\n",
              "      <td>23</td>\n",
              "      <td>Messages are sent only 1, 3 pca complained unc...</td>\n",
              "      <td>1</td>\n",
              "    </tr>\n",
              "    <tr>\n",
              "      <th>24</th>\n",
              "      <td>24</td>\n",
              "      <td>directly interested order 20pcs. Brang come, t...</td>\n",
              "      <td>1</td>\n",
              "    </tr>\n",
              "    <tr>\n",
              "      <th>25</th>\n",
              "      <td>25</td>\n",
              "      <td>Product quality is very poor very unnecessary...</td>\n",
              "      <td>1</td>\n",
              "    </tr>\n",
              "    <tr>\n",
              "      <th>26</th>\n",
              "      <td>26</td>\n",
              "      <td>Courier J &amp; T expires sanggat disappointed, no...</td>\n",
              "      <td>1</td>\n",
              "    </tr>\n",
              "    <tr>\n",
              "      <th>27</th>\n",
              "      <td>27</td>\n",
              "      <td>Potatoes come already slimy and some slightly ...</td>\n",
              "      <td>1</td>\n",
              "    </tr>\n",
              "    <tr>\n",
              "      <th>28</th>\n",
              "      <td>28</td>\n",
              "      <td>The product quality is not good</td>\n",
              "      <td>1</td>\n",
              "    </tr>\n",
              "    <tr>\n",
              "      <th>29</th>\n",
              "      <td>29</td>\n",
              "      <td>I received 4 pairs .. pajamas 1 is small in si...</td>\n",
              "      <td>1</td>\n",
              "    </tr>\n",
              "    <tr>\n",
              "      <th>...</th>\n",
              "      <td>...</td>\n",
              "      <td>...</td>\n",
              "      <td>...</td>\n",
              "    </tr>\n",
              "    <tr>\n",
              "      <th>62888</th>\n",
              "      <td>62888</td>\n",
              "      <td>Good product quality Good value for money Fast...</td>\n",
              "      <td>5</td>\n",
              "    </tr>\n",
              "    <tr>\n",
              "      <th>62889</th>\n",
              "      <td>62889</td>\n",
              "      <td>Drawn use rubber pouch. But who come use commo...</td>\n",
              "      <td>5</td>\n",
              "    </tr>\n",
              "    <tr>\n",
              "      <th>62890</th>\n",
              "      <td>62890</td>\n",
              "      <td>Bismillahirrahmanirrahim 🙏🙏</td>\n",
              "      <td>5</td>\n",
              "    </tr>\n",
              "    <tr>\n",
              "      <th>62891</th>\n",
              "      <td>62891</td>\n",
              "      <td>Product quality is very good Very good value S...</td>\n",
              "      <td>5</td>\n",
              "    </tr>\n",
              "    <tr>\n",
              "      <th>62892</th>\n",
              "      <td>62892</td>\n",
              "      <td>Alhamdulillah package until home safely, witho...</td>\n",
              "      <td>5</td>\n",
              "    </tr>\n",
              "    <tr>\n",
              "      <th>62893</th>\n",
              "      <td>62893</td>\n",
              "      <td>The second time I have already ordered the sho...</td>\n",
              "      <td>5</td>\n",
              "    </tr>\n",
              "    <tr>\n",
              "      <th>62894</th>\n",
              "      <td>62894</td>\n",
              "      <td>Good value for money</td>\n",
              "      <td>5</td>\n",
              "    </tr>\n",
              "    <tr>\n",
              "      <th>62895</th>\n",
              "      <td>62895</td>\n",
              "      <td>Customers like shape</td>\n",
              "      <td>5</td>\n",
              "    </tr>\n",
              "    <tr>\n",
              "      <th>62896</th>\n",
              "      <td>62896</td>\n",
              "      <td>Excellent product quality very nice packaging ...</td>\n",
              "      <td>5</td>\n",
              "    </tr>\n",
              "    <tr>\n",
              "      <th>62897</th>\n",
              "      <td>62897</td>\n",
              "      <td>steady package has arrived, this usage of the ...</td>\n",
              "      <td>5</td>\n",
              "    </tr>\n",
              "    <tr>\n",
              "      <th>62898</th>\n",
              "      <td>62898</td>\n",
              "      <td>Quality goods according to the price always su...</td>\n",
              "      <td>5</td>\n",
              "    </tr>\n",
              "    <tr>\n",
              "      <th>62899</th>\n",
              "      <td>62899</td>\n",
              "      <td>Product has been very quick to order Sunday mo...</td>\n",
              "      <td>5</td>\n",
              "    </tr>\n",
              "    <tr>\n",
              "      <th>62900</th>\n",
              "      <td>62900</td>\n",
              "      <td>Good value for money Good product quality</td>\n",
              "      <td>5</td>\n",
              "    </tr>\n",
              "    <tr>\n",
              "      <th>62901</th>\n",
              "      <td>62901</td>\n",
              "      <td>Is the distribution of good quality, suitable ...</td>\n",
              "      <td>5</td>\n",
              "    </tr>\n",
              "    <tr>\n",
              "      <th>62902</th>\n",
              "      <td>62902</td>\n",
              "      <td>consulting shops are very enthusiastic</td>\n",
              "      <td>5</td>\n",
              "    </tr>\n",
              "    <tr>\n",
              "      <th>62903</th>\n",
              "      <td>62903</td>\n",
              "      <td>Awesome awesome merchandise quality merchandis...</td>\n",
              "      <td>5</td>\n",
              "    </tr>\n",
              "    <tr>\n",
              "      <th>62904</th>\n",
              "      <td>62904</td>\n",
              "      <td>Excellent product quality</td>\n",
              "      <td>5</td>\n",
              "    </tr>\n",
              "    <tr>\n",
              "      <th>62905</th>\n",
              "      <td>62905</td>\n",
              "      <td>Good quality, fast water, friendly price, the ...</td>\n",
              "      <td>5</td>\n",
              "    </tr>\n",
              "    <tr>\n",
              "      <th>62906</th>\n",
              "      <td>62906</td>\n",
              "      <td>Nice product</td>\n",
              "      <td>5</td>\n",
              "    </tr>\n",
              "    <tr>\n",
              "      <th>62907</th>\n",
              "      <td>62907</td>\n",
              "      <td>Goods come in accordance with the orders of al...</td>\n",
              "      <td>5</td>\n",
              "    </tr>\n",
              "    <tr>\n",
              "      <th>62908</th>\n",
              "      <td>62908</td>\n",
              "      <td>Excellent product quality penhiriman good pric...</td>\n",
              "      <td>5</td>\n",
              "    </tr>\n",
              "    <tr>\n",
              "      <th>62909</th>\n",
              "      <td>62909</td>\n",
              "      <td>Good value for money</td>\n",
              "      <td>5</td>\n",
              "    </tr>\n",
              "    <tr>\n",
              "      <th>62910</th>\n",
              "      <td>62910</td>\n",
              "      <td>Sipp bngt, according gambar..bagus and satisfy...</td>\n",
              "      <td>5</td>\n",
              "    </tr>\n",
              "    <tr>\n",
              "      <th>62911</th>\n",
              "      <td>62911</td>\n",
              "      <td>Awesome awesome speed of delivery of goods qua...</td>\n",
              "      <td>5</td>\n",
              "    </tr>\n",
              "    <tr>\n",
              "      <th>62912</th>\n",
              "      <td>62912</td>\n",
              "      <td>Dah stuff up .... thanks seller ...</td>\n",
              "      <td>5</td>\n",
              "    </tr>\n",
              "    <tr>\n",
              "      <th>62913</th>\n",
              "      <td>62913</td>\n",
              "      <td>Has shipped It was the model that fits the cut...</td>\n",
              "      <td>5</td>\n",
              "    </tr>\n",
              "    <tr>\n",
              "      <th>62914</th>\n",
              "      <td>62914</td>\n",
              "      <td>Awesome awesome speed of the ship's value CP</td>\n",
              "      <td>5</td>\n",
              "    </tr>\n",
              "    <tr>\n",
              "      <th>62915</th>\n",
              "      <td>62915</td>\n",
              "      <td>but already in lebihin one of its usual size w...</td>\n",
              "      <td>5</td>\n",
              "    </tr>\n",
              "    <tr>\n",
              "      <th>62916</th>\n",
              "      <td>62916</td>\n",
              "      <td>The product quality is excellent.</td>\n",
              "      <td>5</td>\n",
              "    </tr>\n",
              "    <tr>\n",
              "      <th>62917</th>\n",
              "      <td>62917</td>\n",
              "      <td>Excellent product quality, original product, t...</td>\n",
              "      <td>5</td>\n",
              "    </tr>\n",
              "  </tbody>\n",
              "</table>\n",
              "<p>62918 rows × 3 columns</p>\n",
              "</div>"
            ]
          },
          "metadata": {
            "tags": []
          },
          "execution_count": 28
        }
      ]
    },
    {
      "cell_type": "code",
      "metadata": {
        "id": "fhASaIn5yEVX",
        "colab_type": "code",
        "cell_id": "ee52c63a-7f0c-4a0f-9568-ab31b8913eb4",
        "colab": {}
      },
      "source": [
        "test[['review_id','rating']].to_csv('/home/jovyan/work/submission.csv',index=False)"
      ],
      "execution_count": null,
      "outputs": []
    },
    {
      "cell_type": "code",
      "metadata": {
        "tags": [],
        "cell_id": "a78740d2-0d46-483a-968f-a550d6646c7e",
        "id": "cnto0x086b64",
        "colab_type": "code",
        "colab": {}
      },
      "source": [
        ""
      ],
      "execution_count": null,
      "outputs": []
    }
  ]
}